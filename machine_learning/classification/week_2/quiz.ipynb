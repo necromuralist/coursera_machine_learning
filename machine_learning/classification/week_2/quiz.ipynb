{
 "cells": [
  {
   "cell_type": "code",
   "execution_count": 1,
   "metadata": {
    "autoscroll": "json-false",
    "collapsed": false,
    "ein.tags": [
     "worksheet-0"
    ]
   },
   "outputs": [],
   "source": [
    "import numpy"
   ]
  },
  {
   "cell_type": "code",
   "execution_count": 2,
   "metadata": {
    "autoscroll": "json-false",
    "collapsed": false,
    "ein.tags": [
     "worksheet-0"
    ]
   },
   "outputs": [],
   "source": [
    "weights = numpy.array([1])"
   ]
  },
  {
   "cell_type": "code",
   "execution_count": 3,
   "metadata": {
    "autoscroll": "json-false",
    "collapsed": false,
    "ein.tags": [
     "worksheet-0"
    ]
   },
   "outputs": [],
   "source": [
    "x_s = numpy.array([2.5, 0.3, 2.8, 0.5])\n",
    "y = numpy.array([1, -1, 1, 1])\n",
    "one_or_zero = (y + 1)/2"
   ]
  },
  {
   "cell_type": "code",
   "execution_count": 4,
   "metadata": {
    "autoscroll": "json-false",
    "collapsed": false,
    "ein.tags": [
     "worksheet-0"
    ]
   },
   "outputs": [],
   "source": [
    "def probability(weights, x):\n",
    "    return 1/(1 + numpy.exp(-weights.dot(x)))"
   ]
  },
  {
   "cell_type": "code",
   "execution_count": 5,
   "metadata": {
    "autoscroll": "json-false",
    "collapsed": false,
    "ein.tags": [
     "worksheet-0"
    ]
   },
   "outputs": [],
   "source": [
    "test_w = numpy.array([1, -2])\n",
    "test_xs = [numpy.array([2, 1]), numpy.array([0, 2]), numpy.array([3, 3]), numpy.array([4, 1])]\n",
    "tolerance = 0.01\n",
    "expecteds = [.5, .02, .05, .88]\n",
    "for index, x in enumerate(test_xs):\n",
    "    assert expecteds[index] - probability(test_w, x) < tolerance"
   ]
  },
  {
   "cell_type": "code",
   "execution_count": 6,
   "metadata": {
    "autoscroll": "json-false",
    "collapsed": false,
    "ein.tags": [
     "worksheet-0"
    ]
   },
   "outputs": [
    {
     "name": "stdout",
     "output_type": "stream",
     "text": [
      "[ 0.23076514]\n"
     ]
    }
   ],
   "source": [
    "data_likelihood = 1\n",
    "likelihoods = []\n",
    "for index, x in enumerate(x_s):\n",
    "    likelihoods.append(probability(weights, numpy.array(x)) if y[index] >= 0\n",
    "                       else 1 - probability(weights, numpy.array(x)))\n",
    "    \n",
    "    \n",
    "for likelihood in likelihoods:\n",
    "    data_likelihood *= likelihood\n",
    "print(data_likelihood)    "
   ]
  },
  {
   "cell_type": "code",
   "execution_count": 7,
   "metadata": {
    "autoscroll": "json-false",
    "collapsed": false,
    "ein.tags": [
     "worksheet-0"
    ]
   },
   "outputs": [
    {
     "name": "stdout",
     "output_type": "stream",
     "text": [
      "[array([ 0.92414182]), array([ 0.42555748]), array([ 0.94267582]), array([ 0.62245933])]\n"
     ]
    }
   ],
   "source": [
    "print(likelihoods)"
   ]
  },
  {
   "cell_type": "code",
   "execution_count": 8,
   "metadata": {
    "autoscroll": "json-false",
    "collapsed": false,
    "ein.tags": [
     "worksheet-0"
    ]
   },
   "outputs": [
    {
     "name": "stdout",
     "output_type": "stream",
     "text": [
      "[array([ 0.18964545]), array([-0.12766724]), array([ 0.16050769]), array([ 0.18877033])]\n"
     ]
    }
   ],
   "source": [
    "w_1_contributions = []\n",
    "for index, x in enumerate(x_s):\n",
    "    w_1_contributions.append(x * (one_or_zero[index] - likelihoods[index]))\n",
    "print(w_1_contributions)    "
   ]
  },
  {
   "cell_type": "code",
   "execution_count": 9,
   "metadata": {
    "autoscroll": "json-false",
    "collapsed": false,
    "ein.tags": [
     "worksheet-0"
    ]
   },
   "outputs": [
    {
     "name": "stdout",
     "output_type": "stream",
     "text": [
      "[ 0.41125623]\n"
     ]
    }
   ],
   "source": [
    "total_derivative = sum(w_1_contributions)\n",
    "print(total_derivative)"
   ]
  }
 ],
 "metadata": {},
 "nbformat": 4,
 "nbformat_minor": 0
}
