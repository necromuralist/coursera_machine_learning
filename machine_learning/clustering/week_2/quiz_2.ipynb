{
 "cells": [
  {
   "cell_type": "code",
   "execution_count": 179,
   "metadata": {
    "autoscroll": "json-false",
    "collapsed": false,
    "ein.tags": [
     "worksheet-0"
    ]
   },
   "outputs": [],
   "source": [
    "import numpy\n",
    "import pandas\n",
    "from scipy.spatial.distance import euclidean"
   ]
  },
  {
   "cell_type": "markdown",
   "metadata": {
    "ein.tags": [
     "worksheet-0"
    ]
   },
   "source": [
    "# Question 1"
   ]
  },
  {
   "cell_type": "markdown",
   "metadata": {
    "ein.tags": [
     "worksheet-0"
    ]
   },
   "source": [
    "What is not true of KD-trees?"
   ]
  },
  {
   "cell_type": "markdown",
   "metadata": {
    "ein.tags": [
     "worksheet-0"
    ]
   },
   "source": [
    "It can be used only for approximate nearest neighbor search but not for exact nearest neighbor search."
   ]
  },
  {
   "cell_type": "markdown",
   "metadata": {
    "ein.tags": [
     "worksheet-0"
    ]
   },
   "source": [
    "# Question 2"
   ]
  },
  {
   "cell_type": "code",
   "execution_count": 174,
   "metadata": {
    "autoscroll": "json-false",
    "collapsed": false,
    "ein.tags": [
     "worksheet-0"
    ]
   },
   "outputs": [],
   "source": [
    "x1 = [-1.58, 0.91, -0.73, -4.22, 4.19, -0.33]\n",
    "x2 = [-2.01, 3.98, 4.00, 1.16, -2.02, 2.15]\n",
    "points = {value: \"Data Point {0}\".format(index + 1) for index, value in enumerate(x1)}\n",
    "assert len(x1) == len(x2)"
   ]
  },
  {
   "cell_type": "code",
   "execution_count": 151,
   "metadata": {
    "autoscroll": "json-false",
    "collapsed": false,
    "ein.tags": [
     "worksheet-0"
    ]
   },
   "outputs": [],
   "source": [
    "data = pandas.DataFrame({'x1': x1, 'x2': x2})"
   ]
  },
  {
   "cell_type": "markdown",
   "metadata": {
    "ein.tags": [
     "worksheet-0"
    ]
   },
   "source": [
    "#. First split on x1, then x2 and alternate after that.\n",
    "#. use 'middle-of-the-range' as the heuristic for the split (based on the maximum and minimum of the points)\n",
    "#. keep subdiviing until everp leaf node contains 2 or fewer points"
   ]
  },
  {
   "cell_type": "markdown",
   "metadata": {
    "ein.tags": [
     "worksheet-0"
    ]
   },
   "source": [
    "What is the split value used for the first split?"
   ]
  },
  {
   "cell_type": "code",
   "execution_count": 152,
   "metadata": {
    "autoscroll": "json-false",
    "collapsed": false,
    "ein.tags": [
     "worksheet-0"
    ]
   },
   "outputs": [],
   "source": [
    "def split_value(vector):\n",
    "    \"\"\"\n",
    "    :return: 'middle' value\n",
    "    \"\"\"\n",
    "    return (vector.max() + vector.min())/2"
   ]
  },
  {
   "cell_type": "code",
   "execution_count": 153,
   "metadata": {
    "autoscroll": "json-false",
    "collapsed": false,
    "ein.tags": [
     "worksheet-0"
    ]
   },
   "outputs": [
    {
     "name": "stdout",
     "output_type": "stream",
     "text": [
      "-0.015\n"
     ]
    }
   ],
   "source": [
    "sv = split_value(data.x1)\n",
    "print(sv)"
   ]
  },
  {
   "cell_type": "code",
   "execution_count": 154,
   "metadata": {
    "autoscroll": "json-false",
    "collapsed": false,
    "ein.tags": [
     "worksheet-0"
    ]
   },
   "outputs": [],
   "source": [
    "def split_on(parent, vector, value):\n",
    "    \"\"\"\n",
    "    :param:\n",
    "     - `parent`: matrix to split\n",
    "     - `vector`: vector in matrix to compare\n",
    "     - `value`: split-value\n",
    "    \"\"\"\n",
    "    return parent[vector < value], parent[vector >= value]"
   ]
  },
  {
   "cell_type": "code",
   "execution_count": 155,
   "metadata": {
    "autoscroll": "json-false",
    "collapsed": false,
    "ein.tags": [
     "worksheet-0"
    ]
   },
   "outputs": [
    {
     "name": "stdout",
     "output_type": "stream",
     "text": [
      "     x1    x2\n",
      "0 -1.58 -2.01\n",
      "2 -0.73  4.00\n",
      "3 -4.22  1.16\n",
      "5 -0.33  2.15\n",
      "\n",
      "     x1    x2\n",
      "1  0.91  3.98\n",
      "4  4.19 -2.02\n"
     ]
    }
   ],
   "source": [
    "tree = {}\n",
    "left, right = split_on(data, data.x1, sv)\n",
    "tree['root'] = {'left': left,\n",
    "                'right': right}\n",
    "print(tree['root']['left'])\n",
    "print\n",
    "print(tree['root']['right'])"
   ]
  },
  {
   "cell_type": "markdown",
   "metadata": {
    "ein.tags": [
     "worksheet-0"
    ]
   },
   "source": [
    "# Question 3"
   ]
  },
  {
   "cell_type": "markdown",
   "metadata": {
    "ein.tags": [
     "worksheet-0"
    ]
   },
   "source": [
    "What is the split value for the second split?"
   ]
  },
  {
   "cell_type": "code",
   "execution_count": 156,
   "metadata": {
    "autoscroll": "json-false",
    "collapsed": false,
    "ein.tags": [
     "worksheet-0"
    ]
   },
   "outputs": [
    {
     "name": "stdout",
     "output_type": "stream",
     "text": [
      "0.995\n"
     ]
    }
   ],
   "source": [
    "sv = split_value(tree['root']['left'].x2)\n",
    "print(sv)"
   ]
  },
  {
   "cell_type": "code",
   "execution_count": 157,
   "metadata": {
    "autoscroll": "json-false",
    "collapsed": false,
    "ein.tags": [
     "worksheet-0"
    ]
   },
   "outputs": [
    {
     "name": "stdout",
     "output_type": "stream",
     "text": [
      "     x1    x2\n",
      "0 -1.58 -2.01\n",
      "\n",
      "     x1    x2\n",
      "2 -0.73  4.00\n",
      "3 -4.22  1.16\n",
      "5 -0.33  2.15\n"
     ]
    }
   ],
   "source": [
    "root = tree['root']\n",
    "left_left, left_right = split_on(root['left'], root['left'].x2, sv)\n",
    "\n",
    "print(left_left)\n",
    "print\n",
    "print(left_right)"
   ]
  },
  {
   "cell_type": "code",
   "execution_count": 166,
   "metadata": {
    "autoscroll": "json-false",
    "collapsed": false,
    "ein.tags": [
     "worksheet-0"
    ]
   },
   "outputs": [
    {
     "name": "stdout",
     "output_type": "stream",
     "text": [
      "-2.275\n"
     ]
    }
   ],
   "source": [
    "sv = split_value(left_right.x1)\n",
    "print(sv)"
   ]
  },
  {
   "cell_type": "code",
   "execution_count": 167,
   "metadata": {
    "autoscroll": "json-false",
    "collapsed": false,
    "ein.tags": [
     "worksheet-0"
    ]
   },
   "outputs": [
    {
     "name": "stdout",
     "output_type": "stream",
     "text": [
      "     x1    x2\n",
      "3 -4.22  1.16\n",
      "\n",
      "     x1    x2\n",
      "2 -0.73  4.00\n",
      "5 -0.33  2.15\n"
     ]
    }
   ],
   "source": [
    "left_right_left, left_right_right = split_on(left_right, left_right.x1, sv)\n",
    "print(left_right_left)\n",
    "print\n",
    "print(left_right_right)"
   ]
  },
  {
   "cell_type": "code",
   "execution_count": 168,
   "metadata": {
    "autoscroll": "json-false",
    "collapsed": false,
    "ein.tags": [
     "worksheet-0"
    ]
   },
   "outputs": [
    {
     "name": "stdout",
     "output_type": "stream",
     "text": [
      "3.075\n"
     ]
    }
   ],
   "source": [
    "sv = split_value(left_right_right.x2)\n",
    "print(sv)"
   ]
  },
  {
   "cell_type": "code",
   "execution_count": 169,
   "metadata": {
    "autoscroll": "json-false",
    "collapsed": false,
    "ein.tags": [
     "worksheet-0"
    ]
   },
   "outputs": [
    {
     "name": "stdout",
     "output_type": "stream",
     "text": [
      "     x1    x2\n",
      "5 -0.33  2.15\n",
      "\n",
      "     x1  x2\n",
      "2 -0.73   4\n"
     ]
    }
   ],
   "source": [
    "left_right_right_left, left_right_right_right = split_on(left_right_right, left_right_right.x2, sv)\n",
    "print(left_right_right_left)\n",
    "print\n",
    "print(left_right_right_right)"
   ]
  },
  {
   "cell_type": "code",
   "execution_count": 171,
   "metadata": {
    "autoscroll": "json-false",
    "collapsed": false,
    "ein.tags": [
     "worksheet-0"
    ]
   },
   "outputs": [
    {
     "name": "stdout",
     "output_type": "stream",
     "text": [
      "0.98\n"
     ]
    }
   ],
   "source": [
    "root['right'].x2\n",
    "sv = split_value(root['right'].x2)\n",
    "print(sv)"
   ]
  },
  {
   "cell_type": "code",
   "execution_count": 161,
   "metadata": {
    "autoscroll": "json-false",
    "collapsed": false,
    "ein.tags": [
     "worksheet-0"
    ]
   },
   "outputs": [
    {
     "name": "stdout",
     "output_type": "stream",
     "text": [
      "     x1    x2\n",
      "4  4.19 -2.02\n",
      "\n",
      "     x1    x2\n",
      "1  0.91  3.98\n"
     ]
    }
   ],
   "source": [
    "left, right = split_on(root['right'], root['right'].x2, sv)\n",
    "print(left)\n",
    "print\n",
    "print(right)"
   ]
  },
  {
   "cell_type": "markdown",
   "metadata": {
    "ein.tags": [
     "worksheet-0"
    ]
   },
   "source": [
    "# Question 4"
   ]
  },
  {
   "cell_type": "markdown",
   "metadata": {
    "ein.tags": [
     "worksheet-0"
    ]
   },
   "source": [
    "Given a query point (-3, 1.5) which of the data points belong to the same leaf node as the query point?"
   ]
  },
  {
   "cell_type": "code",
   "execution_count": 180,
   "metadata": {
    "autoscroll": "json-false",
    "collapsed": false,
    "ein.tags": [
     "worksheet-0"
    ]
   },
   "outputs": [
    {
     "name": "stdout",
     "output_type": "stream",
     "text": [
      "Data Point 3\n",
      "Data Point 4\n",
      "Data Point 6\n"
     ]
    }
   ],
   "source": [
    "query_point = [-3, 1.5]\n",
    "node_points = (-0.73, -4.22, -0.33) \n",
    "for point in node_points:\n",
    "    print(points[point])"
   ]
  },
  {
   "cell_type": "code",
   "execution_count": 182,
   "metadata": {
    "autoscroll": "json-false",
    "collapsed": false,
    "ein.tags": [
     "worksheet-0"
    ]
   },
   "outputs": [
    {
     "name": "stdout",
     "output_type": "stream",
     "text": [
      "1.26649121592\n"
     ]
    }
   ],
   "source": [
    "distance_to_leaf = euclidean([-4.22, 1.16], query_point)\n",
    "print(distance_to_leaf)"
   ]
  },
  {
   "cell_type": "code",
   "execution_count": 185,
   "metadata": {
    "autoscroll": "json-false",
    "collapsed": false,
    "ein.tags": [
     "worksheet-0"
    ]
   },
   "outputs": [
    {
     "name": "stdout",
     "output_type": "stream",
     "text": [
      "Data Point 4\n"
     ]
    }
   ],
   "source": [
    "# the leaf closest to the query point is\n",
    "nearest = [-4.22, 1.16]\n",
    "print(points[nearest[0]])"
   ]
  },
  {
   "cell_type": "markdown",
   "metadata": {
    "ein.tags": [
     "worksheet-0"
    ]
   },
   "source": [
    "# Question 5"
   ]
  },
  {
   "cell_type": "markdown",
   "metadata": {
    "ein.tags": [
     "worksheet-0"
    ]
   },
   "source": [
    "What parts of the tree need to be pruned?"
   ]
  },
  {
   "cell_type": "code",
   "execution_count": 184,
   "metadata": {
    "autoscroll": "json-false",
    "collapsed": false,
    "ein.tags": [
     "worksheet-0"
    ]
   },
   "outputs": [
    {
     "name": "stdout",
     "output_type": "stream",
     "text": [
      "prune [-0.33, 2.15]\n",
      "prune [-0.73, 4]\n"
     ]
    }
   ],
   "source": [
    "neighbors = ([-0.33, 2.15], [-0.73, 4])\n",
    "for neighbor in neighbors:\n",
    "    distance = euclidean(query_point, neighbor)\n",
    "    if distance > distance_to_leaf:\n",
    "        print(\"prune {0}\".format(neighbor))"
   ]
  },
  {
   "cell_type": "markdown",
   "metadata": {
    "ein.tags": [
     "worksheet-0"
    ]
   },
   "source": [
    "this last question was wrong."
   ]
  }
 ],
 "metadata": {
  "kernelspec": {
   "display_name": "Python 2",
   "name": "python2"
  },
  "name": "quiz_2.ipynb"
 },
 "nbformat": 4,
 "nbformat_minor": 0
}
