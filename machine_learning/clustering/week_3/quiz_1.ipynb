{
 "cells": [
  {
   "cell_type": "code",
   "execution_count": 119,
   "metadata": {
    "autoscroll": "json-false",
    "collapsed": false,
    "ein.tags": [
     "worksheet-0"
    ]
   },
   "outputs": [],
   "source": [
    "import numpy\n",
    "import pandas\n",
    "import seaborn\n",
    "import matplotlib.pyplot as plot\n",
    "from scipy.spatial.distance import euclidean\n",
    "%matplotlib inline"
   ]
  },
  {
   "cell_type": "code",
   "execution_count": 120,
   "metadata": {
    "autoscroll": "json-false",
    "collapsed": false,
    "ein.tags": [
     "worksheet-0"
    ]
   },
   "outputs": [],
   "source": [
    "x_1 = [-1.88, -0.71, 2.41, 1.85,-3.69]\n",
    "x_2 = [2.05, 0.42, -0.67, -3.8, -1.33]\n",
    "data = pandas.DataFrame({'x1':x_1, 'x2': x_2})"
   ]
  },
  {
   "cell_type": "code",
   "execution_count": 121,
   "metadata": {
    "autoscroll": "json-false",
    "collapsed": false,
    "ein.tags": [
     "worksheet-0"
    ]
   },
   "outputs": [],
   "source": [
    "centroid = pandas.DataFrame({'x1': [2, -2], 'x2': [2, -2]})"
   ]
  },
  {
   "cell_type": "code",
   "execution_count": 122,
   "metadata": {
    "autoscroll": "json-false",
    "collapsed": false,
    "ein.tags": [
     "worksheet-0"
    ]
   },
   "outputs": [
    {
     "data": {
      "image/png": "[encoded data removed]",
      "text/plain": [
       "<matplotlib.figure.Figure at 0x7f9f456f3950>"
      ]
     },
     "metadata": {},
     "output_type": "display_data"
    }
   ],
   "source": [
    "def plot_clusters(data, centroid):\n",
    "    fig = plot.figure()\n",
    "    axe = fig.gca()\n",
    "    lines = axe.plot(data.x1, data.x2, 'o')\n",
    "    lines = axe.plot(centroid.x1[0], centroid.x2[0], 'ro')\n",
    "    lines = axe.plot(centroid.x1[1], centroid.x2[1], 'go')\n",
    "plot_clusters(data, centroid)    "
   ]
  },
  {
   "cell_type": "code",
   "execution_count": 123,
   "metadata": {
    "autoscroll": "json-false",
    "collapsed": false,
    "ein.tags": [
     "worksheet-0"
    ]
   },
   "outputs": [],
   "source": [
    "def next_centroid(data, centroid):\n",
    "    clusters = {0: {0: [], 1: []}, 1:{0:[], 1:[]}}\n",
    "    for point in xrange(len(data)):\n",
    "        c0 = (euclidean(data.ix[point], centroid.ix[0]), 0)\n",
    "        c1 = (euclidean(data.ix[point], centroid.ix[1]), 1)\n",
    "        nearest = min(c0, c1)\n",
    "        clusters[nearest[1]][0].append(data.ix[point].x1)\n",
    "        clusters[nearest[1]][1].append(data.ix[point].x2)\n",
    "\n",
    "    centroid =  pandas.DataFrame({'x1':[\n",
    "        numpy.mean(centroids[0][0]),\n",
    "        numpy.mean(centroids[1][0])],\n",
    "                             'x2': [\n",
    "                                 numpy.mean(centroids[0][1]),\n",
    "                                 numpy.mean(centroids[1][1])]})\n",
    "    return centroid, clusters\n",
    "\n",
    "centroid, clusters = next_centroid(data, centroid)"
   ]
  },
  {
   "cell_type": "code",
   "execution_count": 124,
   "metadata": {
    "autoscroll": "json-false",
    "collapsed": false,
    "ein.tags": [
     "worksheet-0"
    ]
   },
   "outputs": [
    {
     "data": {
      "text/plain": [
       "{0: {0: [-1.8799999999999999, 2.4100000000000001],\n",
       "  1: [2.0499999999999998, -0.67000000000000004]},\n",
       " 1: {0: [-0.70999999999999996, 1.8500000000000001, -3.6899999999999999],\n",
       "  1: [0.41999999999999998, -3.7999999999999998, -1.3300000000000001]}}"
      ]
     },
     "execution_count": 124,
     "metadata": {},
     "output_type": "execute_result"
    }
   ],
   "source": [
    "clusters"
   ]
  },
  {
   "cell_type": "code",
   "execution_count": 125,
   "metadata": {
    "autoscroll": "json-false",
    "collapsed": false,
    "ein.tags": [
     "worksheet-0"
    ]
   },
   "outputs": [
    {
     "name": "stdout",
     "output_type": "stream",
     "text": [
      "         x1     x2\n",
      "0 -2.093333  0.380\n",
      "1  2.130000 -2.235\n"
     ]
    }
   ],
   "source": [
    "print(centroid)"
   ]
  },
  {
   "cell_type": "code",
   "execution_count": 126,
   "metadata": {
    "autoscroll": "json-false",
    "collapsed": false,
    "ein.tags": [
     "worksheet-0"
    ]
   },
   "outputs": [
    {
     "data": {
      "image/png": "[encoded data removed]",
      "text/plain": [
       "<matplotlib.figure.Figure at 0x7f9f45598850>"
      ]
     },
     "metadata": {},
     "output_type": "display_data"
    }
   ],
   "source": [
    "plot_clusters(data, centroid)"
   ]
  },
  {
   "cell_type": "code",
   "execution_count": 131,
   "metadata": {
    "autoscroll": "json-false",
    "collapsed": false,
    "ein.tags": [
     "worksheet-0"
    ]
   },
   "outputs": [
    {
     "name": "stdout",
     "output_type": "stream",
     "text": [
      "{0: {0: [-1.8799999999999999, -0.70999999999999996, -3.6899999999999999], 1: [2.0499999999999998, 0.41999999999999998, -1.3300000000000001]}, 1: {0: [2.4100000000000001, 1.8500000000000001], 1: [-0.67000000000000004, -3.7999999999999998]}}\n"
     ]
    }
   ],
   "source": [
    "centroid, clusters = next_centroid(data, centroid)\n",
    "print(clusters)"
   ]
  },
  {
   "cell_type": "code",
   "execution_count": 133,
   "metadata": {
    "autoscroll": "json-false",
    "collapsed": false,
    "ein.tags": [
     "worksheet-0"
    ]
   },
   "outputs": [
    {
     "name": "stdout",
     "output_type": "stream",
     "text": [
      "{0: {0: [-1.8799999999999999, -0.70999999999999996, -3.6899999999999999], 1: [2.0499999999999998, 0.41999999999999998, -1.3300000000000001]}, 1: {0: [2.4100000000000001, 1.8500000000000001], 1: [-0.67000000000000004, -3.7999999999999998]}}\n"
     ]
    }
   ],
   "source": [
    "centroid, clusters = next_centroid(data, centroid)\n",
    "print(clusters)"
   ]
  }
 ],
 "metadata": {
  "kernelspec": {
   "display_name": "Python 2",
   "name": "python2"
  },
  "name": "quiz_1.ipynb"
 },
 "nbformat": 4,
 "nbformat_minor": 0
}
