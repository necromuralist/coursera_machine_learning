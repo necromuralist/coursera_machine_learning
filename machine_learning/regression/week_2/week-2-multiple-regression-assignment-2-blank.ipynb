{
 "cells": [
  {
   "cell_type": "markdown",
   "metadata": {
    "collapsed": true,
    "tags": [
     "worksheet-0"
    ]
   },
   "source": [
    "# Regression Week 2: Multiple Regression (gradient descent)"
   ]
  },
  {
   "cell_type": "markdown",
   "metadata": {
    "collapsed": true,
    "tags": [
     "worksheet-0"
    ]
   },
   "source": [
    "In the first notebook we explored multiple regression using graphlab create. Now we will use graphlab along with numpy to solve for the regression weights with gradient descent.\n",
    "\n",
    "In this notebook we will cover estimating multiple regression weights via gradient descent. You will:\n",
    "* Add a constant column of 1's to a graphlab SFrame to account for the intercept\n",
    "* Convert an SFrame into a Numpy array\n",
    "* Write a predict_output() function using Numpy\n",
    "* Write a numpy function to compute the derivative of the regression weights with respect to a single feature\n",
    "* Write gradient descent function to compute the regression weights given an initial weight vector, step size and tolerance.\n",
    "* Use the gradient descent function to estimate regression weights for multiple features\n",
    "<!-- ' -->"
   ]
  },
  {
   "cell_type": "code",
   "execution_count": 74,
   "metadata": {
    "collapsed": false,
    "tags": [
     "worksheet-0"
    ]
   },
   "outputs": [],
   "source": [
    "# python standard library\n",
    "from math import sqrt\n",
    "\n",
    "# third-party\n",
    "import graphlab\n",
    "import numpy as np\n",
    "import numpy"
   ]
  },
  {
   "cell_type": "markdown",
   "metadata": {
    "collapsed": true,
    "tags": [
     "worksheet-0"
    ]
   },
   "source": [
    "## Fire up graphlab create"
   ]
  },
  {
   "cell_type": "markdown",
   "metadata": {
    "collapsed": true,
    "tags": [
     "worksheet-0"
    ]
   },
   "source": [
    "Make sure you have the latest version of graphlab (>= 1.7)"
   ]
  },
  {
   "cell_type": "markdown",
   "metadata": {
    "collapsed": true,
    "tags": [
     "worksheet-0"
    ]
   },
   "source": [
    "## Load in house sales data\n",
    "\n",
    "Dataset is from house sales in King County, the region where the city of Seattle, WA is located."
   ]
  },
  {
   "cell_type": "code",
   "execution_count": 75,
   "metadata": {
    "collapsed": false,
    "tags": [
     "worksheet-0"
    ]
   },
   "outputs": [],
   "source": [
    "sales = graphlab.SFrame('large_data/kc_house_data.gl/')"
   ]
  },
  {
   "cell_type": "code",
   "execution_count": 76,
   "metadata": {
    "collapsed": false,
    "tags": [
     "worksheet-0"
    ]
   },
   "outputs": [],
   "source": [
    "class RegressionData(object):\n",
    "    \"\"\"\n",
    "    Breaks a frame into feature and target numpy arrays\n",
    "    \"\"\"\n",
    "    def __init__(self, frame, features, target_feature):\n",
    "        \"\"\"\n",
    "        :param:\n",
    "         - `frame`: Sframe or data frame with the data\n",
    "         - `features`: list of features used to predict\n",
    "         - `target_feature`: name of column to predict\n",
    "        \"\"\"\n",
    "        self._frame = None\n",
    "        self.frame = frame\n",
    "        self._features = None\n",
    "        self.features = features\n",
    "        self.target_feature = target_feature\n",
    "        self._features_frame = None\n",
    "        self._features_matrix = None\n",
    "        self._target_array = None\n",
    "        return\n",
    "\n",
    "    @property\n",
    "    def frame(self):\n",
    "        \"\"\"\n",
    "        :return: source data frame\n",
    "        \"\"\"\n",
    "        return self._frame\n",
    "\n",
    "    @frame.setter\n",
    "    def frame(self, new_frame):\n",
    "        \"\"\"\n",
    "        adds constant column and saves the frame\n",
    "        :param:\n",
    "         - `new_frame`: frame to set\n",
    "        \"\"\"\n",
    "        new_frame['constant'] = 1\n",
    "        self._frame = new_frame\n",
    "        return\n",
    "\n",
    "    @property\n",
    "    def features(self):\n",
    "        \"\"\"\n",
    "        :return: list of prediction features\n",
    "        \"\"\"\n",
    "        return self._features\n",
    "\n",
    "    @features.setter\n",
    "    def features(self, new_features):\n",
    "        \"\"\"\n",
    "        adds a 'constant' column to and stores the list\n",
    "        \"\"\"\n",
    "        self._features = ['constant'] + new_features\n",
    "        return\n",
    "\n",
    "    @property\n",
    "    def features_frame(self):\n",
    "        if self._features_frame is None:\n",
    "            self._features_frame = self.frame[self.features]\n",
    "        return self._features_frame\n",
    "\n",
    "    @property\n",
    "    def features_matrix(self):\n",
    "        \"\"\"\n",
    "        :return: features frame converted to numpy matrix\n",
    "        \"\"\"\n",
    "        if self._features_matrix is None:\n",
    "            self._features_matrix = self.features_frame.to_numpy()\n",
    "        return self._features_matrix\n",
    "\n",
    "    @property\n",
    "    def target_array(self):\n",
    "        \"\"\"\n",
    "        :return: numpy array of target data\n",
    "        \"\"\"\n",
    "        if self._target_array is None:\n",
    "            self._target_array = self.frame[self.target_feature].to_numpy()\n",
    "        return self._target_array\n",
    "# end class RegressionData"
   ]
  },
  {
   "cell_type": "code",
   "execution_count": 77,
   "metadata": {
    "collapsed": false,
    "tags": [
     "worksheet-0"
    ]
   },
   "outputs": [],
   "source": [
    "def get_numpy_data(data_sframe, features, output):\n",
    "    data_sframe['constant'] = 1 # this is how you add a constant column to an SFrame\n",
    "    # add the column 'constant' to the front of the features list so that we can extract it along with the others:\n",
    "    features = ['constant'] + features # this is how you combine two lists\n",
    "    \n",
    "    # select the columns of data_SFrame given by the features list into the SFrame features_sframe (now including constant):\n",
    "    features_sframe = data_SFrame[features]\n",
    "    \n",
    "    # the following line will convert the features_SFrame into a numpy matrix:\n",
    "    feature_matrix = features_sframe.to_numpy()\n",
    "    \n",
    "    # assign the column of data_sframe associated with the output to the SArray output_sarray\n",
    "    output_array = data_sframe[output_array]\n",
    "    \n",
    "    # the following will convert the SArray into a numpy array by first converting it to a list\n",
    "    output_array = output_sarray.to_numpy()\n",
    "    return(feature_matrix, output_array)"
   ]
  },
  {
   "cell_type": "code",
   "execution_count": 78,
   "metadata": {
    "collapsed": false,
    "tags": [
     "worksheet-0"
    ]
   },
   "outputs": [],
   "source": [
    "class GradientDescent(object):\n",
    "    def __init__(self, data, initial_weights=None, step_size=None, tolerance=None):\n",
    "        \"\"\"\n",
    "        :param:\n",
    "        \n",
    "          - `data`: RegressionData instance\n",
    "          - `initial_weights`: array of starting coefficients\n",
    "          - `step_size`: size for each step in the descent\n",
    "          - `tolerance`: upper bound for allowed error\n",
    "        \"\"\"\n",
    "        self.data = data\n",
    "        self.initial_weights = initial_weights\n",
    "        self.step_size = step_size\n",
    "        self.tolerance = tolerance\n",
    "        self._weights = None\n",
    "        return\n",
    "    \n",
    "    @property\n",
    "    def weights(self):\n",
    "        \"\"\"\n",
    "        :return: array of coefficient weights for the model\n",
    "        \"\"\"\n",
    "        if self._weights is None:\n",
    "            self._weights = self.regression_gradient_descent()\n",
    "        return self._weights\n",
    "\n",
    "    def predict_output(self, weights):\n",
    "        \"\"\"\n",
    "        calculate vector of predicted outputs\n",
    "        \"\"\"\n",
    "        return self.data.features_matrix.dot(weights)\n",
    "\n",
    "    def feature_derivative(self, errors, feature):\n",
    "        \"\"\"\n",
    "        Both arrays must be of the same size\n",
    "        :param:\n",
    "         - `errors`: array of error terms\n",
    "         - `feature`: array of feature data \n",
    "        :return: the derivative of the features array\n",
    "        \"\"\"\n",
    "        return  2 * errors.dot(feature)\n",
    "\n",
    "    def regression_gradient_descent(self):\n",
    "        \"\"\"\n",
    "        :return: vector of weights\n",
    "        \"\"\"\n",
    "        converged = False \n",
    "        weights = np.array(self.initial_weights)\n",
    "\n",
    "        while not converged:\n",
    "            # compute the predictions based on feature_matrix and weights using your predict_output() function\n",
    "            predictions = self.predict_output(weights)\n",
    "            \n",
    "            # compute the errors as predictions - output\n",
    "            errors = predictions - self.data.target_array\n",
    "\n",
    "            # initialize the gradient sum of squares                                                    \n",
    "            gradient_sum_squares = 0\n",
    "\n",
    "            # while we haven't reached the tolerance yet, update each feature's weight\n",
    "            for i in range(len(weights)): # loop over each weight\n",
    "                # Recall that feature_matrix[:, i] is the feature column associated with weights[i]\n",
    "                # compute the derivative for weight[i]:\n",
    "                derivative = self.feature_derivative(errors, self.data.features_matrix[:, i])\n",
    "\n",
    "                # add the squared value of the derivative to the gradient sum of squares (for assessing convergence)\n",
    "                gradient_sum_squares += derivative**2\n",
    "\n",
    "                # subtract the step size times the derivative from the current weight\n",
    "                weights[i] -= self.step_size * derivative\n",
    "\n",
    "                # compute the square-root of the gradient sum of squares to get the gradient magnitude:\n",
    "                gradient_magnitude = sqrt(gradient_sum_squares)\n",
    "            if gradient_magnitude < self.tolerance:\n",
    "                converged = True\n",
    "        return(weights)"
   ]
  },
  {
   "cell_type": "markdown",
   "metadata": {
    "collapsed": true,
    "tags": [
     "worksheet-0"
    ]
   },
   "source": [
    "If we want to do any \"feature engineering\" like creating new features or adjusting existing ones we should do this directly using the SFrames as seen in the other Week 2 notebook. For this notebook, however, we will work with the existing features."
   ]
  },
  {
   "cell_type": "markdown",
   "metadata": {
    "collapsed": true,
    "tags": [
     "worksheet-0"
    ]
   },
   "source": [
    "## Convert to Numpy Array"
   ]
  },
  {
   "cell_type": "markdown",
   "metadata": {
    "collapsed": true,
    "tags": [
     "worksheet-0"
    ]
   },
   "source": [
    "Although SFrames offer a number of benefits to users (especially when using Big Data and built-in graphlab functions) in order to understand the details of the implementation of algorithms it's important to work with a library that allows for direct (and optimized) matrix operations. Numpy is a Python solution to work with matrices (or any multi-dimensional \"array\").\n",
    "\n",
    "Recall that the predicted value given the weights and the features is just the dot product between the feature and weight vector. Similarly, if we put all of the features row-by-row in a matrix then the predicted value for *all* the observations can be computed by right multiplying the \"feature matrix\" by the \"weight vector\". \n",
    "\n",
    "First we need to take the SFrame of our data and convert it into a 2D numpy array (also called a matrix). To do this we use graphlab's built in .to_dataframe() which converts the SFrame into a Pandas (another python library) dataframe. We can then use Panda's .as_matrix() to convert the dataframe into a numpy matrix."
   ]
  },
  {
   "cell_type": "markdown",
   "metadata": {
    "collapsed": true,
    "tags": [
     "worksheet-0"
    ]
   },
   "source": [
    "Now we will write a function that will accept an SFrame, a list of feature names (e.g. ['sqft_living', 'bedrooms']) and a target feature e.g. ('price') and will return two things:\n",
    "\n",
    "* A numpy matrix whose columns are the desired features plus a constant column (this is how we create an 'intercept')\n",
    "* A numpy array containing the values of the output\n",
    "\n",
    "With this in mind, complete the following function (where there's an empty line you should write a line of code that does what the comment above indicates)\n",
    "\n",
    "**Please note you will need GraphLab Create version at least 1.7.1 in order for .to_numpy() to work!**"
   ]
  },
  {
   "cell_type": "code",
   "execution_count": 79,
   "metadata": {
    "collapsed": false,
    "tags": [
     "worksheet-0"
    ]
   },
   "outputs": [],
   "source": [
    "def sframe_to_numpy(data_sframe, features, target_feature):\n",
    "    \"\"\"\n",
    "    :param:\n",
    "\n",
    "     - `data_sframe`: Sframe of data to fit\n",
    "     - `features`: list of column names in the data to use\n",
    "     - `target_feature`: column you are trying to predict\n",
    "\n",
    "    :return: (numpy matrix of feature data, numpy array of target data)\n",
    "    \"\"\"\n",
    "    # this is how you add a constant column to an SFrame\n",
    "    data_sframe['constant'] = 1\n",
    "    \n",
    "    # add the column 'constant' to the front of the features list so that we can extract it along with the others:\n",
    "    # this is how you prepend an item to the list\n",
    "    features = ['constant'] + features \n",
    "    \n",
    "    # select the columns of data_SFrame given by the features list into the SFrame features_sframe (now including constant):\n",
    "    features_sframe = data_sframe[features]\n",
    "    \n",
    "    # the following line will convert the features_SFrame into a numpy matrix:\n",
    "    feature_matrix = features_sframe.to_numpy()\n",
    "    \n",
    "    # assign the column of data_sframe associated with the output to the SArray output_sarray\n",
    "    output_sarray = data_sframe[target_feature]\n",
    "    \n",
    "    # the following will convert the SArray into a numpy array by first converting it to a list\n",
    "    output_array = output_sarray.to_numpy()\n",
    "    return(feature_matrix, output_array)"
   ]
  },
  {
   "cell_type": "markdown",
   "metadata": {
    "collapsed": true,
    "tags": [
     "worksheet-0"
    ]
   },
   "source": [
    "For testing let's use the 'sqft_living' feature and a constant as our features and price as our output:\n",
    "<!-- ' -->"
   ]
  },
  {
   "cell_type": "code",
   "execution_count": 80,
   "metadata": {
    "collapsed": false,
    "tags": [
     "worksheet-0"
    ]
   },
   "outputs": [],
   "source": [
    "expected_row = [1., sales['sqft_living'][0]]\n",
    "expected_price = sales['price'][0]"
   ]
  },
  {
   "cell_type": "code",
   "execution_count": 81,
   "metadata": {
    "collapsed": false,
    "tags": [
     "worksheet-0"
    ]
   },
   "outputs": [
    {
     "name": "stdout",
     "output_type": "stream",
     "text": [
      "[  1.00000000e+00   1.18000000e+03]\n",
      "221900.0\n"
     ]
    }
   ],
   "source": [
    "# the [] around 'sqft_living' makes it a list\n",
    "example_data = RegressionData(frame=sales, features=['sqft_living'],\n",
    "                         target_feature='price')\n",
    "example_features, example_output = sframe_to_numpy(sales, [\"sqft_living\"],\n",
    "                                                   'price')\n",
    "\n",
    "print example_features[0,:] # this accesses the first row of the data the ':' indicates 'all columns'\n",
    "print example_output[0] # and the corresponding output\n",
    "assert example_data.target_array[0] == example_output[0]"
   ]
  },
  {
   "cell_type": "markdown",
   "metadata": {
    "collapsed": true,
    "tags": [
     "worksheet-0"
    ]
   },
   "source": [
    "## Predicting output given regression weights"
   ]
  },
  {
   "cell_type": "markdown",
   "metadata": {
    "collapsed": true,
    "tags": [
     "worksheet-0"
    ]
   },
   "source": [
    "Suppose we had the weights [1.0, 1.0] and the features [1.0, 1180.0] and we wanted to compute the predicted output 1.0\\*1.0 + 1.0\\*1180.0 = 1181.0 this is the dot product between these two arrays. If they're numpy arrayws we can use np.dot() to compute this:\n",
    "<!-- ' -->"
   ]
  },
  {
   "cell_type": "code",
   "execution_count": 82,
   "metadata": {
    "collapsed": false,
    "tags": [
     "worksheet-0"
    ]
   },
   "outputs": [
    {
     "name": "stdout",
     "output_type": "stream",
     "text": [
      "1181.0\n"
     ]
    }
   ],
   "source": [
    "my_weights = np.array([1., 1.]) # the example weights\n",
    "my_features = example_features[0,] # we'll use the first data point\n",
    "predicted_value = np.dot(my_features, my_weights)\n",
    "print predicted_value"
   ]
  },
  {
   "cell_type": "code",
   "execution_count": 83,
   "metadata": {
    "collapsed": false,
    "tags": [
     "worksheet-0"
    ]
   },
   "outputs": [
    {
     "data": {
      "text/plain": [
       "1181.0"
      ]
     },
     "execution_count": 83,
     "metadata": {},
     "output_type": "execute_result"
    }
   ],
   "source": [
    "example_model = GradientDescent(example_data)\n",
    "example_model.predict_output(my_weights)[0]"
   ]
  },
  {
   "cell_type": "code",
   "execution_count": 84,
   "metadata": {
    "collapsed": false,
    "tags": [
     "worksheet-0"
    ]
   },
   "outputs": [
    {
     "name": "stdout",
     "output_type": "stream",
     "text": [
      "1181.0\n",
      "1181.0\n"
     ]
    }
   ],
   "source": [
    "print(my_weights.dot(my_features))\n",
    "print(my_features.dot(my_weights))"
   ]
  },
  {
   "cell_type": "markdown",
   "metadata": {
    "collapsed": true,
    "tags": [
     "worksheet-0"
    ]
   },
   "source": [
    "np.dot() also works when dealing with a matrix and a vector. Recall that the predictions from all the observations is just the RIGHT (as in weights on the right) dot product between the features *matrix* and the weights *vector*. With this in mind finish the following `predict_output` function to compute the predictions for an entire matrix of features given the matrix and the weights:"
   ]
  },
  {
   "cell_type": "code",
   "execution_count": 85,
   "metadata": {
    "collapsed": false,
    "tags": [
     "worksheet-0"
    ]
   },
   "outputs": [],
   "source": [
    "def predict_output(feature_matrix, weights):\n",
    "    # assume feature_matrix is a numpy matrix containing the features as columns and weights is a corresponding numpy array\n",
    "    # create the predictions vector by using np.dot()\n",
    "    return feature_matrix.dot(weights)"
   ]
  },
  {
   "cell_type": "markdown",
   "metadata": {
    "collapsed": true,
    "tags": [
     "worksheet-0"
    ]
   },
   "source": [
    "If you want to test your code run the following cell:"
   ]
  },
  {
   "cell_type": "code",
   "execution_count": 86,
   "metadata": {
    "collapsed": false,
    "tags": [
     "worksheet-0"
    ]
   },
   "outputs": [
    {
     "name": "stdout",
     "output_type": "stream",
     "text": [
      "2571.0\n",
      "1181.0\n"
     ]
    }
   ],
   "source": [
    "test_predictions = predict_output(example_features, my_weights)\n",
    "gd_test_predictions = example_model.predict_output(my_weights)\n",
    "assert test_predictions[0] == 1181.0\n",
    "assert test_predictions[1] == 2571.0\n",
    "\n",
    "assert gd_test_predictions[0] == 1181.0\n",
    "assert gd_test_predictions[1] == 2571\n",
    "\n",
    "print test_predictions[1] # should be 2571.0\n",
    "print test_predictions[0] # should be 1181.0"
   ]
  },
  {
   "cell_type": "markdown",
   "metadata": {
    "collapsed": true,
    "tags": [
     "worksheet-0"
    ]
   },
   "source": [
    "## Computing the Derivative"
   ]
  },
  {
   "cell_type": "markdown",
   "metadata": {
    "collapsed": true,
    "tags": [
     "worksheet-0"
    ]
   },
   "source": [
    "We are now going to move to computing the derivative of the regression cost function. Recall that the cost function is the sum over the data points of the squared difference between an observed output and a predicted output (RSS?).\n",
    "\n",
    "Since the derivative of a sum is the sum of the derivatives we can compute the derivative for a single data point and then sum over data points. We can write the squared difference between the observed output and predicted output for a single point as follows:\n",
    "\n",
    "(w[0]\\*[CONSTANT] + w[1]\\*[feature_1] + ... + w[i] \\*[feature_i] + ... +  w[1]\\*[feature_k] - output)^2\n",
    "\n",
    "Where we have k features and a constant. So the derivative with respect to weight w[i] by the chain rule is:\n",
    "\n",
    "2\\*(w[0]\\*[CONSTANT] + w[1]\\*[feature_1] + ... + w[i] \\*[feature_i] + ... +  w[1]\\*[feature_k] - output)\\* [feature_i]\n",
    "\n",
    "The term inside the paranethesis is just the error (difference between prediction and output). So we can re-write this as:\n",
    "\n",
    "2\\*error\\*[feature_i]\n",
    "\n",
    "That is, the derivative for the weight for feature i is the sum (over data points) of 2 times the product of the error and the feature itself. In the case of the constant then this is just twice the sum of the errors!\n",
    "\n",
    "Recall that twice the sum of the product of two vectors is just twice the dot product of the two vectors. Therefore the derivative for the weight for feature_i is just two times the dot product between the values of feature_i and the current errors. \n",
    "\n",
    "With this in mind complete the following derivative function which computes the derivative of the weight given the value of the feature (over all data points) and the errors (over all data points)."
   ]
  },
  {
   "cell_type": "code",
   "execution_count": 87,
   "metadata": {
    "collapsed": false,
    "tags": [
     "worksheet-0"
    ]
   },
   "outputs": [],
   "source": [
    "def feature_derivative(errors, feature):\n",
    "    # Assume that errors and feature are both numpy arrays of the same length (number of data points)\n",
    "    # compute twice the dot product of these vectors as 'derivative' and return the value\n",
    "    derivative = 2 * errors.dot(feature)\n",
    "    return(derivative)"
   ]
  },
  {
   "cell_type": "markdown",
   "metadata": {
    "collapsed": true,
    "tags": [
     "worksheet-0"
    ]
   },
   "source": [
    "To test your feature derivative run the following:"
   ]
  },
  {
   "cell_type": "code",
   "execution_count": 88,
   "metadata": {
    "collapsed": false,
    "tags": [
     "worksheet-0"
    ]
   },
   "outputs": [
    {
     "name": "stdout",
     "output_type": "stream",
     "text": [
      "-23345850022.0\n",
      "-23345850022.0\n",
      "-23345850022.0\n"
     ]
    }
   ],
   "source": [
    "\n",
    "my_weights = np.array([0., 0.]) # this makes all the predictions 0\n",
    "\n",
    "gd_predictions = example_model.predict_output(my_weights)\n",
    "test_predictions = predict_output(example_features, my_weights)\n",
    "\n",
    "# just like SFrames 2 numpy arrays can be elementwise subtracted with '-': \n",
    "errors = test_predictions - example_output # prediction errors in this case is just the -example_output\n",
    "gd_errors = gd_predictions - example_data.target_array\n",
    "\n",
    "feature = example_features[:,0] # let's compute the derivative with respect to 'constant', the \":\" indicates \"all rows\"\n",
    "gd_feature = example_data.features_matrix[:, 0]\n",
    "\n",
    "derivative = feature_derivative(errors, feature)\n",
    "gd_derivative = example_model.feature_derivative(gd_errors, gd_feature)\n",
    "print derivative\n",
    "print(gd_derivative)\n",
    "print( -(example_output * 2).sum())\n",
    "assert derivative == gd_derivative\n"
   ]
  },
  {
   "cell_type": "markdown",
   "metadata": {
    "collapsed": true,
    "tags": [
     "worksheet-0"
    ]
   },
   "source": [
    "## Gradient Descent"
   ]
  },
  {
   "cell_type": "markdown",
   "metadata": {
    "collapsed": true,
    "tags": [
     "worksheet-0"
    ]
   },
   "source": [
    "Now we will write a function that performs a gradient descent. The basic premise is simple. Given a starting point we update the current weights by moving in the negative gradient direction. Recall that the gradient is the direction of *increase* and therefore the negative gradient is the direction of *decrease* and we're trying to *minimize* a cost function. \n",
    "\n",
    "The amount by which we move in the negative gradient *direction*  is called the 'step size'. We stop when we are 'sufficiently close' to the optimum. We define this by requiring that the magnitude (length) of the gradient vector to be smaller than a fixed 'tolerance'.\n",
    "\n",
    "With this in mind, complete the following gradient descent function below using your derivative function above. For each step in the gradient descent we update the weight for each feature befofe computing our stopping criteria\n",
    "<!-- ' -->"
   ]
  },
  {
   "cell_type": "code",
   "execution_count": 89,
   "metadata": {
    "collapsed": false,
    "tags": [
     "worksheet-0"
    ]
   },
   "outputs": [],
   "source": [
    "def regression_gradient_descent(feature_matrix, target_data, initial_weights, step_size, tolerance):\n",
    "    \"\"\"\n",
    "    :param:\n",
    "     - `feature_matrix`: matrix of feature-data\n",
    "     - `target_data`: array of real target values\n",
    "     - `initial_weights`: array of weights for the regression\n",
    "     - `step_size`: how much to increment on each iteration\n",
    "     - `tolerance`: upper bound for allowed error\n",
    "    :return: vector of weights\n",
    "    \"\"\"\n",
    "    converged = False \n",
    "    weights = np.array(initial_weights) # make sure it's a numpy array\n",
    "\n",
    "    while not converged:\n",
    "        # compute the predictions based on feature_matrix and weights using your predict_output() function\n",
    "        predictions = predict_output(feature_matrix, weights)\n",
    "\n",
    "        # compute the errors as predictions - output\n",
    "        errors = predictions - target_data\n",
    "\n",
    "        # initialize the gradient sum of squares                                                    \n",
    "        gradient_sum_squares = 0 #\n",
    "\n",
    "        # while we haven't reached the tolerance yet, update each feature's weight\n",
    "        for i in range(len(weights)): # loop over each weight\n",
    "            # Recall that feature_matrix[:, i] is the feature column associated with weights[i]\n",
    "            # compute the derivative for weight[i]:\n",
    "            derivative = feature_derivative(errors, feature_matrix[:, i])\n",
    "\n",
    "            # add the squared value of the derivative to the gradient sum of squares (for assessing convergence)\n",
    "            gradient_sum_squares += derivative**2\n",
    "\n",
    "            # subtract the step size times the derivative from the current weight\n",
    "            weights[i] -= step_size * derivative\n",
    "\n",
    "        # compute the square-root of the gradient sum of squares to get the gradient magnitude:\n",
    "        gradient_magnitude = sqrt(gradient_sum_squares)\n",
    "        if gradient_magnitude < tolerance:\n",
    "            converged = True\n",
    "    return(weights)"
   ]
  },
  {
   "cell_type": "markdown",
   "metadata": {
    "collapsed": true,
    "tags": [
     "worksheet-0"
    ]
   },
   "source": [
    "A few things to note before we run the gradient descent. Since the gradient is a sum over all the data points and involves a product of an error and a feature the gradient itself will be very large since the features are large (squarefeet) and the output is large (prices). So while you might expect \"tolerance\" to be small, small is only relative to the size of the features. \n",
    "\n",
    "For similar reasons the step size will be much smaller than you might expect but this is because the gradient has such large values."
   ]
  },
  {
   "cell_type": "markdown",
   "metadata": {
    "collapsed": true,
    "tags": [
     "worksheet-0"
    ]
   },
   "source": [
    "## Running the Gradient Descent as Simple Regression"
   ]
  },
  {
   "cell_type": "markdown",
   "metadata": {
    "collapsed": true,
    "tags": [
     "worksheet-0"
    ]
   },
   "source": [
    "First let's split the data into training and test data.\n",
    "<!-- ' -->"
   ]
  },
  {
   "cell_type": "code",
   "execution_count": 90,
   "metadata": {
    "collapsed": false,
    "tags": [
     "worksheet-0"
    ]
   },
   "outputs": [],
   "source": [
    "train_data, test_data = sales.random_split(.8,seed=0)"
   ]
  },
  {
   "cell_type": "markdown",
   "metadata": {
    "collapsed": true,
    "tags": [
     "worksheet-0"
    ]
   },
   "source": [
    "Although the gradient descent is designed for multiple regression since the constant is now a feature we can use the gradient descent function to estimat the parameters in the simple regression on squarefeet. The folowing cell sets up the feature_matrix, output, initial weights and step size for the first model:"
   ]
  },
  {
   "cell_type": "code",
   "execution_count": 91,
   "metadata": {
    "collapsed": false,
    "tags": [
     "worksheet-0"
    ]
   },
   "outputs": [],
   "source": [
    "# let's test out the gradient descent\n",
    "simple_features = ['sqft_living']\n",
    "my_output = 'price'\n",
    "initial_weights = np.array([-47000., 1.])\n",
    "step_size = 7e-12\n",
    "tolerance = 2.5e7\n",
    "\n",
    "og_1_features, og_1_output = sframe_to_numpy(train_data, simple_features, my_output)\n",
    "\n",
    "model_1_data = RegressionData(train_data, simple_features, my_output)\n",
    "model_1 = GradientDescent(data=model_1_data,\n",
    "                          initial_weights=initial_weights,\n",
    "                          step_size=step_size,\n",
    "                          tolerance = tolerance)\n"
   ]
  },
  {
   "cell_type": "markdown",
   "metadata": {
    "collapsed": true,
    "tags": [
     "worksheet-0"
    ]
   },
   "source": [
    "Next run your gradient descent with the above parameters."
   ]
  },
  {
   "cell_type": "code",
   "execution_count": 92,
   "metadata": {
    "collapsed": false,
    "tags": [
     "worksheet-0"
    ]
   },
   "outputs": [
    {
     "name": "stdout",
     "output_type": "stream",
     "text": [
      "[-46999.88716555    281.91211912]\n",
      "[-46999.88716555    281.91211912]\n"
     ]
    }
   ],
   "source": [
    "og_weights = regression_gradient_descent(og_1_features, og_1_output,\n",
    "                                         initial_weights, step_size, tolerance)\n",
    "print(model_1.weights)\n",
    "print(og_weights)\n",
    "for index, weight in enumerate(model_1.weights):\n",
    "    assert og_weights[index] == weight,\\\n",
    "        \"OG: {0} GD: {1}\".format(og_weights[index],\n",
    "                                 weight)"
   ]
  },
  {
   "cell_type": "code",
   "execution_count": 93,
   "metadata": {
    "collapsed": false,
    "tags": [
     "worksheet-0"
    ]
   },
   "outputs": [
    {
     "name": "stdout",
     "output_type": "stream",
     "text": [
      "[ -3.42080191e+03   1.28934823e+00]\n",
      "[ -3.42080191e+03   1.28934823e+00]\n"
     ]
    }
   ],
   "source": [
    "week_1 = np.array([-43579.0852515, 280.622770886])\n",
    "print(model_1.weights - week_1)\n",
    "print(og_weights - week_1)"
   ]
  },
  {
   "cell_type": "markdown",
   "metadata": {
    "collapsed": true,
    "tags": [
     "worksheet-0"
    ]
   },
   "source": [
    "How do your weights compare to those achieved in week 1 (don't expect them to be exactly the same)? \n",
    "\n",
    "The intercept differs by 340 dollars while the interect differs by 1.28.\n",
    "\n",
    "**Quiz Question: What is the value of the weight for sqft_living -- the second element of ‘simple_weights’ (rounded to 1 decimal place)?**\n",
    "<!-- ' -->"
   ]
  },
  {
   "cell_type": "code",
   "execution_count": 94,
   "metadata": {
    "collapsed": false,
    "tags": [
     "worksheet-0"
    ]
   },
   "outputs": [
    {
     "name": "stdout",
     "output_type": "stream",
     "text": [
      "weight for \"sqft_living\": 281.9\n",
      "OG: 281.9\n"
     ]
    }
   ],
   "source": [
    "print('weight for \"sqft_living\": {0:.1f}'.format(model_1.weights[1]))\n",
    "print(\"OG: {0:.1f}\".format(og_weights[1]))"
   ]
  },
  {
   "cell_type": "markdown",
   "metadata": {
    "collapsed": true,
    "tags": [
     "worksheet-0"
    ]
   },
   "source": [
    "Use your newly estimated weights and your predict_output() function to compute the predictions on all the TEST data (you will need to create a numpy array of the test feature_matrix and test output first:"
   ]
  },
  {
   "cell_type": "code",
   "execution_count": 95,
   "metadata": {
    "collapsed": false,
    "tags": [
     "worksheet-0"
    ]
   },
   "outputs": [],
   "source": [
    "model_1_test_data = RegressionData(test_data, simple_features, my_output)\n",
    "og_test_features, og_test_output = sframe_to_numpy(test_data, simple_features, my_output)"
   ]
  },
  {
   "cell_type": "markdown",
   "metadata": {
    "collapsed": true,
    "tags": [
     "worksheet-0"
    ]
   },
   "source": [
    "Now compute your predictions using test_simple_feature_matrix and your weights from above."
   ]
  },
  {
   "cell_type": "code",
   "execution_count": 96,
   "metadata": {
    "collapsed": false,
    "tags": [
     "worksheet-0"
    ]
   },
   "outputs": [],
   "source": [
    "model_1_test = GradientDescent(model_1_test_data)\n",
    "model_1_predictions = model_1_test.predict_output(model_1.weights)\n",
    "og_model_1_predictions = predict_output(og_test_features, og_weights)\n",
    "                                                                                                                     "
   ]
  },
  {
   "cell_type": "markdown",
   "metadata": {
    "collapsed": true,
    "tags": [
     "worksheet-0"
    ]
   },
   "source": [
    "**Quiz Question: What is the predicted price for the 1st house in the TEST data set for model 1 (round to nearest dollar)?**"
   ]
  },
  {
   "cell_type": "code",
   "execution_count": 97,
   "metadata": {
    "collapsed": false,
    "tags": [
     "worksheet-0"
    ]
   },
   "outputs": [
    {
     "name": "stdout",
     "output_type": "stream",
     "text": [
      "Predicted price for the first house: $ 356134\n",
      "OG: 356134\n"
     ]
    }
   ],
   "source": [
    "predict_model_1_house_1 = model_1_predictions[0]\n",
    "print(\"Predicted price for the first house: $ {0:.0f}\".format(predict_model_1_house_1))\n",
    "print(\"OG: {0:.0f}\".format(og_model_1_predictions[0]))\n",
    "assert predict_model_1_house_1 == og_model_1_predictions[0]"
   ]
  },
  {
   "cell_type": "markdown",
   "metadata": {
    "collapsed": true,
    "tags": [
     "worksheet-0"
    ]
   },
   "source": [
    "Now that you have the predictions on test data, compute the RSS on the test data set. Save this value for comparison later. Recall that RSS is the sum of the squared errors (difference between prediction and output)."
   ]
  },
  {
   "cell_type": "code",
   "execution_count": 98,
   "metadata": {
    "collapsed": false,
    "tags": [
     "worksheet-0"
    ]
   },
   "outputs": [],
   "source": [
    "def residual_sum_of_squares(target, predictions):\n",
    "    residuals = target - predictions\n",
    "    return (residuals**2).sum()"
   ]
  },
  {
   "cell_type": "code",
   "execution_count": 99,
   "metadata": {
    "collapsed": false,
    "tags": [
     "worksheet-0"
    ]
   },
   "outputs": [],
   "source": [
    "og_rss = residual_sum_of_squares(og_test_output, og_model_1_predictions)\n",
    "rss = residual_sum_of_squares(model_1_test_data.target_array, model_1_predictions)\n",
    "assert og_rss == rss"
   ]
  },
  {
   "cell_type": "markdown",
   "metadata": {
    "collapsed": true,
    "tags": [
     "worksheet-0"
    ]
   },
   "source": [
    "## Running a multiple regression"
   ]
  },
  {
   "cell_type": "markdown",
   "metadata": {
    "collapsed": true,
    "tags": [
     "worksheet-0"
    ]
   },
   "source": [
    "Now we will use more than one actual feature. Use the following code to produce the weights for a second model with the following parameters:"
   ]
  },
  {
   "cell_type": "code",
   "execution_count": 103,
   "metadata": {
    "collapsed": false,
    "tags": [
     "worksheet-0"
    ]
   },
   "outputs": [],
   "source": [
    "model_features = ['sqft_living', 'sqft_living15'] # sqft_living15 is the average squarefeet for the nearest 15 neighbors. \n",
    "my_output = 'price'\n",
    "(feature_matrix, model_2_target) = sframe_to_numpy(train_data, model_features, my_output)\n",
    "initial_weights = np.array([-100000., 1., 1.])\n",
    "step_size = 4e-12\n",
    "tolerance = 1e9"
   ]
  },
  {
   "cell_type": "markdown",
   "metadata": {
    "collapsed": true,
    "tags": [
     "worksheet-0"
    ]
   },
   "source": [
    "Use the above parameters to estimate the model weights. Record these values for your quiz."
   ]
  },
  {
   "cell_type": "code",
   "execution_count": 104,
   "metadata": {
    "collapsed": false,
    "tags": [
     "worksheet-0"
    ]
   },
   "outputs": [],
   "source": [
    "multiple_weights = regression_gradient_descent(feature_matrix,\n",
    "                                               model_2_target,\n",
    "                                               initial_weights,\n",
    "                                               step_size,\n",
    "                                               tolerance)"
   ]
  },
  {
   "cell_type": "markdown",
   "metadata": {
    "collapsed": true,
    "tags": [
     "worksheet-0"
    ]
   },
   "source": [
    "Use your newly estimated weights and the predict_output function to compute the predictions on the TEST data. Don't forget to create a numpy array for these features from the test set first!\n",
    "<!-- ' -->"
   ]
  },
  {
   "cell_type": "code",
   "execution_count": 105,
   "metadata": {
    "collapsed": false,
    "tags": [
     "worksheet-0"
    ]
   },
   "outputs": [],
   "source": [
    "test_features_2, test_target_2 = sframe_to_numpy(test_data, model_features, my_output)\n",
    "model_2_predictions = predict_output(test_features_2, multiple_weights)"
   ]
  },
  {
   "cell_type": "markdown",
   "metadata": {
    "collapsed": true,
    "tags": [
     "worksheet-0"
    ]
   },
   "source": [
    "**Quiz Question: What is the predicted price for the 1st house in the TEST data set for model 2 (round to nearest dollar)?**\n",
    "\n",
    "** according to the quiz it is not $ 366651 **"
   ]
  },
  {
   "cell_type": "code",
   "execution_count": 107,
   "metadata": {
    "collapsed": false,
    "tags": [
     "worksheet-0"
    ]
   },
   "outputs": [
    {
     "name": "stdout",
     "output_type": "stream",
     "text": [
      "Predicted price for the first house: $ 366651\n"
     ]
    }
   ],
   "source": [
    "predict_model_2_house_1 = model_2_predictions[0]\n",
    "print(\"Predicted price for the first house: $ {0:.0f}\".format(predict_model_2_house_1))"
   ]
  },
  {
   "cell_type": "markdown",
   "metadata": {
    "collapsed": true,
    "tags": [
     "worksheet-0"
    ]
   },
   "source": [
    "What is the actual price for the 1st house in the test data set?"
   ]
  },
  {
   "cell_type": "code",
   "execution_count": 108,
   "metadata": {
    "collapsed": false,
    "tags": [
     "worksheet-0"
    ]
   },
   "outputs": [
    {
     "name": "stdout",
     "output_type": "stream",
     "text": [
      "Actual price for the first house in the test data: $ 310000\n"
     ]
    }
   ],
   "source": [
    "actual_test_price_house_1 = test_data['price'][0]\n",
    "print(\"Actual price for the first house in the test data: $ {0:.0f}\".format(actual_test_price_house_1))"
   ]
  },
  {
   "cell_type": "markdown",
   "metadata": {
    "collapsed": true,
    "tags": [
     "worksheet-0"
    ]
   },
   "source": [
    "**Quiz Question: Which estimate was closer to the true price for the 1st house on the Test data set, model 1 or model 2?**"
   ]
  },
  {
   "cell_type": "code",
   "execution_count": 109,
   "metadata": {
    "collapsed": false,
    "tags": [
     "worksheet-0"
    ]
   },
   "outputs": [
    {
     "name": "stdout",
     "output_type": "stream",
     "text": [
      "Model 1 Error: 46134\n",
      "Model 2 Error: 56651\n"
     ]
    }
   ],
   "source": [
    "model_1_error = predict_model_1_house_1 - actual_test_price_house_1\n",
    "model_2_error = predict_model_2_house_1 - actual_test_price_house_1\n",
    "print('Model 1 Error: {0:.0f}'.format(model_1_error))\n",
    "print('Model 2 Error: {0:.0f}'.format(model_2_error))\n",
    "\n",
    "                                                                                                                     "
   ]
  },
  {
   "cell_type": "markdown",
   "metadata": {
    "collapsed": true,
    "tags": [
     "worksheet-0"
    ]
   },
   "source": [
    "Model 1 was closer to the true price for house 1."
   ]
  },
  {
   "cell_type": "markdown",
   "metadata": {
    "collapsed": true,
    "tags": [
     "worksheet-0"
    ]
   },
   "source": [
    "Now use your predictions and the output to compute the RSS for model 2 on TEST data."
   ]
  },
  {
   "cell_type": "code",
   "execution_count": 112,
   "metadata": {
    "collapsed": false,
    "tags": [
     "worksheet-0"
    ]
   },
   "outputs": [
    {
     "name": "stdout",
     "output_type": "stream",
     "text": [
      "2.70263446465e+14\n"
     ]
    }
   ],
   "source": [
    "model_2_rss = residual_sum_of_squares(test_target_2, model_2_predictions)\n",
    "print(model_2_rss)"
   ]
  },
  {
   "cell_type": "markdown",
   "metadata": {
    "collapsed": true,
    "tags": [
     "worksheet-0"
    ]
   },
   "source": [
    "**Quiz Question: Which model (1 or 2) has lowest RSS on all of the TEST data? **"
   ]
  },
  {
   "cell_type": "code",
   "execution_count": 113,
   "metadata": {
    "collapsed": false,
    "tags": [
     "worksheet-0"
    ]
   },
   "outputs": [
    {
     "name": "stdout",
     "output_type": "stream",
     "text": [
      "model 1 RSS: 275400047593155.94\n",
      "model 2 RSS: 270263446465244.06\n",
      "model 1 has a higher RSS by 5136601127911.88\n"
     ]
    }
   ],
   "source": [
    "print(\"model 1 RSS: {0:.2f}\".format(model_1_rss))\n",
    "print(\"model 2 RSS: {0:.2f}\".format(model_2_rss))\n",
    "print(\"model 1 has a higher RSS by {0:.2f}\".format(model_1_rss - model_2_rss))\n",
    "assert model_2_rss < model_1_rss"
   ]
  }
 ],
 "metadata": {
  "kernelspec": {
   "display_name": "Python 2",
   "language": "python",
   "name": "python2"
  },
  "language_info": {
   "codemirror_mode": {
    "name": "ipython",
    "version": 2
   },
   "file_extension": ".py",
   "mimetype": "text/x-python",
   "name": "python",
   "nbconvert_exporter": "python",
   "pygments_lexer": "ipython2",
   "version": "2.7.10"
  },
  "name": "week-2-multiple-regression-assignment-2-blank.ipynb"
 },
 "nbformat": 4,
 "nbformat_minor": 0
}
