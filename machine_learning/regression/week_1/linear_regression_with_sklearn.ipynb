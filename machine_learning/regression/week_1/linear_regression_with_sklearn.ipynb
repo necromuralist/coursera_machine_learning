{
 "cells": [
  {
   "cell_type": "markdown",
   "metadata": {
    "ein.tags": [
     "worksheet-0"
    ]
   },
   "source": [
    "# Linear Regression With Sklearn"
   ]
  },
  {
   "cell_type": "markdown",
   "metadata": {
    "ein.tags": [
     "worksheet-0"
    ]
   },
   "source": [
    "This is a summary (by example) of how to perform a linear regression."
   ]
  },
  {
   "cell_type": "markdown",
   "metadata": {
    "ein.tags": [
     "worksheet-0"
    ]
   },
   "source": [
    "## Imports"
   ]
  },
  {
   "cell_type": "code",
   "execution_count": 9,
   "metadata": {
    "autoscroll": "json-false",
    "collapsed": false,
    "ein.tags": [
     "worksheet-0"
    ]
   },
   "outputs": [],
   "source": [
    "# third party\n",
    "\n",
    "from IPython import get_ipython\n",
    "import matplotlib.pyplot as plt\n",
    "import pandas\n",
    "import seaborn as sns\n",
    "import sklearn"
   ]
  },
  {
   "cell_type": "code",
   "execution_count": 10,
   "metadata": {
    "autoscroll": "json-false",
    "collapsed": false,
    "ein.tags": [
     "worksheet-0"
    ]
   },
   "outputs": [],
   "source": [
    "if __name__ != 'linear_regression_with_sklearn':\n",
    "    %matplotlib inline"
   ]
  },
  {
   "cell_type": "markdown",
   "metadata": {
    "ein.tags": [
     "worksheet-0"
    ]
   },
   "source": [
    "## Load the data"
   ]
  },
  {
   "cell_type": "code",
   "execution_count": 11,
   "metadata": {
    "autoscroll": "json-false",
    "collapsed": false,
    "ein.tags": [
     "worksheet-0"
    ]
   },
   "outputs": [
    {
     "data": {
      "text/plain": [
       "   HousePrice  HsPrc ($10,000)  CrimeRate  MilesPhila  PopChg        Name  \\\n0      140463          14.0463       29.7          10    -1.0    Abington   \n1      113033          11.3033       24.1          18     4.0      Ambler   \n2      124186          12.4186       19.5          25     8.0       Aston   \n3      110490          11.0490       49.4          25     2.7    Bensalem   \n4       79124           7.9124       54.1          19     3.9  Bristol B.   \n\n     County  \n0  Montgome  \n1  Montgome  \n2  Delaware  \n3     Bucks  \n4     Bucks  "
      ]
     },
     "execution_count": 11,
     "metadata": {},
     "output_type": "execute_result"
    }
   ],
   "source": [
    "sales = pandas.read_csv('../../../large_data/csvs/Philadelphia_Crime_Rate_noNA.csv')\n",
    "sales.head()"
   ]
  },
  {
   "cell_type": "code",
   "execution_count": 12,
   "metadata": {
    "autoscroll": "json-false",
    "collapsed": false,
    "ein.tags": [
     "worksheet-0"
    ]
   },
   "outputs": [
    {
     "data": {
      "text/plain": [
       "(99, 7)"
      ]
     },
     "execution_count": 12,
     "metadata": {},
     "output_type": "execute_result"
    }
   ],
   "source": [
    "sales.shape"
   ]
  },
  {
   "cell_type": "markdown",
   "metadata": {
    "ein.tags": [
     "worksheet-0"
    ]
   },
   "source": [
    "## Fit the regression model"
   ]
  },
  {
   "cell_type": "markdown",
   "metadata": {
    "ein.tags": [
     "worksheet-0"
    ]
   },
   "source": [
    "The target here it the sale-price of a house ('HousePrice') and the prediction variable is the crime-rate in the house's area ('CrimeRate')"
   ]
  },
  {
   "cell_type": "code",
   "execution_count": 13,
   "metadata": {
    "autoscroll": "json-false",
    "collapsed": false,
    "ein.tags": [
     "worksheet-0"
    ]
   },
   "outputs": [],
   "source": [
    "TARGET = 'HousePrice'\n",
    "FEATURES = ['CrimeRate']"
   ]
  },
  {
   "cell_type": "code",
   "execution_count": 14,
   "metadata": {
    "autoscroll": "json-false",
    "collapsed": false,
    "ein.tags": [
     "worksheet-0"
    ]
   },
   "outputs": [],
   "source": [
    "#crime_model = graphlab.linear_regression.create(sales, target='HousePrice',\n",
    "#                                                features=['CrimeRate'],\n",
    "#                                                validation_set=None,\n",
    "#                                                verbose=False)\n",
    "crime_model = None"
   ]
  },
  {
   "cell_type": "markdown",
   "metadata": {
    "ein.tags": [
     "worksheet-0"
    ]
   },
   "source": [
    "## Plot the line"
   ]
  },
  {
   "cell_type": "code",
   "execution_count": 15,
   "metadata": {
    "autoscroll": "json-false",
    "collapsed": false,
    "ein.tags": [
     "worksheet-0"
    ]
   },
   "outputs": [],
   "source": [
    "def plot_data(data, model, title):\n",
    "    figure = plt.figure()\n",
    "    axe = figure.gca()\n",
    "    lines = axe.plot(data['CrimeRate'],data['HousePrice'],'.', label='Data')\n",
    "    lines = axe.plot(data['CrimeRate'], model.predict(data),'-', label='Fit')\n",
    "    label = axe.set_xlabel(\"Crime Rate\")\n",
    "    label = axe.set_ylabel(\"House Price\")\n",
    "    title = axe.set_title(title)\n",
    "    legend = axe.legend()\n"
   ]
  },
  {
   "cell_type": "code",
   "execution_count": 16,
   "metadata": {
    "autoscroll": "json-false",
    "collapsed": false,
    "ein.tags": [
     "worksheet-0"
    ]
   },
   "outputs": [],
   "source": [
    "#plot_data(sales, crime_model, 'Philadelpdhia Crime Rate vs House Price')"
   ]
  },
  {
   "cell_type": "markdown",
   "metadata": {
    "ein.tags": [
     "worksheet-0"
    ]
   },
   "source": [
    "## Identify the outlier"
   ]
  },
  {
   "cell_type": "code",
   "execution_count": 23,
   "metadata": {
    "autoscroll": "json-false",
    "collapsed": false,
    "ein.tags": [
     "worksheet-0"
    ]
   },
   "outputs": [
    {
     "name": "stdout",
     "output_type": "stream",
     "text": [
      "HousePrice            96200\n",
      "HsPrc ($10,000)        9.62\n",
      "CrimeRate             366.1\n",
      "MilesPhila                0\n",
      "PopChg                  4.8\n",
      "Name               Phila,CC\n",
      "County                Phila\n",
      "Name: 62, dtype: object\n"
     ]
    }
   ],
   "source": [
    "maximum_crime = sales['CrimeRate'].argmax()\n",
    "outlier = sales.ix[maximum_crime]\n",
    "print(outlier)"
   ]
  },
  {
   "cell_type": "markdown",
   "metadata": {
    "ein.tags": [
     "worksheet-0"
    ]
   },
   "source": [
    "## Get the model coefficients"
   ]
  },
  {
   "cell_type": "code",
   "execution_count": 25,
   "metadata": {
    "autoscroll": "json-false",
    "collapsed": false,
    "ein.tags": [
     "worksheet-0"
    ]
   },
   "outputs": [],
   "source": [
    "#coefficients = crime_model.get('coefficients')\n",
    "\n",
    "#print(coefficients)"
   ]
  },
  {
   "cell_type": "code",
   "execution_count": 26,
   "metadata": {
    "autoscroll": "json-false",
    "collapsed": false,
    "ein.tags": [
     "worksheet-0"
    ]
   },
   "outputs": [],
   "source": [
    "#intercept, slope = coefficients['value']\n",
    "#print(\"y = {m:.2f} x + {b:.2f}\".format(m=slope, b=intercept))"
   ]
  },
  {
   "cell_type": "markdown",
   "metadata": {
    "ein.tags": [
     "worksheet-0"
    ]
   },
   "source": [
    "## Predict House Price based on new crime rate"
   ]
  },
  {
   "cell_type": "markdown",
   "metadata": {
    "ein.tags": [
     "worksheet-0"
    ]
   },
   "source": [
    "Although I'm predicting values, I'll use real data points so that the values can be checked."
   ]
  },
  {
   "cell_type": "code",
   "execution_count": null,
   "metadata": {
    "autoscroll": "json-false",
    "collapsed": false,
    "ein.tags": [
     "worksheet-0"
    ]
   },
   "outputs": [],
   "source": [
    "new_data = graphlab.SFrame({'CrimeRate': [sales[0]['CrimeRate']]})\n",
    "prediction = crime_model.predict(new_data)\n",
    "actual = sales[0]['HousePrice']\n",
    "print(\"Prediction: {0:.2f}\".format(prediction[0]))\n",
    "print(\"Actual: {0:.2f}\".format(actual))\n",
    "print('Difference: {0:.2f}'.format(prediction[0] - actual))"
   ]
  },
  {
   "cell_type": "code",
   "execution_count": null,
   "metadata": {
    "autoscroll": "json-false",
    "collapsed": false,
    "ein.tags": [
     "worksheet-0"
    ]
   },
   "outputs": [],
   "source": [
    "outlier_check = crime_model.predict(outlier)\n",
    "print(\"Prediction: {0:.2f}\".format(outlier_check[0]))\n",
    "print(\"Actual Data: {0:.2f}\".format(outlier['HousePrice']))\n",
    "print(\"Error predicting the outlier: {0:.2f}\".format(outlier['HousePrice'] - outlier_check[0]))"
   ]
  }
 ],
 "metadata": {},
 "nbformat": 4,
 "nbformat_minor": 0
}
