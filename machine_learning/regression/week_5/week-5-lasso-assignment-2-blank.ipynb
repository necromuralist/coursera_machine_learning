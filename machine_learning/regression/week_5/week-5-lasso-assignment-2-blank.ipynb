{
 "cells": [
  {
   "cell_type": "markdown",
   "metadata": {
    "ein.tags": [
     "worksheet-0"
    ]
   },
   "source": [
    "# Regression Week 5: LASSO (coordinate descent)"
   ]
  },
  {
   "cell_type": "markdown",
   "metadata": {
    "ein.tags": [
     "worksheet-0"
    ]
   },
   "source": [
    "In this notebook, you will implement your very own LASSO solver via coordinate descent. You will:\n",
    "* Write a function to normalize features\n",
    "* Implement coordinate descent for LASSO\n",
    "* Explore effects of L1 penalty"
   ]
  },
  {
   "cell_type": "markdown",
   "metadata": {
    "ein.tags": [
     "worksheet-0"
    ]
   },
   "source": [
    "## Imports"
   ]
  },
  {
   "cell_type": "markdown",
   "metadata": {
    "ein.tags": [
     "worksheet-0"
    ]
   },
   "source": [
    "Make sure you have the latest version of graphlab (>= 1.7)"
   ]
  },
  {
   "cell_type": "code",
   "execution_count": 1,
   "metadata": {
    "autoscroll": "json-false",
    "collapsed": false,
    "ein.tags": [
     "worksheet-0"
    ]
   },
   "outputs": [],
   "source": [
    "# python standard library\n",
    "import os\n",
    "\n",
    "# third-party\n",
    "import graphlab\n",
    "import numpy as numpy\n",
    "\n",
    "# this code\n",
    "import machine_learning\n",
    "from machine_learning.coursera.regression.common_utilities.numpy_helpers import (get_numpy_data,\n",
    "                                                                                 predict_output)"
   ]
  },
  {
   "cell_type": "markdown",
   "metadata": {
    "ein.tags": [
     "worksheet-0"
    ]
   },
   "source": [
    "## Load in house sales data\n",
    "\n",
    "Dataset is from house sales in King County, the region where the city of Seattle, WA is located."
   ]
  },
  {
   "cell_type": "code",
   "execution_count": 2,
   "metadata": {
    "autoscroll": "json-false",
    "collapsed": false,
    "ein.tags": [
     "worksheet-0"
    ]
   },
   "outputs": [
    {
     "name": "stderr",
     "output_type": "stream",
     "text": [
      "[INFO] GraphLab Server Version: 1.7.1\n"
     ]
    },
    {
     "name": "stderr",
     "output_type": "stream",
     "text": [
      "[INFO] Start server at: ipc:///tmp/graphlab_server-22147 - Server binary: /home/charon/.virtualenvs/machinelearning/lib/python2.7/site-packages/graphlab/unity_server - Server log: /tmp/graphlab_server_1451867924.log\n"
     ]
    },
    {
     "name": "stderr",
     "output_type": "stream",
     "text": [
      "[INFO] \u001b[1;32m1451867924 : INFO:     (initialize_globals_from_environment:282): Setting configuration variable GRAPHLAB_FILEIO_ALTERNATIVE_SSL_CERT_FILE to /home/charon/.virtualenvs/machinelearning/local/lib/python2.7/site-packages/certifi/cacert.pem\n",
      "\u001b[0m\u001b[1;32m1451867924 : INFO:     (initialize_globals_from_environment:282): Setting configuration variable GRAPHLAB_FILEIO_ALTERNATIVE_SSL_CERT_DIR to \n",
      "\u001b[0mThis non-commercial license of GraphLab Create is assigned to necromuralist@gmail.com and will expire on October 20, 2016. For commercial licensing options, visit https://dato.com/buy/.\n",
      "\n"
     ]
    }
   ],
   "source": [
    "data_path = os.path.join(machine_learning.__path__[0], machine_learning.large_data_path, 'kc_house_data.gl/')\n",
    "sales = graphlab.SFrame(data_path)\n",
    "# In the dataset, 'floors' was defined with type string, \n",
    "# so we'll convert them to int, before using it below\n",
    "sales['floors'] = sales['floors'].astype(int) "
   ]
  },
  {
   "cell_type": "markdown",
   "metadata": {
    "ein.tags": [
     "worksheet-0"
    ]
   },
   "source": [
    "If we want to do any \"feature engineering\" like creating new features or adjusting existing ones we should do this directly using the SFrames as seen in the first notebook of Week 2. For this notebook, however, we will work with the existing features."
   ]
  },
  {
   "cell_type": "markdown",
   "metadata": {
    "ein.tags": [
     "worksheet-0"
    ]
   },
   "source": [
    "## Import useful functions from previous notebook"
   ]
  },
  {
   "cell_type": "markdown",
   "metadata": {
    "ein.tags": [
     "worksheet-0"
    ]
   },
   "source": [
    "As in Week 2, we convert the SFrame into a 2D Numpy array. Copy and paste `get_num_data()` from the second notebook of Week 2."
   ]
  },
  {
   "cell_type": "markdown",
   "metadata": {
    "ein.tags": [
     "worksheet-0"
    ]
   },
   "source": [
    "Signature: get_numpy_data(data_sframe, features, output)\n",
    "Docstring:\n",
    ":param:\n",
    " - `data_sframe`: SFrame to convert\n",
    " - `features`: list of column names\n",
    " - `output`: the target\n",
    ":return: (matrix of data_sframe columns\n",
    "          with 'constant' column and 'features' column,\n",
    "          array from data_sframe using 'output' column)\n",
    " \n",
    "File:      ~/projects/machine_learning/machine_learning/coursera/regression/common_utilities/numpy_helpers.py\n",
    "Type:      function"
   ]
  },
  {
   "cell_type": "markdown",
   "metadata": {
    "ein.tags": [
     "worksheet-0"
    ]
   },
   "source": [
    "Also, copy and paste the `predict_output()` function to compute the predictions for an entire matrix of features given the matrix and the weights:"
   ]
  },
  {
   "cell_type": "markdown",
   "metadata": {
    "ein.tags": [
     "worksheet-0"
    ]
   },
   "source": [
    "Signature: predict_output(feature_matrix, weights)\n",
    "Docstring:\n",
    ":param:\n",
    " - `feature_matrix`:numpy matrix containing the features\n",
    " - `weights`: vector to apply to the feature_matrix\n",
    "\n",
    ":return: dot-product of feature_matrix and weights\n",
    "File:      ~/projects/machine_learning/machine_learning/coursera/regression/common_utilities/numpy_helpers.py\n",
    "Type:      function"
   ]
  },
  {
   "cell_type": "markdown",
   "metadata": {
    "ein.tags": [
     "worksheet-0"
    ]
   },
   "source": [
    "## Normalize features\n",
    "In the house dataset, features vary wildly in their relative magnitude: `sqft_living` is very large overall compared to `bedrooms`, for instance. As a result, weight for `sqft_living` would be much smaller than weight for `bedrooms`. This is problematic because \"small\" weights are dropped first as `l1_penalty` goes up. \n",
    "\n",
    "To give equal considerations for all features, we need to **normalize features** as discussed in the lectures: we divide each feature by its 2-norm so that the transformed feature has norm 1.\n",
    "\n",
    "Let's see how we can do this normalization easily with Numpy: let us first consider a small matrix."
   ]
  },
  {
   "cell_type": "code",
   "execution_count": 3,
   "metadata": {
    "autoscroll": "json-false",
    "collapsed": false,
    "ein.tags": [
     "worksheet-0"
    ]
   },
   "outputs": [
    {
     "name": "stdout",
     "output_type": "stream",
     "text": [
      "[[  3.   5.   8.]\n",
      " [  4.  12.  15.]]\n"
     ]
    }
   ],
   "source": [
    "X = numpy.array([[3.,5.,8.],[4.,12.,15.]])\n",
    "print(X)"
   ]
  },
  {
   "cell_type": "markdown",
   "metadata": {
    "ein.tags": [
     "worksheet-0"
    ]
   },
   "source": [
    "Numpy provides a shorthand for computing 2-norms of each column:"
   ]
  },
  {
   "cell_type": "code",
   "execution_count": 4,
   "metadata": {
    "autoscroll": "json-false",
    "collapsed": false,
    "ein.tags": [
     "worksheet-0"
    ]
   },
   "outputs": [
    {
     "name": "stdout",
     "output_type": "stream",
     "text": [
      "[  5.  13.  17.]\n"
     ]
    }
   ],
   "source": [
    "norms = numpy.linalg.norm(X, axis=0) # gives [norm(X[:,0]), norm(X[:,1]), norm(X[:,2])]\n",
    "print(norms)"
   ]
  },
  {
   "cell_type": "code",
   "execution_count": 5,
   "metadata": {
    "autoscroll": "json-false",
    "collapsed": false,
    "ein.tags": [
     "worksheet-0"
    ]
   },
   "outputs": [],
   "source": [
    "def normalize(x):\n",
    "    return numpy.sqrt((x**2).sum())"
   ]
  },
  {
   "cell_type": "code",
   "execution_count": 6,
   "metadata": {
    "autoscroll": "json-false",
    "collapsed": false,
    "ein.tags": [
     "worksheet-0"
    ]
   },
   "outputs": [
    {
     "data": {
      "text/plain": [
       "(2, 3)"
      ]
     },
     "execution_count": 6,
     "metadata": {},
     "output_type": "execute_result"
    }
   ],
   "source": [
    "X.shape"
   ]
  },
  {
   "cell_type": "code",
   "execution_count": 7,
   "metadata": {
    "autoscroll": "json-false",
    "collapsed": false,
    "ein.tags": [
     "worksheet-0"
    ]
   },
   "outputs": [
    {
     "name": "stdout",
     "output_type": "stream",
     "text": [
      "5.0\n",
      "13.0\n",
      "17.0\n"
     ]
    }
   ],
   "source": [
    "for i in range(X.shape[1]):\n",
    "    print(normalize(X[:, i]))"
   ]
  },
  {
   "cell_type": "markdown",
   "metadata": {
    "ein.tags": [
     "worksheet-0"
    ]
   },
   "source": [
    "To normalize, apply element-wise division:"
   ]
  },
  {
   "cell_type": "code",
   "execution_count": 8,
   "metadata": {
    "autoscroll": "json-false",
    "collapsed": false,
    "ein.tags": [
     "worksheet-0"
    ]
   },
   "outputs": [
    {
     "name": "stdout",
     "output_type": "stream",
     "text": [
      "[[ 0.6         0.38461538  0.47058824]\n",
      " [ 0.8         0.92307692  0.88235294]]\n"
     ]
    }
   ],
   "source": [
    "print( X / norms) # gives [X[:,0]/norm(X[:,0]), X[:,1]/norm(X[:,1]), X[:,2]/norm(X[:,2])]"
   ]
  },
  {
   "cell_type": "markdown",
   "metadata": {
    "ein.tags": [
     "worksheet-0"
    ]
   },
   "source": [
    "Using the shorthand we just covered, write a short function called `normalize_features(feature_matrix)`, which normalizes columns of a given feature matrix. The function should return a pair `(normalized_features, norms)`, where the second item contains the norms of original features. As discussed in the lectures, we will use these norms to normalize the test data in the same way as we normalized the training data. "
   ]
  },
  {
   "cell_type": "code",
   "execution_count": 9,
   "metadata": {
    "autoscroll": "json-false",
    "collapsed": false,
    "ein.tags": [
     "worksheet-0"
    ]
   },
   "outputs": [],
   "source": [
    "def normalize_features(feature_matrix):\n",
    "    \"\"\"\n",
    "    :param:\n",
    "     - `feature_matrix`: numpy array to be normalized (along columns)\n",
    "    :return: (normalized feature_matrix, matrix of norms for feature_matrix)\n",
    "    \"\"\"\n",
    "    norms = numpy.linalg.norm(feature_matrix, axis=0)\n",
    "    return feature_matrix/norms, norms"
   ]
  },
  {
   "cell_type": "markdown",
   "metadata": {
    "ein.tags": [
     "worksheet-0"
    ]
   },
   "source": [
    "To test the function, run the following:"
   ]
  },
  {
   "cell_type": "code",
   "execution_count": 10,
   "metadata": {
    "autoscroll": "json-false",
    "collapsed": false,
    "ein.tags": [
     "worksheet-0"
    ]
   },
   "outputs": [
    {
     "name": "stdout",
     "output_type": "stream",
     "text": [
      "[[ 0.6  0.6  0.6]\n",
      " [ 0.8  0.8  0.8]]\n",
      "[  5.  10.  15.]\n"
     ]
    }
   ],
   "source": [
    "features, norms = normalize_features(numpy.array([[3.,6.,9.],[4.,8.,12.]]))\n",
    "print(features)\n",
    "\n",
    "expected_features = numpy.array( [[ 0.6,  0.6,  0.6],\n",
    "                                  [ 0.8,  0.8,  0.8]])\n",
    "assert (features == expected_features).all()\n",
    "print(norms)\n",
    "\n",
    "expected_norms = numpy.array( [5.,  10.,  15.])\n",
    "assert (expected_norms == norms).all()"
   ]
  },
  {
   "cell_type": "markdown",
   "metadata": {
    "ein.tags": [
     "worksheet-0"
    ]
   },
   "source": [
    "## Implementing Coordinate Descent with normalized features"
   ]
  },
  {
   "cell_type": "markdown",
   "metadata": {
    "ein.tags": [
     "worksheet-0"
    ]
   },
   "source": [
    "We seek to obtain a sparse set of weights by minimizing the LASSO cost function\n",
    "```\n",
    "SUM[ (prediction - output)^2 ] + lambda*( |w[1]| + ... + |w[k]|).\n",
    "```\n",
    "(By convention, we do not include `w[0]` in the L1 penalty term. We never want to push the intercept to zero.)\n",
    "\n",
    "The absolute value sign makes the cost function non-differentiable, so simple gradient descent is not viable (you would need to implement a method called subgradient descent). Instead, we will use **coordinate descent**: at each iteration, we will fix all weights but weight `i` and find the value of weight `i` that minimizes the objective. That is, we look for\n",
    "```\n",
    "argmin_{w[i]} [ SUM[ (prediction - output)^2 ] + lambda*( |w[1]| + ... + |w[k]|) ]\n",
    "```\n",
    "where all weights other than `w[i]` are held to be constant. We will optimize one `w[i]` at a time, circling through the weights multiple times.  \n",
    "  1. Pick a coordinate `i`\n",
    "  2. Compute `w[i]` that minimizes the cost function `SUM[ (prediction - output)^2 ] + lambda*( |w[1]| + ... + |w[k]|)`\n",
    "  3. Repeat Steps 1 and 2 for all coordinates, multiple times"
   ]
  },
  {
   "cell_type": "markdown",
   "metadata": {
    "ein.tags": [
     "worksheet-0"
    ]
   },
   "source": [
    "For this notebook, we use **cyclical coordinate descent with normalized features**, where we cycle through coordinates 0 to (d-1) in order, and assume the features were normalized as discussed above. The formula for optimizing each coordinate is as follows:\n",
    "```\n",
    "       ┌ (ro[i] + lambda/2)     if ro[i] < -lambda/2\n",
    "w[i] = ├ 0                      if -lambda/2 <= ro[i] <= lambda/2\n",
    "       └ (ro[i] - lambda/2)     if ro[i] > lambda/2\n",
    "```\n",
    "where\n",
    "```\n",
    "ro[i] = SUM[ [feature_i]*(output - prediction + w[i]*[feature_i]) ].\n",
    "```\n",
    "\n",
    "Note that we do not regularize the weight of the constant feature (intercept) `w[0]`, so, for this weight, the update is simply:\n",
    "```\n",
    "w[0] = ro[i]\n",
    "```"
   ]
  },
  {
   "cell_type": "markdown",
   "metadata": {
    "ein.tags": [
     "worksheet-0"
    ]
   },
   "source": [
    "## Effect of L1 penalty"
   ]
  },
  {
   "cell_type": "markdown",
   "metadata": {
    "ein.tags": [
     "worksheet-0"
    ]
   },
   "source": [
    "Let us consider a simple model with 2 features:"
   ]
  },
  {
   "cell_type": "code",
   "execution_count": 11,
   "metadata": {
    "autoscroll": "json-false",
    "collapsed": false,
    "ein.tags": [
     "worksheet-0"
    ]
   },
   "outputs": [],
   "source": [
    "simple_features = ['sqft_living', 'bedrooms']\n",
    "my_output = 'price'\n",
    "(simple_feature_matrix, output) = get_numpy_data(sales, simple_features, my_output)"
   ]
  },
  {
   "cell_type": "markdown",
   "metadata": {
    "ein.tags": [
     "worksheet-0"
    ]
   },
   "source": [
    "Don't forget to normalize features:"
   ]
  },
  {
   "cell_type": "code",
   "execution_count": 12,
   "metadata": {
    "autoscroll": "json-false",
    "collapsed": false,
    "ein.tags": [
     "worksheet-0"
    ]
   },
   "outputs": [],
   "source": [
    "simple_feature_matrix, norms = normalize_features(simple_feature_matrix)"
   ]
  },
  {
   "cell_type": "markdown",
   "metadata": {
    "ein.tags": [
     "worksheet-0"
    ]
   },
   "source": [
    "We assign some random set of initial weights and inspect the values of `ro[i]`:"
   ]
  },
  {
   "cell_type": "code",
   "execution_count": 13,
   "metadata": {
    "autoscroll": "json-false",
    "collapsed": false,
    "ein.tags": [
     "worksheet-0"
    ]
   },
   "outputs": [],
   "source": [
    "weights = numpy.array([1., 4., 1.])"
   ]
  },
  {
   "cell_type": "markdown",
   "metadata": {
    "ein.tags": [
     "worksheet-0"
    ]
   },
   "source": [
    "Use `predict_output()` to make predictions on this data."
   ]
  },
  {
   "cell_type": "code",
   "execution_count": 14,
   "metadata": {
    "autoscroll": "json-false",
    "collapsed": false,
    "ein.tags": [
     "worksheet-0"
    ]
   },
   "outputs": [],
   "source": [
    "prediction = predict_output(simple_feature_matrix, weights)"
   ]
  },
  {
   "cell_type": "markdown",
   "metadata": {
    "ein.tags": [
     "worksheet-0"
    ]
   },
   "source": [
    "Compute the values of `ro[i]` for each feature in this simple model, using the formula given above, using the formula:\n",
    "```\n",
    "ro[i] = SUM[ [feature_i]*(output - prediction + w[i]*[feature_i]) ]\n",
    "```\n",
    "\n",
    "*Hint: You can get a Numpy vector for feature_i using:*\n",
    "```\n",
    "simple_feature_matrix[:,i]\n",
    "```"
   ]
  },
  {
   "cell_type": "code",
   "execution_count": 15,
   "metadata": {
    "autoscroll": "json-false",
    "collapsed": false,
    "ein.tags": [
     "worksheet-0"
    ]
   },
   "outputs": [
    {
     "data": {
      "text/plain": [
       "array([ 0.00680209,  0.00680209,  0.00680209, ...,  0.00680209,\n        0.00680209,  0.00680209])"
      ]
     },
     "execution_count": 15,
     "metadata": {},
     "output_type": "execute_result"
    }
   ],
   "source": [
    "simple_feature_matrix[:,0]"
   ]
  },
  {
   "cell_type": "code",
   "execution_count": 16,
   "metadata": {
    "autoscroll": "json-false",
    "collapsed": false,
    "ein.tags": [
     "worksheet-0"
    ]
   },
   "outputs": [
    {
     "data": {
      "text/plain": [
       "array([ 221899.98004343,  537999.96340953,  179999.98689506, ...,\n        402100.98390336,  399999.97501736,  324999.98390336])"
      ]
     },
     "execution_count": 16,
     "metadata": {},
     "output_type": "execute_result"
    }
   ],
   "source": [
    "output - prediction + weights[0] * simple_feature_matrix[:, 0]"
   ]
  },
  {
   "cell_type": "code",
   "execution_count": 17,
   "metadata": {
    "autoscroll": "json-false",
    "collapsed": false,
    "ein.tags": [
     "worksheet-0"
    ]
   },
   "outputs": [],
   "source": [
    "ro = []\n",
    "for column in range(simple_feature_matrix.shape[1]):\n",
    "    ro.append((simple_feature_matrix[:, column] * (output - prediction + weights[column] * simple_feature_matrix[:, column])).sum())"
   ]
  },
  {
   "cell_type": "markdown",
   "metadata": {
    "ein.tags": [
     "worksheet-0"
    ]
   },
   "source": [
    "***QUIZ QUESTION***\n",
    "\n",
    "Recall that, whenever `ro[i]` falls between `-l1_penalty/2` and `l1_penalty/2`, the corresponding weight `w[i]` is sent to zero. Now suppose we were to take one step of coordinate descent on either feature 1 or feature 2. What range of values of `l1_penalty` **would not** set `w[1]` zero, but **would** set `w[2]` to zero, if we were to take a step in that coordinate? "
   ]
  },
  {
   "cell_type": "markdown",
   "metadata": {
    "ein.tags": [
     "worksheet-0"
    ]
   },
   "source": [
    "-l1_penalty < 2ro < l1_penalty"
   ]
  },
  {
   "cell_type": "code",
   "execution_count": 18,
   "metadata": {
    "autoscroll": "json-false",
    "collapsed": false,
    "ein.tags": [
     "worksheet-0"
    ]
   },
   "outputs": [],
   "source": [
    "def zero_weight(value, l1_penalty):\n",
    "    if -l1_penalty/2 < value < l1_penalty/2:\n",
    "        return 0\n",
    "    return value"
   ]
  },
  {
   "cell_type": "code",
   "execution_count": 19,
   "metadata": {
    "autoscroll": "json-false",
    "collapsed": false,
    "ein.tags": [
     "worksheet-0"
    ]
   },
   "outputs": [
    {
     "name": "stdout",
     "output_type": "stream",
     "text": [
      "r0[1]: 0\n",
      "r0[2]: 0\n",
      "\n",
      "l1 penalty > 175878941.55\n"
     ]
    }
   ],
   "source": [
    "base_penalty_1 = ro[1] * 2\n",
    "penalty = base_penalty_1 + .00001\n",
    "print(\"r0[1]: {0}\".format(zero_weight(ro[1], penalty)))\n",
    "print(\"r0[2]: {0}\".format(zero_weight(ro[2], penalty)))\n",
    "print(\"\\nl1 penalty > {0:.2f}\".format(base_penalty_1))"
   ]
  },
  {
   "cell_type": "code",
   "execution_count": 20,
   "metadata": {
    "autoscroll": "json-false",
    "collapsed": false,
    "ein.tags": [
     "worksheet-0"
    ]
   },
   "outputs": [
    {
     "name": "stdout",
     "output_type": "stream",
     "text": [
      "r0[1]: 87939470.773\n",
      "r0[2]: 0\n",
      "\n",
      "l1 penalty > 161933397.35\n"
     ]
    }
   ],
   "source": [
    "base_penalty_2 = ro[2] * 2\n",
    "\n",
    "penalty = base_penalty_2 + .00001\n",
    "\n",
    "print(\"r0[1]: {0}\".format(zero_weight(ro[1], penalty)))\n",
    "print(\"r0[2]: {0}\".format(zero_weight(ro[2], penalty)))\n",
    "print(\"\\nl1 penalty > {0:.2f}\".format(base_penalty_2))"
   ]
  },
  {
   "cell_type": "code",
   "execution_count": 21,
   "metadata": {
    "autoscroll": "json-false",
    "collapsed": false,
    "ein.tags": [
     "worksheet-0"
    ]
   },
   "outputs": [
    {
     "name": "stdout",
     "output_type": "stream",
     "text": [
      "161933397.35 < l1 penalty < 175878941.55\n"
     ]
    }
   ],
   "source": [
    "print(\"{0:.2f} < l1 penalty < {1:.2f}\".format(base_penalty_2,\n",
    "                                              base_penalty_1))"
   ]
  },
  {
   "cell_type": "code",
   "execution_count": 83,
   "metadata": {
    "autoscroll": "json-false",
    "collapsed": false,
    "ein.tags": [
     "worksheet-0"
    ]
   },
   "outputs": [
    {
     "name": "stdout",
     "output_type": "stream",
     "text": [
      "option\t\tvalid\n",
      "-----------------------\n",
      "1.40e+08\tFalse\n",
      "1.64e+08\tTrue\n",
      "1.73e+08\tTrue\n",
      "1.90e+08\tFalse\n",
      "2.30e+08\tFalse\n"
     ]
    }
   ],
   "source": [
    "# options are the quiz multiple-choice options\n",
    "options = [1.4e8, 1.64e8, 1.73e8, 1.9e8, 2.3e8]\n",
    "print(\"option\\t\\tvalid\")\n",
    "print('-----------------------')\n",
    "for option in options:\n",
    "    print(\"{0:.2e}\\t{1}\".format(option,\n",
    "                            base_penalty_1 > option > base_penalty_2))"
   ]
  },
  {
   "cell_type": "markdown",
   "metadata": {
    "ein.tags": [
     "worksheet-0"
    ]
   },
   "source": [
    "***QUIZ QUESTION***\n",
    "\n",
    "What range of values of `l1_penalty` would set **both** `w[1]` and `w[2]` to zero, if we were to take a step in that coordinate? "
   ]
  },
  {
   "cell_type": "code",
   "execution_count": 22,
   "metadata": {
    "autoscroll": "json-false",
    "collapsed": false,
    "ein.tags": [
     "worksheet-0"
    ]
   },
   "outputs": [
    {
     "name": "stdout",
     "output_type": "stream",
     "text": [
      "r0[1]: 0\n",
      "r0[2]: 0\n",
      "\n",
      "l1 penalty > 175878941.55\n"
     ]
    }
   ],
   "source": [
    "penalty = base_penalty_1 + .000001\n",
    "print(\"r0[1]: {0}\".format(zero_weight(ro[1], penalty)))\n",
    "print(\"r0[2]: {0}\".format(zero_weight(ro[2], penalty)))\n",
    "print(\"\\nl1 penalty > {0:.2f}\".format(base_penalty_1))"
   ]
  },
  {
   "cell_type": "code",
   "execution_count": 84,
   "metadata": {
    "autoscroll": "json-false",
    "collapsed": false,
    "ein.tags": [
     "worksheet-0"
    ]
   },
   "outputs": [
    {
     "name": "stdout",
     "output_type": "stream",
     "text": [
      "option\t\tvalid\n",
      "-----------------------\n",
      "1.40e+08\tFalse\n",
      "1.64e+08\tFalse\n",
      "1.73e+08\tFalse\n",
      "1.90e+08\tTrue\n",
      "2.30e+08\tTrue\n"
     ]
    }
   ],
   "source": [
    "print(\"option\\t\\tvalid\")\n",
    "print('-----------------------')\n",
    "for option in options:\n",
    "    print(\"{0:.2e}\\t{1}\".format(option,\n",
    "                                option > base_penalty_1))"
   ]
  },
  {
   "cell_type": "markdown",
   "metadata": {
    "ein.tags": [
     "worksheet-0"
    ]
   },
   "source": [
    "So we can say that `ro[i]` quantifies the significance of the i-th feature: the larger `ro[i]` is, the more likely it is for the i-th feature to be retained."
   ]
  },
  {
   "cell_type": "markdown",
   "metadata": {
    "ein.tags": [
     "worksheet-0"
    ]
   },
   "source": [
    "## Single Coordinate Descent Step"
   ]
  },
  {
   "cell_type": "markdown",
   "metadata": {
    "ein.tags": [
     "worksheet-0"
    ]
   },
   "source": [
    "Using the formula above, implement coordinate descent that minimizes the cost function over a single feature i. Note that the intercept (weight 0) is not regularized. The function should accept feature matrix, output, current weights, l1 penalty, and index of feature to optimize over. The function should return new weight for feature i."
   ]
  },
  {
   "cell_type": "code",
   "execution_count": 23,
   "metadata": {
    "autoscroll": "json-false",
    "collapsed": false,
    "ein.tags": [
     "worksheet-0"
    ]
   },
   "outputs": [],
   "source": [
    "def lasso_coordinate_descent_step(column_index, feature_matrix, output, weights, l1_penalty):\n",
    "    \"\"\"\n",
    "    Regularizes the weight based on:\n",
    "               ┌ (ro[i] + lambda/2)     if ro[i] < -lambda/2\n",
    "        w[i] = ├ 0                      if -lambda/2 <= ro[i] <= lambda/2\n",
    "               └ (ro[i] - lambda/2)     if ro[i] > lambda/2\n",
    "\n",
    "    where\n",
    "        ro[i] = SUM[ [feature_i]*(output - prediction + w[i]*[feature_i]) ].\n",
    "\n",
    "    The intercept isn't regularized so:\n",
    "        w[0] = ro[i]\n",
    "    \n",
    "    :param:\n",
    "     - `column_index`: index of column to regularize\n",
    "     - `feature_matrix`: numpy array with column to regularize\n",
    "     - `output`: vector of target values\n",
    "     - `weights`: regression weights\n",
    "     - `l1_penalty`: regression penalty (lambda)\n",
    "    :return: new (regularized) weight for column\n",
    "    \"\"\"\n",
    "    # compute prediction\n",
    "    prediction = predict_output(feature_matrix, weights)\n",
    "    # compute ro[i] = SUM[ [feature_i]*(output - prediction + weight[i]*[feature_i]) ]\n",
    "    ro_i = (feature_matrix[:, column_index] * (output - prediction +\n",
    "                                               weights[column_index] *\n",
    "                                               feature_matrix[:, column_index])).sum()\n",
    "    \n",
    "    half_lambda = l1_penalty/2.\n",
    "    if column_index == 0: # intercept -- do not regularize\n",
    "        new_weight_i = ro_i \n",
    "    elif ro_i < -half_lambda:\n",
    "        new_weight_i = ro_i + half_lambda\n",
    "    elif ro_i > l1_penalty/2.:\n",
    "        new_weight_i = ro_i - half_lambda\n",
    "    else:\n",
    "        new_weight_i = 0.\n",
    "    \n",
    "    return new_weight_i"
   ]
  },
  {
   "cell_type": "markdown",
   "metadata": {
    "ein.tags": [
     "worksheet-0"
    ]
   },
   "source": [
    "To test the function, run the following cell:"
   ]
  },
  {
   "cell_type": "code",
   "execution_count": 24,
   "metadata": {
    "autoscroll": "json-false",
    "collapsed": false,
    "ein.tags": [
     "worksheet-0"
    ]
   },
   "outputs": [
    {
     "name": "stdout",
     "output_type": "stream",
     "text": [
      "0.425558846691\n"
     ]
    }
   ],
   "source": [
    "expected = 0.425558846691\n",
    "# we have 12 decimal places in the expected\n",
    "# so the upper bound on the difference is 1 x 10^{-13}\n",
    "delta = 1e-13\n",
    "import math\n",
    "actual = lasso_coordinate_descent_step(1, numpy.array([[3./math.sqrt(13),1./math.sqrt(10)],[2./math.sqrt(13),3./math.sqrt(10)]]), \n",
    "                                       numpy.array([1., 1.]), numpy.array([1., 4.]), 0.1)\n",
    "print(actual)\n",
    "assert abs(expected- actual) < delta, \"Difference: {0}\".format(abs(expected-actual))"
   ]
  },
  {
   "cell_type": "markdown",
   "metadata": {
    "ein.tags": [
     "worksheet-0"
    ]
   },
   "source": [
    "## Cyclical coordinate descent "
   ]
  },
  {
   "cell_type": "markdown",
   "metadata": {
    "ein.tags": [
     "worksheet-0"
    ]
   },
   "source": [
    "Now that we have a function that optimizes the cost function over a single coordinate, let us implement cyclical coordinate descent where we optimize coordinates 0, 1, ..., (d-1) in order and repeat.\n",
    "\n",
    "When do we know to stop? Each time we scan all the coordinates (features) once, we measure the change in weight for each coordinate. If no coordinate changes by more than a specified threshold, we stop."
   ]
  },
  {
   "cell_type": "markdown",
   "metadata": {
    "ein.tags": [
     "worksheet-0"
    ]
   },
   "source": [
    "For each iteration:\n",
    "1. As you loop over features in order and perform coordinate descent, measure how much each coordinate changes.\n",
    "2. After the loop, if the maximum change across all coordinates is falls below the tolerance, stop. Otherwise, go back to step 1.\n",
    "\n",
    "Return weights\n",
    "\n",
    "**IMPORTANT: when computing a new weight for coordinate i, make sure to incorporate the new weights for coordinates 0, 1, ..., i-1. One good way is to update your weights variable in-place. See following pseudocode for illustration.**\n",
    "```\n",
    "for i in range(len(weights)):\n",
    "    old_weights_i = weights[i] # remember old value of weight[i], as it will be overwritten\n",
    "    # the following line uses new values for weight[0], weight[1], ..., weight[i-1]\n",
    "    #     and old values for weight[i], ..., weight[d-1]\n",
    "    weights[i] = lasso_coordinate_descent_step(i, feature_matrix, output, weights, l1_penalty)\n",
    "    \n",
    "    # use old_weights_i to compute change in coordinate\n",
    "    ...\n",
    "```"
   ]
  },
  {
   "cell_type": "code",
   "execution_count": 25,
   "metadata": {
    "autoscroll": "json-false",
    "collapsed": false,
    "ein.tags": [
     "worksheet-0"
    ]
   },
   "outputs": [],
   "source": [
    "def lasso_cyclical_coordinate_descent(feature_matrix, output, initial_weights,\n",
    "                                      l1_penalty, tolerance):\n",
    "    \"\"\"\n",
    "    optimizes coordinates in order until threshold is reached\n",
    "\n",
    "    For each iteration:\n",
    "\n",
    "        1. loop over features in order and perform coordinate descent\n",
    "           1.1 measure how much each coordinate changes.\n",
    "        2. check if the maximum change across all coordinates is below tolerance\n",
    "           2.1 if so, stop. \n",
    "           2.2 Otherwise, go back to step 1.\n",
    "\n",
    "    :param:\n",
    "     - `feature_matrix`: numpy matrix of feature-data\n",
    "     - `output`: vector with the target data\n",
    "     - `initial_weights`: vector of weights to start the descent\n",
    "     - `l1_penalty`: regression penalty (lambda)\n",
    "     - `tolerance`: threshold for change to decide when to stop\n",
    "\n",
    "    :return: vector of new weights\n",
    "    \"\"\"\n",
    "    weights = initial_weights.copy()\n",
    "    maximum_change = tolerance + 1\n",
    "    while maximum_change > tolerance:\n",
    "        changes = []\n",
    "        for feature in range(len(weights)):\n",
    "            old_weights = weights[feature]\n",
    "            weights[feature] = lasso_coordinate_descent_step(column_index=feature,\n",
    "                                                             feature_matrix=feature_matrix,\n",
    "                                                             output=output,\n",
    "                                                             weights=weights,\n",
    "                                                             l1_penalty=l1_penalty)\n",
    "            changes.append(abs(old_weights - weights[feature]))\n",
    "        maximum_change = max(changes)\n",
    "    return weights\n",
    "    "
   ]
  },
  {
   "cell_type": "markdown",
   "metadata": {
    "ein.tags": [
     "worksheet-0"
    ]
   },
   "source": [
    "Using the following parameters, learn the weights on the sales dataset. "
   ]
  },
  {
   "cell_type": "code",
   "execution_count": 86,
   "metadata": {
    "autoscroll": "json-false",
    "collapsed": false,
    "ein.tags": [
     "worksheet-0"
    ]
   },
   "outputs": [],
   "source": [
    "class LassoRegression(object):\n",
    "    \"\"\"\n",
    "    Lasso Regression with coordinate descent\n",
    "    \"\"\"\n",
    "    def __init__(self, features, training_data, tolerance, l1_penalty, target='price'):\n",
    "        \"\"\"\n",
    "        :param:\n",
    "         - `features`: list of features to train on\n",
    "         - `training_data`: data to train\n",
    "         - `tolerance`: tolerance to stop coordinate descent\n",
    "         - `l1_penalty`: penalty for regression\n",
    "         - `target`: feature to predict\n",
    "        \"\"\"\n",
    "        self.features = features\n",
    "        self.training_data = training_data\n",
    "        self.tolerance = tolerance\n",
    "        self.l1_penalty = l1_penalty\n",
    "        self.target = target\n",
    "        self.reset()\n",
    "        return\n",
    "\n",
    "    def __str__(self):\n",
    "        \"\"\"\n",
    "        return string of given values (except data)\n",
    "        \"\"\"\n",
    "        return \"features: {0}\\ntolerance: {1}\\nL1 Penalty: {2}\\nTarget: '{3}'\".format(','.join(self.features),\n",
    "                                                                                      self.tolerance,\n",
    "                                                                                      self.l1_penalty,\n",
    "                                                                                      self.target)\n",
    "\n",
    "    @property\n",
    "    def feature_matrix(self):\n",
    "        \"\"\"\n",
    "        :return: numpy matrix\n",
    "        \"\"\"\n",
    "        if self._feature_matrix is None:\n",
    "            self._feature_matrix, self._output = get_numpy_data(self.training_data,\n",
    "                                                                self.features,\n",
    "                                                                self.target)\n",
    "        return self._feature_matrix\n",
    "\n",
    "    @property\n",
    "    def output(self):\n",
    "        \"\"\"\n",
    "        :return: vector of target data\n",
    "        \"\"\"\n",
    "        if self._output is None:\n",
    "            self._feature_matrix, self._output = get_numpy_data(self.training_data,\n",
    "                                                                self.features,\n",
    "                                                                self.target)\n",
    "        return self._output\n",
    "\n",
    "    @property\n",
    "    def normalized_feature_matrix(self):\n",
    "        \"\"\"\n",
    "        :return: normalized self.feature_matrix\n",
    "        \"\"\"\n",
    "        if self._normalized_feature_matrix is None:\n",
    "            self._normalized_feature_matrix = self.feature_matrix/self.norms\n",
    "        return self._normalized_feature_matrix\n",
    "\n",
    "    @property\n",
    "    def norms(self):\n",
    "        \"\"\"\n",
    "        :return: vector of norms used to create normalized features\n",
    "        \"\"\"\n",
    "        if self._norms is None:\n",
    "            self._norms = numpy.linalg.norm(self.feature_matrix, axis=0)\n",
    "        return self._norms\n",
    "\n",
    "    @property\n",
    "    def initial_weights(self):\n",
    "        \"\"\"\n",
    "        :return: vector of zeros for coordinate descent\n",
    "        \"\"\"\n",
    "        if self._initial_weights is None:\n",
    "            # add one for the intercept\n",
    "            self._initial_weights = numpy.zeros(len(self.features) + 1)\n",
    "        return self._initial_weights\n",
    "\n",
    "    @property\n",
    "    def weights(self):\n",
    "        \"\"\"\n",
    "        :return: vector of feature-weights\n",
    "        \"\"\"\n",
    "        if self._weights is None:\n",
    "            self._weights = lasso_cyclical_coordinate_descent(feature_matrix=self.normalized_feature_matrix,\n",
    "                                                              output=self.output,\n",
    "                                                              initial_weights=self.initial_weights,\n",
    "                                                              l1_penalty=self.l1_penalty,\n",
    "                                                              tolerance=self.tolerance)\n",
    "        return self._weights\n",
    "\n",
    "    @property\n",
    "    def weights_normalized(self):\n",
    "        \"\"\"\n",
    "        :return: vector of weights/norms\n",
    "        \"\"\"\n",
    "        if self._weights_normalized is None:\n",
    "            self._weights_normalized = self.weights/self.norms\n",
    "        return self._weights_normalized\n",
    "    \n",
    "    def filter_features(self, comparison=lambda weight: weight==0):\n",
    "        \"\"\"\n",
    "        :param:\n",
    "         - `comparison`: boolean function to filter the features (using weights)\n",
    "        :return: list of filtered features,weights \n",
    "        \"\"\"\n",
    "        return [(feature, self.weights[index])\n",
    "                for index, feature in enumerate(['intercept'] + self.features)\n",
    "                                      if comparison(self.weights[index])]\n",
    "    @property    \n",
    "    def non_zero_weights(self):\n",
    "        \"\"\"\n",
    "        :return: list of the features-weights that had non-zero weights\n",
    "        \"\"\"\n",
    "        if self._non_zero_weights is None:\n",
    "            self._non_zero_weights = self.filter_features(comparison=lambda weight: weight!=0)\n",
    "        return self._non_zero_weights\n",
    "\n",
    "    @property\n",
    "    def zero_weights(self):\n",
    "        \"\"\"\n",
    "        :return: list of features,weights for zero-weighted features\n",
    "        \"\"\"\n",
    "        if self._zero_weights is None:\n",
    "            self._zero_weights = self.filter_features(lambda w: w==0)\n",
    "        return self._zero_weights\n",
    "\n",
    "    def lasso_cyclical_coordinate_descent(self):\n",
    "        \"\"\"\n",
    "        optimizes coordinates in order until threshold is reached\n",
    "        \n",
    "        For each iteration:\n",
    "        \n",
    "            1. loop over features in order and perform coordinate descent\n",
    "               1.1 measure how much each coordinate changes.\n",
    "            2. check if the maximum change across all coordinates is below tolerance\n",
    "               2.1 if so, stop. \n",
    "               2.2 Otherwise, go back to step 1.\n",
    "        \n",
    "        :return: vector of new weights\n",
    "        \"\"\"\n",
    "        weights = self.initial_weights.copy()\n",
    "        maximum_change = self.tolerance + 1\n",
    "        while maximum_change > self.tolerance:\n",
    "            changes = []\n",
    "            for feature in range(len(weights)):\n",
    "                old_weights = weights[feature]\n",
    "                weights[feature] = self.lasso_coordinate_descent_step(column_index=feature,\n",
    "                                                                      weights=weights)\n",
    "                changes.append(abs(old_weights - weights[feature]))\n",
    "            maximum_change = max(changes)\n",
    "        return weights\n",
    "\n",
    "    def lasso_coordinate_descent_step(self, column_index, weights):\n",
    "        \"\"\"\n",
    "        Regularizes the weight based on:\n",
    "                   ┌ (ro[i] + lambda/2)     if ro[i] < -lambda/2\n",
    "            w[i] = ├ 0                      if -lambda/2 <= ro[i] <= lambda/2\n",
    "                   └ (ro[i] - lambda/2)     if ro[i] > lambda/2\n",
    "        \n",
    "        where\n",
    "            ro[i] = SUM[ [feature_i]*(output - prediction + w[i]*[feature_i]) ].\n",
    "        \n",
    "        The intercept isn't regularized so:\n",
    "            w[0] = ro[i]\n",
    "        \n",
    "        :param:\n",
    "         - `column_index`: index of column to regularize\n",
    "         - `weights`: regression weights\n",
    "        :return: new (regularized) weight for column\n",
    "        \"\"\"\n",
    "        feature_matrix = self.normalized_feature_matrix\n",
    "        # compute prediction        \n",
    "        prediction = predict_output(feature_matrix, weights)\n",
    "        # compute ro[i] = SUM[ [feature_i]*(output - prediction + weight[i]*[feature_i]) ]\n",
    "        ro_i = (feature_matrix[:, column_index] * (self.output - prediction +\n",
    "                                                   weights[column_index] *\n",
    "                                                   feature_matrix[:, column_index])).sum()\n",
    "        \n",
    "        half_lambda = self.l1_penalty/2.\n",
    "        \n",
    "        if column_index == 0: # intercept -- do not regularize\n",
    "            new_weight_i = ro_i \n",
    "        elif ro_i < -half_lambda:\n",
    "            new_weight_i = ro_i + half_lambda\n",
    "        elif ro_i > l1_penalty/2.:\n",
    "            new_weight_i = ro_i - half_lambda\n",
    "        else:\n",
    "            new_weight_i = 0.\n",
    "        return new_weight_i\n",
    "\n",
    "    def residual_sum_of_squares(self, data, output=None, data_is_normalized=False):\n",
    "        \"\"\"\n",
    "        :param:\n",
    "         - `data`: array of data to predict outcome\n",
    "         - `output`: target to compare predictions to\n",
    "         - `data_is_normalized`: if True use un-normalized weights\n",
    "        :return: RSS for predctions using data\n",
    "        \"\"\"\n",
    "        if data_is_normalized:\n",
    "            weights = self.weights\n",
    "        else:\n",
    "            weights = self.weights_normalized\n",
    "        if output is None:\n",
    "            output = self.output\n",
    "                \n",
    "        prediction = predict_output(data, weights)\n",
    "        return ((prediction - output)**2).sum()\n",
    "\n",
    "    def print_feature_weights(self, zeros=False, non_zero_weights=False):\n",
    "        \"\"\"\n",
    "        print out feature, weight\n",
    "\n",
    "         - if both or neither parameter is true, show all the weights\n",
    "\n",
    "        :param:\n",
    "         - `zeros`: if true, only show zeros\n",
    "         - `non_zero_weights`: if True only non-zero-weights\n",
    "        \"\"\"\n",
    "        longest = max(max(len(feature) for feature in self.features), len('intercept'))\n",
    "        output_string = '{{f:<{longest}}}\\t{{w:.2f}}'.format(longest=longest)\n",
    "        header = '{{f:<{l}}}'.format(l=longest).format(f='Feature')  + 'Weight'\n",
    "        print(header)\n",
    "        print('-' * len(header))\n",
    "        if all((zeros, non_zero_weights)) or not any((zeros, non_zero_weights)):\n",
    "            features = self.filter_features(comparison=lambda weight: True)\n",
    "        elif zeros:\n",
    "            features = self.zero_weights\n",
    "        else:\n",
    "            features = self.non_zero_weights\n",
    "        for feature, weight in features:\n",
    "            print(output_string.format(f=feature, w=weight))\n",
    "        return\n",
    "\n",
    "    def reset(self):\n",
    "        self._feature_matrix = None\n",
    "        self._feature_matrix = None\n",
    "        self._output = None\n",
    "        self._normalized_feature_matrix = None\n",
    "        self._norms = None\n",
    "        self._initial_weights = None\n",
    "        self._weights = None\n",
    "        self._weights_normalized = None\n",
    "        self._non_zero_weights = None\n",
    "        self._zero_weights = None\n",
    "        return\n",
    "# end class LassoRegression"
   ]
  },
  {
   "cell_type": "code",
   "execution_count": 27,
   "metadata": {
    "autoscroll": "json-false",
    "collapsed": false,
    "ein.tags": [
     "worksheet-0"
    ]
   },
   "outputs": [],
   "source": [
    "simple_features = ['sqft_living', 'bedrooms']\n",
    "my_output = 'price'\n",
    "initial_weights = numpy.zeros(3)\n",
    "l1_penalty = 1e7\n",
    "tolerance = 1.0"
   ]
  },
  {
   "cell_type": "code",
   "execution_count": 87,
   "metadata": {
    "autoscroll": "json-false",
    "collapsed": false,
    "ein.tags": [
     "worksheet-0"
    ]
   },
   "outputs": [],
   "source": [
    "simple_lasso = LassoRegression(features=simple_features,\n",
    "                               training_data=sales,\n",
    "                               tolerance=tolerance,\n",
    "                               l1_penalty=l1_penalty)"
   ]
  },
  {
   "cell_type": "markdown",
   "metadata": {
    "ein.tags": [
     "worksheet-0"
    ]
   },
   "source": [
    "First create a normalized version of the feature matrix, `normalized_simple_feature_matrix`"
   ]
  },
  {
   "cell_type": "code",
   "execution_count": 36,
   "metadata": {
    "autoscroll": "json-false",
    "collapsed": false,
    "ein.tags": [
     "worksheet-0"
    ]
   },
   "outputs": [],
   "source": [
    "(simple_feature_matrix, simple_output) = get_numpy_data(sales, simple_features, my_output)\n",
    "(normalized_simple_feature_matrix, simple_norms) = normalize_features(simple_feature_matrix) # normalize features"
   ]
  },
  {
   "cell_type": "code",
   "execution_count": 37,
   "metadata": {
    "autoscroll": "json-false",
    "collapsed": false,
    "ein.tags": [
     "worksheet-0"
    ]
   },
   "outputs": [
    {
     "name": "stdout",
     "output_type": "stream",
     "text": [
      "\n"
     ]
    },
    {
     "name": "stdout",
     "output_type": "stream",
     "text": [
      "(21613, 3)\n",
      "(21613, 3)"
     ]
    }
   ],
   "source": [
    "print(normalized_simple_feature_matrix.shape)\n",
    "print(simple_lasso.normalized_feature_matrix.shape)"
   ]
  },
  {
   "cell_type": "markdown",
   "metadata": {
    "ein.tags": [
     "worksheet-0"
    ]
   },
   "source": [
    "Then, run your implementation of LASSO coordinate descent:"
   ]
  },
  {
   "cell_type": "code",
   "execution_count": 38,
   "metadata": {
    "autoscroll": "json-false",
    "collapsed": false,
    "ein.tags": [
     "worksheet-0"
    ]
   },
   "outputs": [],
   "source": [
    "simple_weights = lasso_cyclical_coordinate_descent(normalized_simple_feature_matrix, simple_output,\n",
    "                                                   initial_weights, l1_penalty, tolerance)"
   ]
  },
  {
   "cell_type": "code",
   "execution_count": 39,
   "metadata": {
    "autoscroll": "json-false",
    "collapsed": false,
    "ein.tags": [
     "worksheet-0"
    ]
   },
   "outputs": [
    {
     "data": {
      "text/plain": [
       "array([ 21624998.36636292,  63157246.78545421,         0.        ])"
      ]
     },
     "execution_count": 39,
     "metadata": {},
     "output_type": "execute_result"
    }
   ],
   "source": [
    "simple_weights"
   ]
  },
  {
   "cell_type": "code",
   "execution_count": 88,
   "metadata": {
    "autoscroll": "json-false",
    "collapsed": false,
    "ein.tags": [
     "worksheet-0"
    ]
   },
   "outputs": [],
   "source": [
    "simple_lasso.reset()\n",
    "assert (simple_lasso.weights == simple_weights).all(), simple_lasso.weights"
   ]
  },
  {
   "cell_type": "markdown",
   "metadata": {
    "ein.tags": [
     "worksheet-0"
    ]
   },
   "source": [
    "***QUIZ QUESTIONS***\n",
    "1. What is the RSS of the learned model on the normalized dataset?\n",
    "2. Which features had weight zero at convergence?"
   ]
  },
  {
   "cell_type": "code",
   "execution_count": 89,
   "metadata": {
    "autoscroll": "json-false",
    "collapsed": false,
    "ein.tags": [
     "worksheet-0"
    ]
   },
   "outputs": [
    {
     "name": "stdout",
     "output_type": "stream",
     "text": [
      "RSS: 1.63e+15\n"
     ]
    }
   ],
   "source": [
    "prediction = predict_output(normalized_simple_feature_matrix, simple_weights)\n",
    "rss = ((prediction - simple_output)**2).sum()\n",
    "print( \"RSS: {0:.2e}\".format(rss))"
   ]
  },
  {
   "cell_type": "code",
   "execution_count": 90,
   "metadata": {
    "autoscroll": "json-false",
    "collapsed": false,
    "ein.tags": [
     "worksheet-0"
    ]
   },
   "outputs": [
    {
     "name": "stdout",
     "output_type": "stream",
     "text": [
      "RSS: 1.63e+15\n"
     ]
    }
   ],
   "source": [
    "lasso_rss = simple_lasso.residual_sum_of_squares(normalized_simple_feature_matrix, data_is_normalized=True)\n",
    "print(\"RSS: {0:.2e}\".format(lasso_rss))\n",
    "assert rss == lasso_rss"
   ]
  },
  {
   "cell_type": "code",
   "execution_count": 43,
   "metadata": {
    "autoscroll": "json-false",
    "collapsed": false,
    "ein.tags": [
     "worksheet-0"
    ]
   },
   "outputs": [
    {
     "name": "stdout",
     "output_type": "stream",
     "text": [
      "Zero-Weight Feature: ('bedrooms', 0.0)\n"
     ]
    }
   ],
   "source": [
    "def filter_features(features, weights, comparison=lambda x: x==0):\n",
    "    \"\"\"\n",
    "    :param:\n",
    "     - `features`: vector of feature names (without 'intercept')\n",
    "     - `weights`: vector of weights for the features (including intercept)\n",
    "     - `comparison`: boolean function to filter (in) features\n",
    "    :return: generator of filtered features, weights\n",
    "    \"\"\"\n",
    "    return((feature, weights[index]) for index, feature in enumerate(['intercept'] + features)\n",
    "           if comparison(weights[index]))\n",
    "            \n",
    "for feature in filter_features(simple_features, simple_weights):\n",
    "    print(\"Zero-Weight Feature: {0}\".format(feature))"
   ]
  },
  {
   "cell_type": "code",
   "execution_count": 44,
   "metadata": {
    "autoscroll": "json-false",
    "collapsed": false,
    "ein.tags": [
     "worksheet-0"
    ]
   },
   "outputs": [
    {
     "name": "stdout",
     "output_type": "stream",
     "text": [
      "Feature    Weight\n",
      "-----------------\n",
      "bedrooms   \t0.00\n"
     ]
    }
   ],
   "source": [
    "simple_lasso.print_feature_weights(zeros=True)"
   ]
  },
  {
   "cell_type": "code",
   "execution_count": 45,
   "metadata": {
    "autoscroll": "json-false",
    "collapsed": false,
    "ein.tags": [
     "worksheet-0"
    ]
   },
   "outputs": [
    {
     "name": "stdout",
     "output_type": "stream",
     "text": [
      "Feature    Weight\n",
      "-----------------\n",
      "intercept  \t21624998.37\n",
      "sqft_living\t63157246.79\n"
     ]
    }
   ],
   "source": [
    "simple_lasso.print_feature_weights(non_zero_weights=True)"
   ]
  },
  {
   "cell_type": "markdown",
   "metadata": {
    "ein.tags": [
     "worksheet-0"
    ]
   },
   "source": [
    "## Evaluating LASSO fit with more features"
   ]
  },
  {
   "cell_type": "markdown",
   "metadata": {
    "ein.tags": [
     "worksheet-0"
    ]
   },
   "source": [
    "Let us split the sales dataset into training and test sets."
   ]
  },
  {
   "cell_type": "code",
   "execution_count": 46,
   "metadata": {
    "autoscroll": "json-false",
    "collapsed": false,
    "ein.tags": [
     "worksheet-0"
    ]
   },
   "outputs": [],
   "source": [
    "from collections import namedtuple\n",
    "\n",
    "TrainTestData = namedtuple('TrainTestData', 'training testing'.split())"
   ]
  },
  {
   "cell_type": "code",
   "execution_count": 47,
   "metadata": {
    "autoscroll": "json-false",
    "collapsed": false,
    "ein.tags": [
     "worksheet-0"
    ]
   },
   "outputs": [],
   "source": [
    "train_data,test_data = sales.random_split(.8,seed=0)\n",
    "train_test_data = TrainTestData(training=train_data,\n",
    "                                testing=test_data)"
   ]
  },
  {
   "cell_type": "markdown",
   "metadata": {
    "ein.tags": [
     "worksheet-0"
    ]
   },
   "source": [
    "Let us consider the following set of features."
   ]
  },
  {
   "cell_type": "code",
   "execution_count": 48,
   "metadata": {
    "autoscroll": "json-false",
    "collapsed": false,
    "ein.tags": [
     "worksheet-0"
    ]
   },
   "outputs": [],
   "source": [
    "all_features = ['bedrooms',\n",
    "                'bathrooms',\n",
    "                'sqft_living',\n",
    "                'sqft_lot',\n",
    "                'floors',\n",
    "                'waterfront', \n",
    "                'view', \n",
    "                'condition', \n",
    "                'grade',\n",
    "                'sqft_above',\n",
    "                'sqft_basement',\n",
    "                'yr_built', \n",
    "                'yr_renovated']"
   ]
  },
  {
   "cell_type": "markdown",
   "metadata": {
    "ein.tags": [
     "worksheet-0"
    ]
   },
   "source": [
    "First, create a normalized feature matrix from the TRAINING data with these features.  (Make you store the norms for the normalization, since we'll use them later)"
   ]
  },
  {
   "cell_type": "code",
   "execution_count": 49,
   "metadata": {
    "autoscroll": "json-false",
    "collapsed": false,
    "ein.tags": [
     "worksheet-0"
    ]
   },
   "outputs": [],
   "source": [
    "feature_matrix, all_output = get_numpy_data(train_test_data.training, all_features, my_output)\n",
    "normalized_feature_matrix, all_norms = normalize_features(feature_matrix)"
   ]
  },
  {
   "cell_type": "markdown",
   "metadata": {
    "ein.tags": [
     "worksheet-0"
    ]
   },
   "source": [
    "First, learn the weights with `l1_penalty=1e7`, on the training data. Initialize weights to all zeros, and set the `tolerance=1`.  Call resulting weights `weights1e7`, you will need them later."
   ]
  },
  {
   "cell_type": "code",
   "execution_count": 50,
   "metadata": {
    "autoscroll": "json-false",
    "collapsed": false,
    "ein.tags": [
     "worksheet-0"
    ]
   },
   "outputs": [],
   "source": [
    "initial_weights = numpy.zeros(len(all_features) + 1)\n",
    "tolerance = 1\n",
    "l1_penalty = 1e7"
   ]
  },
  {
   "cell_type": "code",
   "execution_count": 51,
   "metadata": {
    "autoscroll": "json-false",
    "collapsed": false,
    "ein.tags": [
     "worksheet-0"
    ]
   },
   "outputs": [],
   "source": [
    "lasso_1e7 = LassoRegression(features=all_features,\n",
    "                            training_data=train_test_data.training,\n",
    "                            tolerance=tolerance,\n",
    "                            l1_penalty=1e7)"
   ]
  },
  {
   "cell_type": "code",
   "execution_count": 52,
   "metadata": {
    "autoscroll": "json-false",
    "collapsed": false,
    "ein.tags": [
     "worksheet-0"
    ]
   },
   "outputs": [],
   "source": [
    "all_weights = lasso_cyclical_coordinate_descent(normalized_feature_matrix, all_output,\n",
    "                                                initial_weights, l1_penalty, tolerance)"
   ]
  },
  {
   "cell_type": "code",
   "execution_count": 53,
   "metadata": {
    "autoscroll": "json-false",
    "collapsed": false,
    "ein.tags": [
     "worksheet-0"
    ]
   },
   "outputs": [
    {
     "name": "stdout",
     "output_type": "stream",
     "text": [
      "2.44e+07 x + 0.00e+00 x + 0.00e+00 x + 4.84e+07 x + 0.00e+00 x + 0.00e+00 x + 3.32e+06 x + 7.33e+06 x + 0.00e+00 x + 0.00e+00 x + 0.00e+00 x + 0.00e+00 x + 0.00e+00 x + 0.00e+00 x\n"
     ]
    }
   ],
   "source": [
    "print(' + '.join([\"{0:.2e} x\".format(w) for w in all_weights]))"
   ]
  },
  {
   "cell_type": "markdown",
   "metadata": {
    "ein.tags": [
     "worksheet-0"
    ]
   },
   "source": [
    "***QUIZ QUESTION***\n",
    "\n",
    "What features had non-zero weight in this case?"
   ]
  },
  {
   "cell_type": "code",
   "execution_count": 54,
   "metadata": {
    "autoscroll": "json-false",
    "collapsed": false,
    "ein.tags": [
     "worksheet-0"
    ]
   },
   "outputs": [
    {
     "name": "stdout",
     "output_type": "stream",
     "text": [
      "\n",
      "sqft_living  \t48389174.35\n",
      "waterfront   \t3317511.16\n",
      "view         \t7329961.98\n"
     ]
    },
    {
     "name": "stdout",
     "output_type": "stream",
     "text": [
      "Feature      Weight\n",
      "-------------------\n",
      "intercept    \t24429600.61"
     ]
    }
   ],
   "source": [
    "lasso_1e7.print_feature_weights(non_zero_weights=True)"
   ]
  },
  {
   "cell_type": "code",
   "execution_count": 55,
   "metadata": {
    "autoscroll": "json-false",
    "collapsed": false,
    "ein.tags": [
     "worksheet-0"
    ]
   },
   "outputs": [
    {
     "name": "stdout",
     "output_type": "stream",
     "text": [
      "Feature      Weight\n",
      "-------------------\n",
      "bedrooms     \t0.00\n",
      "bathrooms    \t0.00\n",
      "sqft_lot     \t0.00\n",
      "floors       \t0.00\n",
      "condition    \t0.00\n",
      "grade        \t0.00\n",
      "sqft_above   \t0.00\n",
      "sqft_basement\t0.00\n",
      "yr_built     \t0.00\n",
      "yr_renovated \t0.00\n"
     ]
    }
   ],
   "source": [
    "lasso_1e7.print_feature_weights(zeros=True)"
   ]
  },
  {
   "cell_type": "markdown",
   "metadata": {
    "ein.tags": [
     "worksheet-0"
    ]
   },
   "source": [
    "Next, learn the weights with `l1_penalty=1e8`, on the training data. Initialize weights to all zeros, and set the `tolerance=1`.  Call resulting weights `weights1e8`, you will need them later."
   ]
  },
  {
   "cell_type": "code",
   "execution_count": 56,
   "metadata": {
    "autoscroll": "json-false",
    "collapsed": false,
    "ein.tags": [
     "worksheet-0"
    ]
   },
   "outputs": [],
   "source": [
    "lasso_1e8 = LassoRegression(features=all_features,\n",
    "                            training_data=train_test_data.training,\n",
    "                            tolerance=1,\n",
    "                            l1_penalty=1e8)"
   ]
  },
  {
   "cell_type": "markdown",
   "metadata": {
    "ein.tags": [
     "worksheet-0"
    ]
   },
   "source": [
    "***QUIZ QUESTION***\n",
    "What features had non-zero weight in this case?"
   ]
  },
  {
   "cell_type": "code",
   "execution_count": 57,
   "metadata": {
    "autoscroll": "json-false",
    "collapsed": false,
    "ein.tags": [
     "worksheet-0"
    ]
   },
   "outputs": [
    {
     "name": "stdout",
     "output_type": "stream",
     "text": [
      "\n"
     ]
    },
    {
     "name": "stdout",
     "output_type": "stream",
     "text": [
      "Feature      Weight\n",
      "-------------------\n",
      "intercept    \t71114625.75"
     ]
    }
   ],
   "source": [
    "lasso_1e8.print_feature_weights(non_zero_weights=True)"
   ]
  },
  {
   "cell_type": "code",
   "execution_count": 58,
   "metadata": {
    "autoscroll": "json-false",
    "collapsed": false,
    "ein.tags": [
     "worksheet-0"
    ]
   },
   "outputs": [
    {
     "name": "stdout",
     "output_type": "stream",
     "text": [
      "Feature      Weight\n",
      "-------------------\n",
      "bedrooms     \t0.00\n",
      "bathrooms    \t0.00\n",
      "sqft_living  \t0.00\n",
      "sqft_lot     \t0.00\n",
      "floors       \t0.00\n",
      "waterfront   \t0.00\n",
      "view         \t0.00\n",
      "condition    \t0.00\n",
      "grade        \t0.00\n",
      "sqft_above   \t0.00\n",
      "sqft_basement\t0.00\n",
      "yr_built     \t0.00\n",
      "yr_renovated \t0.00\n"
     ]
    }
   ],
   "source": [
    "lasso_1e8.print_feature_weights(zeros=True)"
   ]
  },
  {
   "cell_type": "markdown",
   "metadata": {
    "ein.tags": [
     "worksheet-0"
    ]
   },
   "source": [
    "Finally, learn the weights with `l1_penalty=1e4`, on the training data. Initialize weights to all zeros, and set the `tolerance=5e5`.  Call resulting weights `weights1e4`, you will need them later.  (This case will take quite a bit longer to converge than the others above.)"
   ]
  },
  {
   "cell_type": "code",
   "execution_count": 91,
   "metadata": {
    "autoscroll": "json-false",
    "collapsed": false,
    "ein.tags": [
     "worksheet-0"
    ]
   },
   "outputs": [
    {
     "name": "stdout",
     "output_type": "stream",
     "text": [
      "features: bedrooms,bathrooms,sqft_living,sqft_lot,floors,waterfront,view,condition,grade,sqft_above,sqft_basement,yr_built,yr_renovated\n",
      "tolerance: 500000.0\n",
      "L1 Penalty: 10000.0\n",
      "Target: 'price'\n"
     ]
    }
   ],
   "source": [
    "lasso_1e4 = LassoRegression(features=all_features,\n",
    "                            training_data=train_test_data.training,\n",
    "                            tolerance=5e5,\n",
    "                            l1_penalty=1e4)\n",
    "print(str(lasso_1e4))"
   ]
  },
  {
   "cell_type": "markdown",
   "metadata": {
    "ein.tags": [
     "worksheet-0"
    ]
   },
   "source": [
    "***QUIZ QUESTION***\n",
    "\n",
    "What features had non-zero weight in this case?"
   ]
  },
  {
   "cell_type": "code",
   "execution_count": 92,
   "metadata": {
    "autoscroll": "json-false",
    "collapsed": false,
    "ein.tags": [
     "worksheet-0"
    ]
   },
   "outputs": [
    {
     "name": "stdout",
     "output_type": "stream",
     "text": [
      "\n",
      "bedrooms     \t-22884012.25\n",
      "bathrooms    \t15348487.08\n",
      "sqft_living  \t92166869.70\n",
      "sqft_lot     \t-2139328.08\n",
      "floors       \t-8818455.54\n",
      "waterfront   \t6494209.73\n",
      "view         \t7065162.05\n",
      "condition    \t4119079.21\n",
      "grade        \t18436483.53\n",
      "sqft_above   \t-14566678.55\n",
      "sqft_basement\t-5528348.75\n",
      "yr_built     \t-83591746.21\n",
      "yr_renovated \t2784276.46\n"
     ]
    },
    {
     "name": "stdout",
     "output_type": "stream",
     "text": [
      "Feature      Weight\n",
      "-------------------\n",
      "intercept    \t77779073.91"
     ]
    }
   ],
   "source": [
    "lasso_1e4.print_feature_weights(non_zero_weights=True)"
   ]
  },
  {
   "cell_type": "code",
   "execution_count": 93,
   "metadata": {
    "autoscroll": "json-false",
    "collapsed": false,
    "ein.tags": [
     "worksheet-0"
    ]
   },
   "outputs": [
    {
     "name": "stdout",
     "output_type": "stream",
     "text": [
      "Feature      Weight\n",
      "-------------------\n"
     ]
    }
   ],
   "source": [
    "lasso_1e4.print_feature_weights(zeros=True)"
   ]
  },
  {
   "cell_type": "markdown",
   "metadata": {
    "ein.tags": [
     "worksheet-0"
    ]
   },
   "source": [
    "## Rescaling learned weights"
   ]
  },
  {
   "cell_type": "markdown",
   "metadata": {
    "ein.tags": [
     "worksheet-0"
    ]
   },
   "source": [
    "Recall that we normalized our feature matrix, before learning the weights.  To use these weights on a test set, we must normalize the test data in the same way.\n",
    "\n",
    "Alternatively, we can rescale the learned weights to include the normalization, so we never have to worry about normalizing the test data: \n",
    "\n",
    "In this case, we must scale the resulting weights so that we can make predictions with *original* features:\n",
    " 1. Store the norms of the original features to a vector called `norms`:\n",
    "```\n",
    "features, norms = normalize_features(features)\n",
    "```\n",
    " 2. Run Lasso on the normalized features and obtain a `weights` vector\n",
    " 3. Compute the weights for the original features by performing element-wise division, i.e.\n",
    "```\n",
    "weights_normalized = weights / norms\n",
    "```\n",
    "Now, we can apply `weights_normalized` to the test data, without normalizing it!"
   ]
  },
  {
   "cell_type": "markdown",
   "metadata": {
    "ein.tags": [
     "worksheet-0"
    ]
   },
   "source": [
    "Create a normalized version of each of the weights learned above. (`weights1e4`, `weights1e7`, `weights1e8`)."
   ]
  },
  {
   "cell_type": "code",
   "execution_count": 73,
   "metadata": {
    "autoscroll": "json-false",
    "collapsed": false,
    "ein.tags": [
     "worksheet-0"
    ]
   },
   "outputs": [],
   "source": [
    "expected = 161.31745624837794\n",
    "actual = lasso_1e7.weights_normalized[3]\n",
    "\n",
    "# expected has 14 significant digits (allow two decimal points for the rounding)\n",
    "delta = 1e-12\n",
    "assert abs(expected - actual) < delta, \"Difference: {0}\".format(abs(actual - expected))"
   ]
  },
  {
   "cell_type": "markdown",
   "metadata": {
    "ein.tags": [
     "worksheet-0"
    ]
   },
   "source": [
    "To check your results, if you call `normalized_weights1e7` the normalized version of `weights1e7`, then:\n",
    "```\n",
    "print normalized_weights1e7[3]\n",
    "```\n",
    "should return 161.31745624837794."
   ]
  },
  {
   "cell_type": "markdown",
   "metadata": {
    "ein.tags": [
     "worksheet-0"
    ]
   },
   "source": [
    "## Evaluating each of the learned models on the test data"
   ]
  },
  {
   "cell_type": "markdown",
   "metadata": {
    "ein.tags": [
     "worksheet-0"
    ]
   },
   "source": [
    "Let's now evaluate the three models on the test data:"
   ]
  },
  {
   "cell_type": "code",
   "execution_count": 74,
   "metadata": {
    "autoscroll": "json-false",
    "collapsed": false,
    "ein.tags": [
     "worksheet-0"
    ]
   },
   "outputs": [],
   "source": [
    "(test_feature_matrix, test_output) = get_numpy_data(train_test_data.training, all_features, 'price')"
   ]
  },
  {
   "cell_type": "markdown",
   "metadata": {
    "ein.tags": [
     "worksheet-0"
    ]
   },
   "source": [
    "Compute the RSS of each of the three normalized weights on the (unnormalized) `test_feature_matrix`:"
   ]
  },
  {
   "cell_type": "code",
   "execution_count": 94,
   "metadata": {
    "autoscroll": "json-false",
    "collapsed": false,
    "ein.tags": [
     "worksheet-0"
    ]
   },
   "outputs": [],
   "source": [
    "models = {'1e7': lasso_1e7,\n",
    "          '1e8': lasso_1e8,\n",
    "          '1e4': lasso_1e4}\n",
    "outcomes = {name: model.residual_sum_of_squares(data=test_feature_matrix, output=test_output)\n",
    "            for name, model in models.iteritems()}"
   ]
  },
  {
   "cell_type": "code",
   "execution_count": 95,
   "metadata": {
    "autoscroll": "json-false",
    "collapsed": false,
    "ein.tags": [
     "worksheet-0"
    ]
   },
   "outputs": [
    {
     "name": "stdout",
     "output_type": "stream",
     "text": [
      "L1_Penalty RSS\n",
      "--------------\n",
      "1e8\t2.4e+15\n",
      "1e4\t9.8e+14\n",
      "1e7\t1.2e+15\n"
     ]
    }
   ],
   "source": [
    "header = \"L1_Penalty RSS\"\n",
    "print(header)\n",
    "print('-' * len(header))\n",
    "for name, value in outcomes.iteritems():\n",
    "    print(\"{0}\\t{1:.2}\".format(name, value))"
   ]
  },
  {
   "cell_type": "code",
   "execution_count": 96,
   "metadata": {
    "autoscroll": "json-false",
    "collapsed": false,
    "ein.tags": [
     "worksheet-0"
    ]
   },
   "outputs": [
    {
     "name": "stdout",
     "output_type": "stream",
     "text": [
      "1e4\t9.84789065063e+14\n"
     ]
    }
   ],
   "source": [
    "min_rss = min(outcomes.values())\n",
    "for name, value in outcomes.iteritems():\n",
    "    if value == min_rss:\n",
    "        print(\"{0}\\t{1}\".format(name, value))"
   ]
  },
  {
   "cell_type": "markdown",
   "metadata": {
    "ein.tags": [
     "worksheet-0"
    ]
   },
   "source": [
    "***QUIZ QUESTION***\n",
    "\n",
    "Which model performed best on the test data?\n",
    "\n",
    "1e4"
   ]
  }
 ],
 "metadata": {
  "kernelspec": {
   "display_name": "Python 2",
   "language": "python",
   "name": "python2"
  },
  "language_info": {
   "codemirror_mode": {
    "name": "ipython",
    "version": 2
   },
   "file_extension": ".py",
   "mimetype": "text/x-python",
   "name": "python",
   "nbconvert_exporter": "python",
   "pygments_lexer": "ipython2",
   "version": "2.7.10"
  },
  "name": "week-5-lasso-assignment-2-blank.ipynb"
 },
 "nbformat": 4,
 "nbformat_minor": 0
}
