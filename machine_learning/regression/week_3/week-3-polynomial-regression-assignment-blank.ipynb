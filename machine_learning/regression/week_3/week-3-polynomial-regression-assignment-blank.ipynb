{
 "cells": [
  {
   "cell_type": "markdown",
   "metadata": {
    "ein.tags": [
     "worksheet-0"
    ]
   },
   "source": [
    "# Regression Week 3: Assessing Fit (polynomial regression)"
   ]
  },
  {
   "cell_type": "code",
   "execution_count": 318,
   "metadata": {
    "autoscroll": "json-false",
    "collapsed": false,
    "ein.tags": [
     "worksheet-0"
    ]
   },
   "outputs": [],
   "source": [
    "# python standard library\n",
    "from abc import ABCMeta, abstractproperty, abstractmethod\n",
    "from collections import namedtuple\n",
    "\n",
    "# third-party\n",
    "import graphlab\n",
    "import matplotlib.pyplot as plt\n",
    "from matplotlib import pylab\n",
    "import numpy\n",
    "import pandas\n",
    "import seaborn\n",
    "from sklearn.cross_validation import train_test_split\n",
    "import statsmodels.api as statsmodels\n",
    "\n",
    "# this code\n",
    "from machine_learning.coursera.regression.common_utilities.regression_functions import residual_sum_of_squares"
   ]
  },
  {
   "cell_type": "code",
   "execution_count": 2,
   "metadata": {
    "autoscroll": "json-false",
    "collapsed": false,
    "ein.tags": [
     "worksheet-0"
    ]
   },
   "outputs": [],
   "source": [
    "%matplotlib inline\n",
    "pylab.rcParams['figure.figsize'] = (10.0, 8.0)"
   ]
  },
  {
   "cell_type": "markdown",
   "metadata": {
    "ein.tags": [
     "worksheet-0"
    ]
   },
   "source": [
    "In this notebook you will compare different regression models in order to assess which model fits best. We will be using polynomial regression as a means to examine this topic. In particular you will:\n",
    "* Write a function to take an SArray and a degree and return an SFrame where each column is the SArray to a polynomial value up to the total degree e.g. degree = 3 then column 1 is the SArray column 2 is the SArray squared and column 3 is the SArray cubed\n",
    "* Use matplotlib to visualize polynomial regressions\n",
    "* Use matplotlib to visualize the same polynomial degree on different subsets of the data\n",
    "* Use a validation set to select a polynomial degree\n",
    "* Assess the final fit using test data\n",
    "\n",
    "We will continue to use the House data from previous notebooks."
   ]
  },
  {
   "cell_type": "markdown",
   "metadata": {
    "ein.tags": [
     "worksheet-0"
    ]
   },
   "source": [
    "## Fire up graphlab create"
   ]
  },
  {
   "cell_type": "markdown",
   "metadata": {
    "ein.tags": [
     "worksheet-0"
    ]
   },
   "source": [
    "Next we're going to write a polynomial function that takes an SArray and a maximal degree and returns an SFrame with columns containing the SArray to all the powers up to the maximal degree.\n",
    "\n",
    "The easiest way to apply a power to an SArray is to use the .apply() and lambda x: functions. \n",
    "For example to take the example array and compute the third power we can do as follows: (note running this cell the first time may take longer than expected since it loads graphlab)\n",
    "<!-- ' -->"
   ]
  },
  {
   "cell_type": "code",
   "execution_count": 3,
   "metadata": {
    "autoscroll": "json-false",
    "collapsed": false,
    "ein.tags": [
     "worksheet-0"
    ]
   },
   "outputs": [
    {
     "name": "stdout",
     "output_type": "stream",
     "text": [
      "[1.0, 2.0, 3.0]\n",
      "[1.0, 8.0, 27.0]\n"
     ]
    }
   ],
   "source": [
    "tmp = graphlab.SArray([1., 2., 3.])\n",
    "tmp_cubed = tmp.apply(lambda x: x**3)\n",
    "print( tmp)\n",
    "print( tmp_cubed)"
   ]
  },
  {
   "cell_type": "code",
   "execution_count": 41,
   "metadata": {
    "autoscroll": "json-false",
    "collapsed": false,
    "ein.tags": [
     "worksheet-0"
    ]
   },
   "outputs": [
    {
     "name": "stdout",
     "output_type": "stream",
     "text": [
      "0    1\n",
      "1    2\n",
      "2    3\n",
      "dtype: float64\n",
      "0     1\n",
      "1     8\n",
      "2    27\n",
      "dtype: float64\n"
     ]
    }
   ],
   "source": [
    "temp = pandas.Series([1,2,3], dtype=float)\n",
    "temp_cubed = temp.apply(lambda x: x**3)\n",
    "print(temp)\n",
    "print(temp_cubed)"
   ]
  },
  {
   "cell_type": "markdown",
   "metadata": {
    "ein.tags": [
     "worksheet-0"
    ]
   },
   "source": [
    "We can create an empty SFrame using graphlab.SFrame() and then add any columns to it with ex_sframe['column_name'] = value. For example we create an empty SFrame and make the column 'power_1' to be the first power of tmp (i.e. tmp itself)."
   ]
  },
  {
   "cell_type": "code",
   "execution_count": 4,
   "metadata": {
    "autoscroll": "json-false",
    "collapsed": false,
    "ein.tags": [
     "worksheet-0"
    ]
   },
   "outputs": [
    {
     "name": "stdout",
     "output_type": "stream",
     "text": [
      "+---------+\n",
      "| power_1 |\n",
      "+---------+\n",
      "|   1.0   |\n",
      "|   2.0   |\n",
      "|   3.0   |\n",
      "+---------+\n",
      "[3 rows x 1 columns]\n",
      "\n"
     ]
    }
   ],
   "source": [
    "ex_sframe = graphlab.SFrame()\n",
    "ex_sframe['power_1'] = tmp\n",
    "print ex_sframe"
   ]
  },
  {
   "cell_type": "code",
   "execution_count": 43,
   "metadata": {
    "autoscroll": "json-false",
    "collapsed": false,
    "ein.tags": [
     "worksheet-0"
    ]
   },
   "outputs": [
    {
     "name": "stdout",
     "output_type": "stream",
     "text": [
      "   power_1\n",
      "0        1\n",
      "1        2\n",
      "2        3\n"
     ]
    }
   ],
   "source": [
    "ex_frame = pandas.DataFrame()\n",
    "ex_frame['power_1'] = temp\n",
    "print(ex_frame)"
   ]
  },
  {
   "cell_type": "markdown",
   "metadata": {
    "ein.tags": [
     "worksheet-0"
    ]
   },
   "source": [
    "## Polynomial_sframe function"
   ]
  },
  {
   "cell_type": "markdown",
   "metadata": {
    "ein.tags": [
     "worksheet-0"
    ]
   },
   "source": [
    "Using the hints above complete the following function to create an SFrame consisting of the powers of an SArray up to a specific degree:"
   ]
  },
  {
   "cell_type": "code",
   "execution_count": 5,
   "metadata": {
    "autoscroll": "json-false",
    "collapsed": false,
    "ein.tags": [
     "worksheet-0"
    ]
   },
   "outputs": [],
   "source": [
    "def polynomial_sframe(feature, degree):\n",
    "    # assume that degree >= 1\n",
    "    # initialize the SFrame:\n",
    "    poly_sframe = graphlab.SFrame()\n",
    "    # and set poly_sframe['power_1'] equal to the passed feature\n",
    "    poly_sframe['power_1'] = feature\n",
    "    # first check if degree > 1\n",
    "    if degree > 1:\n",
    "        # then loop over the remaining degrees:\n",
    "        # range usually starts at 0 and stops at the endpoint-1. We want it to start at 2 and stop at degree\n",
    "        for power in range(2, degree+1): \n",
    "            # first we'll give the column a name:\n",
    "            name = 'power_' + str(power)\n",
    "            # then assign poly_sframe[name] to the appropriate power of feature\n",
    "            poly_sframe[name] = feature.apply(lambda x: x**power)\n",
    "    return poly_sframe"
   ]
  },
  {
   "cell_type": "code",
   "execution_count": 45,
   "metadata": {
    "autoscroll": "json-false",
    "collapsed": false,
    "ein.tags": [
     "worksheet-0"
    ]
   },
   "outputs": [],
   "source": [
    "def polynomial_dframe(feature, degree):\n",
    "    # assume that degree >= 1\n",
    "    # initialize the DataFrame:\n",
    "    poly_dframe = pandas.DataFrame()\n",
    "    # and set poly_dframe['power_1'] equal to the passed feature\n",
    "    poly_dframe['power_1'] = feature\n",
    "    # first check if degree > 1\n",
    "    if degree > 1:\n",
    "        # then loop over the remaining degrees:\n",
    "        # range usually starts at 0 and stops at the endpoint-1. We want it to start at 2 and stop at degree\n",
    "        for power in range(2, degree+1): \n",
    "            # first we'll give the column a name:\n",
    "            name = 'power_' + str(power)\n",
    "            # then assign poly_dframe[name] to the appropriate power of feature\n",
    "            poly_dframe[name] = feature.apply(lambda x: x**power)\n",
    "    return poly_dframe"
   ]
  },
  {
   "cell_type": "markdown",
   "metadata": {
    "ein.tags": [
     "worksheet-0"
    ]
   },
   "source": [
    "To test your function consider the smaller tmp variable and what you would expect the outcome of the following call:"
   ]
  },
  {
   "cell_type": "code",
   "execution_count": 6,
   "metadata": {
    "autoscroll": "json-false",
    "collapsed": false,
    "ein.tags": [
     "worksheet-0"
    ]
   },
   "outputs": [
    {
     "name": "stdout",
     "output_type": "stream",
     "text": [
      "+---------+---------+---------+\n",
      "| power_1 | power_2 | power_3 |\n",
      "+---------+---------+---------+\n",
      "|   1.0   |   1.0   |   1.0   |\n",
      "|   2.0   |   4.0   |   8.0   |\n",
      "|   3.0   |   9.0   |   27.0  |\n",
      "+---------+---------+---------+\n",
      "[3 rows x 3 columns]\n",
      "\n"
     ]
    }
   ],
   "source": [
    "print(polynomial_sframe(tmp, 3))"
   ]
  },
  {
   "cell_type": "code",
   "execution_count": 46,
   "metadata": {
    "autoscroll": "json-false",
    "collapsed": false,
    "ein.tags": [
     "worksheet-0"
    ]
   },
   "outputs": [
    {
     "name": "stdout",
     "output_type": "stream",
     "text": [
      "   power_1  power_2  power_3\n",
      "0        1        1        1\n",
      "1        2        4        8\n",
      "2        3        9       27\n"
     ]
    }
   ],
   "source": [
    "print(polynomial_dframe(temp, 3))"
   ]
  },
  {
   "cell_type": "markdown",
   "metadata": {
    "ein.tags": [
     "worksheet-0"
    ]
   },
   "source": [
    "## Visualizing polynomial regression"
   ]
  },
  {
   "cell_type": "markdown",
   "metadata": {
    "ein.tags": [
     "worksheet-0"
    ]
   },
   "source": [
    "Let's use matplotlib to visualize what a polynomial regression looks like on some real data."
   ]
  },
  {
   "cell_type": "code",
   "execution_count": 49,
   "metadata": {
    "autoscroll": "json-false",
    "collapsed": false,
    "ein.tags": [
     "worksheet-0"
    ]
   },
   "outputs": [],
   "source": [
    "sales = graphlab.SFrame('../../large_data/kc_house_data.gl/')\n",
    "sales_frame = pandas.read_csv('../../large_data/csvs/kc_house_data.csv')"
   ]
  },
  {
   "cell_type": "markdown",
   "metadata": {
    "ein.tags": [
     "worksheet-0"
    ]
   },
   "source": [
    "As in Week 3, we will use the sqft_living variable. For plotting purposes (connecting the dots), you'll need to sort by the values of sqft_living. For houses with identical square footage, we break the tie by their prices."
   ]
  },
  {
   "cell_type": "code",
   "execution_count": 50,
   "metadata": {
    "autoscroll": "json-false",
    "collapsed": false,
    "ein.tags": [
     "worksheet-0"
    ]
   },
   "outputs": [],
   "source": [
    "sales = sales.sort('sqft_living')\n",
    "sales_frame = sales_frame.sort_values(by='sqft_living')"
   ]
  },
  {
   "cell_type": "markdown",
   "metadata": {
    "ein.tags": [
     "worksheet-0"
    ]
   },
   "source": [
    "Let's start with a degree 1 polynomial using 'sqft_living' (i.e. a line) to predict 'price' and plot what it looks like."
   ]
  },
  {
   "cell_type": "code",
   "execution_count": 9,
   "metadata": {
    "autoscroll": "json-false",
    "collapsed": false,
    "ein.tags": [
     "worksheet-0"
    ]
   },
   "outputs": [],
   "source": [
    "poly1_data = polynomial_sframe(sales['sqft_living'], 1)\n",
    "poly1_data['price'] = sales['price'] # add price to the data since it's the target"
   ]
  },
  {
   "cell_type": "code",
   "execution_count": 61,
   "metadata": {
    "autoscroll": "json-false",
    "collapsed": false,
    "ein.tags": [
     "worksheet-0"
    ]
   },
   "outputs": [],
   "source": [
    "poly_pandas_data = polynomial_dframe(sales_frame['sqft_living'], 1)\n",
    "poly_pandas_data = statsmodels.add_constant(poly_pandas_data)"
   ]
  },
  {
   "cell_type": "markdown",
   "metadata": {
    "ein.tags": [
     "worksheet-0"
    ]
   },
   "source": [
    "NOTE: for all the models in this notebook use validation_set = None to ensure that all results are consistent across users."
   ]
  },
  {
   "cell_type": "code",
   "execution_count": 56,
   "metadata": {
    "autoscroll": "json-false",
    "collapsed": false,
    "ein.tags": [
     "worksheet-0"
    ]
   },
   "outputs": [
    {
     "name": "stdout",
     "output_type": "stream",
     "text": [
      "PROGRESS: Linear regression:\n",
      "PROGRESS: --------------------------------------------------------\n",
      "PROGRESS: Number of examples          : 21613\n",
      "PROGRESS: Number of features          : 1\n",
      "PROGRESS: Number of unpacked features : 1\n",
      "PROGRESS: Number of coefficients    : 2\n",
      "PROGRESS: Starting Newton Method\n",
      "PROGRESS: --------------------------------------------------------\n",
      "PROGRESS: +-----------+----------+--------------+--------------------+---------------+\n",
      "PROGRESS: | Iteration | Passes   | Elapsed Time | Training-max_error | Training-rmse |\n",
      "PROGRESS: +-----------+----------+--------------+--------------------+---------------+\n",
      "PROGRESS: | 1         | 2        | 0.010455     | 4362074.696077     | 261440.790724 |\n",
      "PROGRESS: +-----------+----------+--------------+--------------------+---------------+\n",
      "PROGRESS: SUCCESS: Optimal solution found.\n",
      "PROGRESS:\n"
     ]
    }
   ],
   "source": [
    "model1 = graphlab.linear_regression.create(poly1_data, target = 'price', features = ['power_1'], validation_set = None)"
   ]
  },
  {
   "cell_type": "code",
   "execution_count": 62,
   "metadata": {
    "autoscroll": "json-false",
    "collapsed": false,
    "ein.tags": [
     "worksheet-0"
    ]
   },
   "outputs": [
    {
     "name": "stdout",
     "output_type": "stream",
     "text": [
      "const     -43580.743094\n",
      "power_1      280.623568\n",
      "dtype: float64\n"
     ]
    }
   ],
   "source": [
    "model_1_frame = statsmodels.OLS(sales_frame['price'], poly_pandas_data)\n",
    "results = model_1_frame.fit()\n",
    "print(results.params)"
   ]
  },
  {
   "cell_type": "code",
   "execution_count": 11,
   "metadata": {
    "autoscroll": "json-false",
    "collapsed": false,
    "ein.tags": [
     "worksheet-0"
    ]
   },
   "outputs": [
    {
     "data": {
      "text/plain": [
       "Columns:\n\tname\tstr\n\tindex\tstr\n\tvalue\tfloat\n\nRows: 2\n\nData:\n+-------------+-------+----------------+\n|     name    | index |     value      |\n+-------------+-------+----------------+\n| (intercept) |  None | -43579.0852515 |\n|   power_1   |  None | 280.622770886  |\n+-------------+-------+----------------+\n[2 rows x 3 columns]"
      ]
     },
     "execution_count": 11,
     "metadata": {},
     "output_type": "execute_result"
    }
   ],
   "source": [
    "#let's take a look at the weights before we plot\n",
    "coefficients_1 = model1.get(\"coefficients\")\n",
    "coefficients_1.column_names()\n",
    "coefficients_1"
   ]
  },
  {
   "cell_type": "code",
   "execution_count": 12,
   "metadata": {
    "autoscroll": "json-false",
    "collapsed": false,
    "ein.tags": [
     "worksheet-0"
    ]
   },
   "outputs": [
    {
     "data": {
      "text/plain": [
       "dtype: float\nRows: 2\n[-43579.08525145205, 280.6227708858481]"
      ]
     },
     "execution_count": 12,
     "metadata": {},
     "output_type": "execute_result"
    }
   ],
   "source": [
    "coefficients_1['value']"
   ]
  },
  {
   "cell_type": "code",
   "execution_count": 207,
   "metadata": {
    "autoscroll": "json-false",
    "collapsed": false,
    "ein.tags": [
     "worksheet-0"
    ]
   },
   "outputs": [],
   "source": [
    "class BaseRegressionModel(object):\n",
    "    \"\"\"\n",
    "    Base regression model\n",
    "    \"\"\"\n",
    "    __metaclass__ = ABCMeta\n",
    "    def __init__(self, data=sales, degree=1, predictor='sqft_living',\n",
    "                 target='price'):\n",
    "        \"\"\"\n",
    "        :param:\n",
    "         - `data`: frame with the source data\n",
    "         - `degree`: degree of the polynomial for the regression\n",
    "         - `predictor`: name of the predictive variable\n",
    "         - `target`: name of the variable to predict\n",
    "         - `version`: Identifier for plot title\n",
    "        \"\"\"\n",
    "        self.data = data\n",
    "        self.degree = degree\n",
    "        self.predictor = predictor\n",
    "        self.target = target\n",
    "        self._poly_data = None\n",
    "        self._feature_name = None\n",
    "        self._model = None\n",
    "        self._coefficients = None\n",
    "        self._frame_definition = None\n",
    "        self._predictions = None\n",
    "        self._plot_title = None\n",
    "        self._version = None\n",
    "        return\n",
    "\n",
    "    @abstractproperty\n",
    "    def version(self):\n",
    "        \"\"\"\n",
    "        :return: which version this is (SFrame | DataFrame)\n",
    "        \"\"\"\n",
    "        \n",
    "    @abstractproperty\n",
    "    def frame_definition(self):\n",
    "        \"\"\"\n",
    "        :return: definition of frame (e.g. graphlab.SFrame)\n",
    "        \"\"\"\n",
    "\n",
    "    @abstractproperty\n",
    "    def coefficients(self):\n",
    "        \"\"\"\n",
    "        :return: Frame with the coefficients for the model\n",
    "        \"\"\"\n",
    "        return self._coefficients\n",
    "\n",
    "    @property\n",
    "    def feature_name(self):\n",
    "        \"\"\"\n",
    "        :return: name of the column in the polynomial frame that we want\n",
    "        \"\"\"\n",
    "        if self._feature_name is None:\n",
    "            self._feature_name = 'power_{0}'.format(self.degree)\n",
    "        return self._feature_name\n",
    "\n",
    "    @property\n",
    "    def poly_data(self):\n",
    "        \"\"\"\n",
    "        :return: frame of self.data, columns raised to degrees up to self.degree\n",
    "        \"\"\"\n",
    "        if self._poly_data is None:\n",
    "            feature = self.data[self.predictor]\n",
    "            self._poly_data = self.frame_definition()\n",
    "            self._poly_data['power_1'] = feature\n",
    "            if self.degree > 1:\n",
    "                for power in range(2, self.degree + 1): \n",
    "                    name = 'power_{0}'.format(power)\n",
    "                    self._poly_data[name] = feature.apply(lambda x: x**power)\n",
    "            # the model needs to know the features without the target\n",
    "            try:        \n",
    "                self.features = self._poly_data.column_names()\n",
    "                # but to fit, the data also needs the target column added\n",
    "                self._poly_data[self.target] = self.data[self.target]\n",
    "            except AttributeError:\n",
    "                # this means it's pandas/statsmodels\n",
    "                self.features = self._poly_data.columns\n",
    "                self._poly_data = statsmodels.add_constant(self._poly_data)\n",
    "        return self._poly_data\n",
    "\n",
    "    @abstractproperty\n",
    "    def model(self):\n",
    "        \"\"\"\n",
    "        :return: linear model\n",
    "        \"\"\"\n",
    "        return self._model\n",
    "\n",
    "    @property\n",
    "    def predictions(self):\n",
    "        \"\"\"\n",
    "        :return: vector of predictions based on model and poly-data\n",
    "        \"\"\"\n",
    "        if self._predictions is None:\n",
    "            self._predictions = self.model.predict(self.poly_data)\n",
    "        return self._predictions\n",
    "\n",
    "    @property\n",
    "    def plot_title(self):\n",
    "        if self._plot_title is None:\n",
    "            self._plot_title = \"{p} vs {t} (degree {d} - {v})\".format(p=self.predictor,\n",
    "                                                                      t=self.target,\n",
    "                                                                      d=self.degree,\n",
    "                                                                      v=self.version)\n",
    "        return self._plot_title\n",
    "        \n",
    "    def plot_fit(self):\n",
    "        \"\"\"\n",
    "        Plot the data and regression line\n",
    "        \"\"\"\n",
    "        figure = plt.figure()\n",
    "        axe = figure.gca()\n",
    "        # always use power-1 or the scale will change so it always looks like\n",
    "        # a straight line\n",
    "        x = self.poly_data['power_1']\n",
    "        lines = axe.plot(x, self.data[self.target],'.', label='data')\n",
    "        lines = axe.plot(x, self.predictions, '-', label='regression')\n",
    "        legend = axe.legend()\n",
    "        title = axe.set_title(self.plot_title)\n",
    "        label = axe.set_ylabel(self.target)\n",
    "        label = axe.set_xlabel(self.predictor)\n",
    "        return\n",
    "\n",
    "    def predict(self, input):\n",
    "        \"\"\"\n",
    "        :param:\n",
    "         - `input`: vector of input values\n",
    "        :return: vector of predicted output values based on model\n",
    "        \"\"\"\n",
    "        return self.model.predict(input)\n",
    "\n",
    "    def reset(self):\n",
    "        \"\"\"\n",
    "        :postcondition: calculated properties set to None\n",
    "        \"\"\"\n",
    "        self._model = None\n",
    "        self._poly_data = None\n",
    "        self._feature_name = None\n",
    "        self._coefficients = None\n",
    "        self._predictions = None\n",
    "        return\n",
    "# end class BaseRegressionModel"
   ]
  },
  {
   "cell_type": "code",
   "execution_count": 208,
   "metadata": {
    "autoscroll": "json-false",
    "collapsed": false,
    "ein.tags": [
     "worksheet-0"
    ]
   },
   "outputs": [],
   "source": [
    "class RegressionModel(BaseRegressionModel):\n",
    "    def __init__(self, *args, **kwargs):\n",
    "        \"\"\"\n",
    "        :param:\n",
    "         - `data`: frame with the source data\n",
    "         - `degree`: degree of the polynmial for the regression\n",
    "         - `predictor`: name of the predictive variable\n",
    "         - `target`: name of the variable to predict\n",
    "        \"\"\"\n",
    "        super(RegressionModel, self).__init__(*args, **kwargs)\n",
    "        return\n",
    "\n",
    "    @property\n",
    "    def version(self):\n",
    "        \"\"\"\n",
    "        :return: string 'SFrame'\n",
    "        \"\"\"\n",
    "        return 'SFrame'\n",
    "    \n",
    "    @property\n",
    "    def coefficients(self):\n",
    "        \"\"\"\n",
    "        coefficients['value'] - (intercept, slope)\n",
    "        :return: SFrame with the coefficients for the model\n",
    "        \"\"\"\n",
    "        if self._coefficients is None:\n",
    "            self._coefficients = self.model.get('coefficients')\n",
    "        return self._coefficients\n",
    "\n",
    "    @property\n",
    "    def frame_definition(self):\n",
    "        \"\"\"\n",
    "        :return: SFrame constructor\n",
    "        \"\"\"\n",
    "        if self._frame_definition is None:\n",
    "            self._frame_definition = graphlab.SFrame\n",
    "        return self._frame_definition\n",
    "\n",
    "    @property\n",
    "    def model(self):\n",
    "        \"\"\"\n",
    "        :return: linear model\n",
    "        \"\"\"\n",
    "        if self._model is None:\n",
    "            self._model = graphlab.linear_regression.create(self.poly_data,\n",
    "                                                            target=self.target,\n",
    "                                                            features=self.features,\n",
    "                                                            validation_set=None,\n",
    "                                                            verbose=False)\n",
    "        return self._model\n",
    "# end class RegressionModel"
   ]
  },
  {
   "cell_type": "code",
   "execution_count": 212,
   "metadata": {
    "autoscroll": "json-false",
    "collapsed": false,
    "ein.tags": [
     "worksheet-0"
    ]
   },
   "outputs": [],
   "source": [
    "class FrameRegressionModel(BaseRegressionModel):\n",
    "    def __init__(self, *args, **kwargs):\n",
    "        super(FrameRegressionModel, self).__init__(*args, **kwargs)\n",
    "        return\n",
    "\n",
    "    @property\n",
    "    def version(self):\n",
    "        \"\"\"\n",
    "        :return: string 'DataFrame'\n",
    "        \"\"\"\n",
    "        if self._version is None:\n",
    "            self._version = 'DataFrame'\n",
    "        return self._version\n",
    "    \n",
    "    @property\n",
    "    def frame_definition(self):\n",
    "        \"\"\"\n",
    "        :return: DataFrame constructor\n",
    "        \"\"\"\n",
    "        return pandas.DataFrame\n",
    "\n",
    "    @property\n",
    "    def coefficients(self):\n",
    "        \"\"\"\n",
    "        :return: params Series\n",
    "        \"\"\"\n",
    "        return self.model.params\n",
    "\n",
    "    @property\n",
    "    def model(self):\n",
    "        \"\"\"\n",
    "        :return: OLS statsmodel\n",
    "        \"\"\"\n",
    "        if self._model is None:\n",
    "            self._model = statsmodels.OLS(self.data[self.target], self.poly_data)\n",
    "            self._model = self._model.fit()\n",
    "        return self._model\n",
    "# end class FrameRegressionModel"
   ]
  },
  {
   "cell_type": "code",
   "execution_count": 90,
   "metadata": {
    "autoscroll": "json-false",
    "collapsed": false,
    "ein.tags": [
     "worksheet-0"
    ]
   },
   "outputs": [],
   "source": [
    "model_1 = RegressionModel()\n",
    "def check_coefficients(coefficients_0, coefficients_1, coefficient_count=2):\n",
    "    \"\"\"\n",
    "    :param:\n",
    "     - `coefficients_0`: Sframe of model coefficients\n",
    "     - `coefficients_1': Sframe of coefficients to compare\n",
    "     - `coefficient_count`: number of coefficients (including intercept)\n",
    "    \"\"\"\n",
    "    c0 = coefficients_0['value']\n",
    "    c1 = coefficients_1['value']\n",
    "    \n",
    "    for i in range(coefficient_count):\n",
    "        assert c0[i] == c1[i],\\\n",
    "            \"Index: {0} First: {1} Second: {2}\".format(i, c0[i], c1[i])\n",
    "    return\n",
    "\n",
    "check_coefficients(model_1.coefficients, coefficients_1)\n"
   ]
  },
  {
   "cell_type": "code",
   "execution_count": 165,
   "metadata": {
    "autoscroll": "json-false",
    "collapsed": false,
    "ein.tags": [
     "worksheet-0"
    ]
   },
   "outputs": [],
   "source": [
    "model_frame_1 = FrameRegressionModel(data=sales_frame)"
   ]
  },
  {
   "cell_type": "code",
   "execution_count": 92,
   "metadata": {
    "autoscroll": "json-false",
    "collapsed": false,
    "ein.tags": [
     "worksheet-0"
    ]
   },
   "outputs": [
    {
     "data": {
      "text/plain": [
       "<matplotlib.figure.Figure at 0x7ffa6e919f10>"
      ]
     },
     "metadata": {},
     "output_type": "display_data"
    }
   ],
   "source": [
    "model_1.plot_fit()"
   ]
  },
  {
   "cell_type": "code",
   "execution_count": 166,
   "metadata": {
    "autoscroll": "json-false",
    "collapsed": false,
    "ein.tags": [
     "worksheet-0"
    ]
   },
   "outputs": [
    {
     "data": {
      "text/plain": [
       "<matplotlib.figure.Figure at 0x7ffa6e668bd0>"
      ]
     },
     "metadata": {},
     "output_type": "display_data"
    }
   ],
   "source": [
    "model_frame_1._plot_title = \"Sq Ft Living vs Price (degree 1) Pandas Version\"\n",
    "model_frame_1.plot_fit()"
   ]
  },
  {
   "cell_type": "markdown",
   "metadata": {
    "ein.tags": [
     "worksheet-0"
    ]
   },
   "source": [
    "Let's unpack that plt.plot() command. The first pair of SArrays we passed are the 1st power of sqft and the actual price we then ask it to print these as dots '.'. The next pair we pass is the 1st power of sqft and the predicted values from the linear model. We ask these to be plotted as a line '-'. \n",
    "\n",
    "We can see, not surprisingly, that the predicted values all fall on a line, specifically the one with slope 280 and intercept -43579. What if we wanted to plot a second degree polynomial?"
   ]
  },
  {
   "cell_type": "code",
   "execution_count": 172,
   "metadata": {
    "autoscroll": "json-false",
    "collapsed": false,
    "ein.tags": [
     "worksheet-0"
    ]
   },
   "outputs": [
    {
     "name": "stdout",
     "output_type": "stream",
     "text": [
      "PROGRESS: Linear regression:\n",
      "PROGRESS: --------------------------------------------------------\n",
      "PROGRESS: Number of examples          : 21613\n",
      "PROGRESS: Number of features          : 2\n",
      "PROGRESS: Number of unpacked features : 2\n",
      "PROGRESS: Number of coefficients    : 3\n",
      "PROGRESS: Starting Newton Method\n",
      "PROGRESS: --------------------------------------------------------\n",
      "PROGRESS: +-----------+----------+--------------+--------------------+---------------+\n",
      "PROGRESS: | Iteration | Passes   | Elapsed Time | Training-max_error | Training-rmse |\n",
      "PROGRESS: +-----------+----------+--------------+--------------------+---------------+\n",
      "PROGRESS: | 1         | 2        | 0.012246     | 5913020.984255     | 250948.368758 |\n",
      "PROGRESS: +-----------+----------+--------------+--------------------+---------------+\n",
      "PROGRESS: SUCCESS: Optimal solution found.\n",
      "PROGRESS:\n"
     ]
    }
   ],
   "source": [
    "model_2 = RegressionModel(degree=2)\n",
    "model_frame_2 = FrameRegressionModel(data=sales_frame, degree=2)\n",
    "poly2_data = polynomial_sframe(sales['sqft_living'], 2)\n",
    "my_features = poly2_data.column_names() # get the name of the features\n",
    "poly2_data['price'] = sales['price'] # add price to the data since it's the target\n",
    "model2 = graphlab.linear_regression.create(poly2_data, target = 'price', features = my_features, validation_set = None)"
   ]
  },
  {
   "cell_type": "code",
   "execution_count": 249,
   "metadata": {
    "autoscroll": "json-false",
    "collapsed": false,
    "ein.tags": [
     "worksheet-0"
    ]
   },
   "outputs": [
    {
     "name": "stdout",
     "output_type": "stream",
     "text": [
      "+-------------+-------+-----------------+\n",
      "|     name    | index |      value      |\n",
      "+-------------+-------+-----------------+\n",
      "| (intercept) |  None |  199222.496445  |\n",
      "|   power_1   |  None |  67.9940640677  |\n",
      "|   power_2   |  None | 0.0385812312789 |\n",
      "+-------------+-------+-----------------+\n",
      "[3 rows x 3 columns]\n",
      "\n"
     ]
    }
   ],
   "source": [
    "coefficients_2 = model2.get(\"coefficients\")\n",
    "check_coefficients(model_2.coefficients, coefficients_2, 3)\n",
    "print(coefficients_2)"
   ]
  },
  {
   "cell_type": "code",
   "execution_count": 18,
   "metadata": {
    "autoscroll": "json-false",
    "collapsed": false,
    "ein.tags": [
     "worksheet-0"
    ]
   },
   "outputs": [
    {
     "data": {
      "text/plain": [
       "<matplotlib.figure.Figure at 0x7ffa6f195e90>"
      ]
     },
     "metadata": {},
     "output_type": "display_data"
    }
   ],
   "source": [
    "model_2.plot_fit()"
   ]
  },
  {
   "cell_type": "code",
   "execution_count": 173,
   "metadata": {
    "autoscroll": "json-false",
    "collapsed": false,
    "ein.tags": [
     "worksheet-0"
    ]
   },
   "outputs": [
    {
     "data": {
      "text/plain": [
       "<matplotlib.figure.Figure at 0x7ffa6cb83790>"
      ]
     },
     "metadata": {},
     "output_type": "display_data"
    }
   ],
   "source": [
    "model_frame_2._plot_title = 'Sqft Living vs Price (degree 2, Pandas Version)'\n",
    "model_frame_2.plot_fit()"
   ]
  },
  {
   "cell_type": "markdown",
   "metadata": {
    "ein.tags": [
     "worksheet-0"
    ]
   },
   "source": [
    "The resulting model looks like half a parabola. Try on your own to see what the cubic looks like:"
   ]
  },
  {
   "cell_type": "code",
   "execution_count": 174,
   "metadata": {
    "autoscroll": "json-false",
    "collapsed": false,
    "ein.tags": [
     "worksheet-0"
    ]
   },
   "outputs": [
    {
     "data": {
      "text/plain": [
       "Columns:\n\tname\tstr\n\tindex\tstr\n\tvalue\tfloat\n\nRows: 4\n\nData:\n+-------------+-------+-------------------+\n|     name    | index |       value       |\n+-------------+-------+-------------------+\n| (intercept) |  None |   336788.117952   |\n|   power_1   |  None |   -90.1476236119  |\n|   power_2   |  None |   0.087036715081  |\n|   power_3   |  None | -3.8398521196e-06 |\n+-------------+-------+-------------------+\n[4 rows x 3 columns]"
      ]
     },
     "execution_count": 174,
     "metadata": {},
     "output_type": "execute_result"
    }
   ],
   "source": [
    "model_3 = RegressionModel(degree=3)\n",
    "model_frame_3 = FrameRegressionModel(data=sales_frame, degree=3)\n",
    "model_3.coefficients"
   ]
  },
  {
   "cell_type": "code",
   "execution_count": 20,
   "metadata": {
    "autoscroll": "json-false",
    "collapsed": false,
    "ein.tags": [
     "worksheet-0"
    ]
   },
   "outputs": [
    {
     "data": {
      "text/plain": [
       "<matplotlib.figure.Figure at 0x7ffa6f151b10>"
      ]
     },
     "metadata": {},
     "output_type": "display_data"
    }
   ],
   "source": [
    "model_3.plot_fit()"
   ]
  },
  {
   "cell_type": "code",
   "execution_count": 175,
   "metadata": {
    "autoscroll": "json-false",
    "collapsed": false,
    "ein.tags": [
     "worksheet-0"
    ]
   },
   "outputs": [
    {
     "data": {
      "text/plain": [
       "<matplotlib.figure.Figure at 0x7ffa6cafde90>"
      ]
     },
     "metadata": {},
     "output_type": "display_data"
    }
   ],
   "source": [
    "model_frame_3._plot_title = \"Sqft Living Space vs Price (degree 3, Pandas)\"\n",
    "model_frame_3.plot_fit()"
   ]
  },
  {
   "cell_type": "markdown",
   "metadata": {
    "ein.tags": [
     "worksheet-0"
    ]
   },
   "source": [
    "Now try a 15th degree polynomial:"
   ]
  },
  {
   "cell_type": "code",
   "execution_count": 182,
   "metadata": {
    "autoscroll": "json-false",
    "collapsed": false,
    "ein.tags": [
     "worksheet-0"
    ]
   },
   "outputs": [
    {
     "data": {
      "text/plain": [
       "Columns:\n\tname\tstr\n\tindex\tstr\n\tvalue\tfloat\n\nRows: 16\n\nData:\n+-------------+-------+--------------------+\n|     name    | index |       value        |\n+-------------+-------+--------------------+\n| (intercept) |  None |   73619.7521129    |\n|   power_1   |  None |   410.287462534    |\n|   power_2   |  None |  -0.230450714428   |\n|   power_3   |  None |  7.5884054245e-05  |\n|   power_4   |  None | -5.65701802657e-09 |\n|   power_5   |  None | -4.57028130583e-13 |\n|   power_6   |  None | 2.66360206431e-17  |\n|   power_7   |  None | 3.38584769292e-21  |\n|   power_8   |  None | 1.14723104086e-25  |\n|   power_9   |  None | -4.65293586102e-30 |\n+-------------+-------+--------------------+\n[16 rows x 3 columns]\nNote: Only the head of the SFrame is printed.\nYou can use print_rows(num_rows=m, num_columns=n) to print more rows and columns."
      ]
     },
     "execution_count": 182,
     "metadata": {},
     "output_type": "execute_result"
    }
   ],
   "source": [
    "model_15 = RegressionModel(degree=15)\n",
    "model_frame_15 = FrameRegressionModel(data=sales_frame, degree=15,\n",
    "                                      version='DataFrame')\n",
    "model_15.coefficients"
   ]
  },
  {
   "cell_type": "code",
   "execution_count": 181,
   "metadata": {
    "autoscroll": "json-false",
    "collapsed": false,
    "ein.tags": [
     "worksheet-0"
    ]
   },
   "outputs": [
    {
     "data": {
      "text/plain": [
       "<matplotlib.figure.Figure at 0x7ffa6c5eed10>"
      ]
     },
     "metadata": {},
     "output_type": "display_data"
    }
   ],
   "source": [
    "model_15.plot_fit()"
   ]
  },
  {
   "cell_type": "code",
   "execution_count": 183,
   "metadata": {
    "autoscroll": "json-false",
    "collapsed": false,
    "ein.tags": [
     "worksheet-0"
    ]
   },
   "outputs": [
    {
     "data": {
      "text/plain": [
       "<matplotlib.figure.Figure at 0x7ffa6c4cb0d0>"
      ]
     },
     "metadata": {},
     "output_type": "display_data"
    }
   ],
   "source": [
    "model_frame_15.plot_fit()"
   ]
  },
  {
   "cell_type": "markdown",
   "metadata": {
    "ein.tags": [
     "worksheet-0"
    ]
   },
   "source": [
    "What do you think of the 15th degree polynomial? Do you think this is appropriate? If we were to change the data do you think you'd get pretty much the same curve? Let's take a look."
   ]
  },
  {
   "cell_type": "markdown",
   "metadata": {
    "ein.tags": [
     "worksheet-0"
    ]
   },
   "source": [
    "## Changing the data and re-learning"
   ]
  },
  {
   "cell_type": "markdown",
   "metadata": {
    "ein.tags": [
     "worksheet-0"
    ]
   },
   "source": [
    "We're going to split the sales data into four subsets of roughly equal size. Then you will estimate a 15th degree polynomial model on all four subsets of the data. Print the coefficients (you should use .print_rows(num_rows = 16) to view all of them) and plot the resulting fit (as we did above). The quiz will ask you some questions about these results.\n",
    "\n",
    "To split the sales data into four subsets, we perform the following steps:\n",
    "* First split sales into 2 subsets with `.random_split(0.5, seed=0)`. \n",
    "* Next split the resulting subsets into 2 more subsets each. Use `.random_split(0.5, seed=0)`.\n",
    "\n",
    "We set `seed=0` in these steps so that different users get consistent results.\n",
    "You should end up with 4 subsets (`set_1`, `set_2`, `set_3`, `set_4`) of approximately equal size. "
   ]
  },
  {
   "cell_type": "code",
   "execution_count": 23,
   "metadata": {
    "autoscroll": "json-false",
    "collapsed": false,
    "ein.tags": [
     "worksheet-0"
    ]
   },
   "outputs": [],
   "source": [
    "train, test = sales.random_split(0.5, seed=0)\n",
    "set_1, set_2 = train.random_split(0.5, seed=0)\n",
    "set_3, set_4 = test.random_split(0.5, seed=0)\n"
   ]
  },
  {
   "cell_type": "markdown",
   "metadata": {
    "ein.tags": [
     "worksheet-0"
    ]
   },
   "source": [
    "Fit a 15th degree polynomial on set_1, set_2, set_3, and set_4 using sqft_living to predict prices. Print the coefficients and make a plot of the resulting model."
   ]
  },
  {
   "cell_type": "code",
   "execution_count": 24,
   "metadata": {
    "autoscroll": "json-false",
    "collapsed": false,
    "ein.tags": [
     "worksheet-0"
    ]
   },
   "outputs": [],
   "source": [
    "def print_plot(model):\n",
    "    model.coefficients.print_rows(num_rows=16)\n",
    "    model.plot_fit()\n",
    "    return"
   ]
  },
  {
   "cell_type": "markdown",
   "metadata": {
    "ein.tags": [
     "worksheet-0"
    ]
   },
   "source": [
    "### Set 1"
   ]
  },
  {
   "cell_type": "code",
   "execution_count": 25,
   "metadata": {
    "autoscroll": "json-false",
    "collapsed": false,
    "ein.tags": [
     "worksheet-0"
    ]
   },
   "outputs": [
    {
     "data": {
      "text/plain": [
       "<matplotlib.figure.Figure at 0x7ffa6f195e50>"
      ]
     },
     "metadata": {},
     "output_type": "display_data"
    },
    {
     "name": "stdout",
     "output_type": "stream",
     "text": [
      "+-------------+-------+--------------------+\n",
      "|     name    | index |       value        |\n",
      "+-------------+-------+--------------------+\n",
      "| (intercept) |  None |   197099.450457    |\n",
      "|   power_1   |  None |   166.862882905    |\n",
      "|   power_2   |  None |  -0.0697578810024  |\n",
      "|   power_3   |  None | 3.63129717598e-05  |\n",
      "|   power_4   |  None | -3.74901359183e-09 |\n",
      "|   power_5   |  None | -8.76717441662e-14 |\n",
      "|   power_6   |  None | 1.41557620304e-17  |\n",
      "|   power_7   |  None | 1.12198026361e-21  |\n",
      "|   power_8   |  None | 2.77358582356e-26  |\n",
      "|   power_9   |  None | -1.94539657313e-30 |\n",
      "|   power_10  |  None | -2.88642493802e-34 |\n",
      "|   power_11  |  None | -2.08839000817e-38 |\n",
      "|   power_12  |  None | -9.81836993907e-43 |\n",
      "|   power_13  |  None | -1.48610009052e-47 |\n",
      "|   power_14  |  None | 3.16615964613e-51  |\n",
      "|   power_15  |  None | 5.00656478257e-55  |\n",
      "+-------------+-------+--------------------+\n",
      "[16 rows x 3 columns]\n",
      "\n"
     ]
    }
   ],
   "source": [
    "model_1_15 = RegressionModel(data=set_1, degree=15)\n",
    "print_plot(model_1_15)"
   ]
  },
  {
   "cell_type": "code",
   "execution_count": 192,
   "metadata": {
    "autoscroll": "json-false",
    "collapsed": false,
    "ein.tags": [
     "worksheet-0"
    ]
   },
   "outputs": [
    {
     "data": {
      "text/plain": [
       "<matplotlib.figure.Figure at 0x7ffa6c9150d0>"
      ]
     },
     "metadata": {},
     "output_type": "display_data"
    }
   ],
   "source": [
    "# the splitting doesn't maintain the sort ordering so the plot will be messed up if not sorted\n",
    "model_frame_set_1 = FrameRegressionModel(data=frame_1.sort_values(by='sqft_living'), degree=15)\n",
    "model_frame_set_1.plot_fit()"
   ]
  },
  {
   "cell_type": "markdown",
   "metadata": {
    "ein.tags": [
     "worksheet-0"
    ]
   },
   "source": [
    "### Set 2"
   ]
  },
  {
   "cell_type": "code",
   "execution_count": 26,
   "metadata": {
    "autoscroll": "json-false",
    "collapsed": false,
    "ein.tags": [
     "worksheet-0"
    ]
   },
   "outputs": [
    {
     "data": {
      "text/plain": [
       "<matplotlib.figure.Figure at 0x7ffa6f0287d0>"
      ]
     },
     "metadata": {},
     "output_type": "display_data"
    },
    {
     "name": "stdout",
     "output_type": "stream",
     "text": [
      "+-------------+-------+--------------------+\n",
      "|     name    | index |       value        |\n",
      "+-------------+-------+--------------------+\n",
      "| (intercept) |  None |   160515.194668    |\n",
      "|   power_1   |  None |   161.068906214    |\n",
      "|   power_2   |  None |  0.0072128855415   |\n",
      "|   power_3   |  None | -1.53767451326e-05 |\n",
      "|   power_4   |  None |  5.531012769e-09   |\n",
      "|   power_5   |  None | 3.44914141886e-13  |\n",
      "|   power_6   |  None | -8.4134933128e-17  |\n",
      "|   power_7   |  None | -1.1755754411e-20  |\n",
      "|   power_8   |  None | -3.24855695774e-25 |\n",
      "|   power_9   |  None | 8.06950508756e-29  |\n",
      "|   power_10  |  None | 1.36060382518e-32  |\n",
      "|   power_11  |  None | 1.06720789577e-36  |\n",
      "|   power_12  |  None | 1.92370157322e-41  |\n",
      "|   power_13  |  None | -7.10368037447e-45 |\n",
      "|   power_14  |  None | -1.01868434938e-48 |\n",
      "|   power_15  |  None | -1.74692416675e-53 |\n",
      "+-------------+-------+--------------------+\n",
      "[16 rows x 3 columns]\n",
      "\n"
     ]
    }
   ],
   "source": [
    "model_2_15 = RegressionModel(data=set_2, degree=15)\n",
    "print_plot(model_2_15)"
   ]
  },
  {
   "cell_type": "markdown",
   "metadata": {
    "ein.tags": [
     "worksheet-0"
    ]
   },
   "source": [
    "### set 3"
   ]
  },
  {
   "cell_type": "code",
   "execution_count": 27,
   "metadata": {
    "autoscroll": "json-false",
    "collapsed": false,
    "ein.tags": [
     "worksheet-0"
    ]
   },
   "outputs": [
    {
     "data": {
      "text/plain": [
       "<matplotlib.figure.Figure at 0x7ffa6ed3b4d0>"
      ]
     },
     "metadata": {},
     "output_type": "display_data"
    },
    {
     "name": "stdout",
     "output_type": "stream",
     "text": [
      "+-------------+-------+--------------------+\n",
      "|     name    | index |       value        |\n",
      "+-------------+-------+--------------------+\n",
      "| (intercept) |  None |   64031.5743611    |\n",
      "|   power_1   |  None |   419.963446533    |\n",
      "|   power_2   |  None |  -0.217032383683   |\n",
      "|   power_3   |  None | 5.71721871042e-05  |\n",
      "|   power_4   |  None | 6.42456678907e-10  |\n",
      "|   power_5   |  None | -8.76764336026e-13 |\n",
      "|   power_6   |  None |  -4.39079425e-17   |\n",
      "|   power_7   |  None | 4.65780734822e-21  |\n",
      "|   power_8   |  None | 8.56537636021e-25  |\n",
      "|   power_9   |  None | 5.87177076692e-29  |\n",
      "|   power_10  |  None | -1.18822533167e-34 |\n",
      "|   power_11  |  None | -5.48520101257e-37 |\n",
      "|   power_12  |  None | -7.6344609578e-41  |\n",
      "|   power_13  |  None | -5.62621010165e-45 |\n",
      "|   power_14  |  None | 2.10087982472e-50  |\n",
      "|   power_15  |  None |  8.8038750037e-53  |\n",
      "+-------------+-------+--------------------+\n",
      "[16 rows x 3 columns]\n",
      "\n"
     ]
    }
   ],
   "source": [
    "model_3_15 = RegressionModel(data=set_3, degree=15)\n",
    "print_plot(model_3_15)"
   ]
  },
  {
   "cell_type": "markdown",
   "metadata": {
    "ein.tags": [
     "worksheet-0"
    ]
   },
   "source": [
    "### Set 4"
   ]
  },
  {
   "cell_type": "code",
   "execution_count": 28,
   "metadata": {
    "autoscroll": "json-false",
    "collapsed": false,
    "ein.tags": [
     "worksheet-0"
    ]
   },
   "outputs": [
    {
     "data": {
      "text/plain": [
       "<matplotlib.figure.Figure at 0x7ffa6ed3bc50>"
      ]
     },
     "metadata": {},
     "output_type": "display_data"
    },
    {
     "name": "stdout",
     "output_type": "stream",
     "text": [
      "+-------------+-------+--------------------+\n",
      "|     name    | index |       value        |\n",
      "+-------------+-------+--------------------+\n",
      "| (intercept) |  None |   238215.539488    |\n",
      "|   power_1   |  None |   35.6890462037    |\n",
      "|   power_2   |  None |  0.0384180337865   |\n",
      "|   power_3   |  None | 1.00407290044e-05  |\n",
      "|   power_4   |  None | -5.35136998645e-09 |\n",
      "|   power_5   |  None | 3.35662136019e-13  |\n",
      "|   power_6   |  None | 1.81755721549e-16  |\n",
      "|   power_7   |  None | 6.62015234254e-21  |\n",
      "|   power_8   |  None | -3.13250645182e-24 |\n",
      "|   power_9   |  None |  -6.114958954e-28  |\n",
      "|   power_10  |  None | -4.37319305529e-32 |\n",
      "|   power_11  |  None | 3.54666004611e-36  |\n",
      "|   power_12  |  None | 1.47563558462e-39  |\n",
      "|   power_13  |  None | 2.10094882446e-43  |\n",
      "|   power_14  |  None | 8.12201994906e-48  |\n",
      "|   power_15  |  None | -4.45547001478e-51 |\n",
      "+-------------+-------+--------------------+\n",
      "[16 rows x 3 columns]\n",
      "\n"
     ]
    }
   ],
   "source": [
    "model_4_15 = RegressionModel(data=set_4, degree=15)\n",
    "print_plot(model_4_15)"
   ]
  },
  {
   "cell_type": "code",
   "execution_count": 197,
   "metadata": {
    "autoscroll": "json-false",
    "collapsed": false,
    "ein.tags": [
     "worksheet-0"
    ]
   },
   "outputs": [],
   "source": [
    "train_frame, test_frame = train_test_split(sales_frame, train_size=.5, random_state=0)\n",
    "frame_1, frame_2 = train_test_split(train_frame, train_size=.5, random_state=0)\n",
    "frame_3, frame_4 = train_test_split(test_frame, train_size=.5, random_state=0)\n",
    "frame_list = [frame_1, frame_2, frame_3, frame_4]\n",
    "frames = {'frame_{0}'.format(index):frame_list[index] for index in range(len(frame_list))}"
   ]
  },
  {
   "cell_type": "code",
   "execution_count": 201,
   "metadata": {
    "autoscroll": "json-false",
    "collapsed": false,
    "ein.tags": [
     "worksheet-0"
    ]
   },
   "outputs": [
    {
     "data": {
      "text/plain": [
       "<matplotlib.figure.Figure at 0x7ffa6ece0310>"
      ]
     },
     "metadata": {},
     "output_type": "display_data"
    },
    {
     "data": {
      "text/plain": [
       "<matplotlib.figure.Figure at 0x7ffa6c42b2d0>"
      ]
     },
     "metadata": {},
     "output_type": "display_data"
    },
    {
     "data": {
      "text/plain": [
       "<matplotlib.figure.Figure at 0x7ffa6c5f90d0>"
      ]
     },
     "metadata": {},
     "output_type": "display_data"
    },
    {
     "data": {
      "text/plain": [
       "<matplotlib.figure.Figure at 0x7ffa6c04e510>"
      ]
     },
     "metadata": {},
     "output_type": "display_data"
    }
   ],
   "source": [
    "for name in sorted(frames):\n",
    "    model = FrameRegressionModel(data=frames[name].sort_values(by='sqft_living'), degree=15)\n",
    "    model._version = \"DataFrame, {0}\".format(name)\n",
    "    model.plot_fit()"
   ]
  },
  {
   "cell_type": "markdown",
   "metadata": {
    "ein.tags": [
     "worksheet-0"
    ]
   },
   "source": [
    "Some questions you will be asked on your quiz:\n",
    "\n",
    "**Quiz Question: Is the sign (positive or negative) for power_15 the same in all four models?**\n",
    "\n",
    "**Quiz Question: (True/False) the plotted fitted lines look the same in all four plots**"
   ]
  },
  {
   "cell_type": "markdown",
   "metadata": {
    "ein.tags": [
     "worksheet-0"
    ]
   },
   "source": [
    "## Selecting a Polynomial Degree"
   ]
  },
  {
   "cell_type": "markdown",
   "metadata": {
    "ein.tags": [
     "worksheet-0"
    ]
   },
   "source": [
    "Whenever we have a \"magic\" parameter like the degree of the polynomial there is one well-known way to select these parameters: validation set. (We will explore another approach in week 4).\n",
    "\n",
    "We split the sales dataset 3-way into training set, test set, and validation set as follows:\n",
    "\n",
    "* Split our sales data into 2 sets: `training_and_validation` and `testing`. Use `random_split(0.9, seed=1)`.\n",
    "* Further split our training data into two sets: `training` and `validation`. Use `random_split(0.5, seed=1)`.\n",
    "\n",
    "Again, we set `seed=1` to obtain consistent results for different users."
   ]
  },
  {
   "cell_type": "code",
   "execution_count": 261,
   "metadata": {
    "autoscroll": "json-false",
    "collapsed": false,
    "ein.tags": [
     "worksheet-0"
    ]
   },
   "outputs": [],
   "source": [
    "training_and_validation, testing = sales.random_split(0.9, seed=1)\n",
    "training, validation = training_and_validation.random_split(0.5, seed=1)"
   ]
  },
  {
   "cell_type": "markdown",
   "metadata": {
    "ein.tags": [
     "worksheet-0"
    ]
   },
   "source": [
    "Next you should write a loop that does the following:\n",
    "* For degree in [1, 2, 3, 4, 5, 6, 7, 8, 9, 10, 11, 12, 13, 14, 15] (to get this in python type range(1, 15+1))\n",
    "    * Build an SFrame of polynomial data of train_data['sqft_living'] at the current degree\n",
    "    * hint: my_features = poly_data.column_names() gives you a list e.g. ['power_1', 'power_2', 'power_3'] which you might find useful for graphlab.linear_regression.create( features = my_features)\n",
    "    * Add train_data['price'] to the polynomial SFrame\n",
    "    * Learn a polynomial regression model to sqft vs price with that degree on TRAIN data\n",
    "    * Compute the RSS on VALIDATION data (here you will want to use .predict()) for that degree and you will need to make a polynmial SFrame using validation data.\n",
    "* Report which degree had the lowest RSS on validation data (remember python indexes from 0)\n",
    "\n",
    "(Note you can turn off the print out of linear_regression.create() with verbose = False)"
   ]
  },
  {
   "cell_type": "code",
   "execution_count": 31,
   "metadata": {
    "autoscroll": "json-false",
    "collapsed": false,
    "ein.tags": [
     "worksheet-0"
    ]
   },
   "outputs": [
    {
     "name": "stdout",
     "output_type": "stream",
     "text": [
      " \u001b[0mresidual_sum_of_squares\u001b[0m\u001b[1;33m(\u001b[0m\u001b[0mmodel\u001b[0m\u001b[1;33m,\u001b[0m \u001b[0mdata\u001b[0m\u001b[1;33m,\u001b[0m \u001b[0mtarget_data\u001b[0m\u001b[1;33m,\u001b[0m \u001b[0mverbose\u001b[0m\u001b[1;33m=\u001b[0m\u001b[0mFalse\u001b[0m\u001b[1;33m)\u001b[0m\u001b[1;33m\u001b[0m\u001b[0m\n",
      " "
     ]
    }
   ],
   "source": [
    "%pdef residual_sum_of_squares"
   ]
  },
  {
   "cell_type": "code",
   "execution_count": 32,
   "metadata": {
    "autoscroll": "json-false",
    "collapsed": false,
    "ein.tags": [
     "worksheet-0"
    ]
   },
   "outputs": [
    {
     "data": {
      "text/plain": [
       "126"
      ]
     },
     "execution_count": 32,
     "metadata": {},
     "output_type": "execute_result"
    }
   ],
   "source": [
    "len(training['price']) - len(validation['price'])"
   ]
  },
  {
   "cell_type": "code",
   "execution_count": 33,
   "metadata": {
    "autoscroll": "json-false",
    "collapsed": false,
    "ein.tags": [
     "worksheet-0"
    ]
   },
   "outputs": [
    {
     "name": "stdout",
     "output_type": "stream",
     "text": [
      "9635\n"
     ]
    }
   ],
   "source": [
    "print(len(validation['price']))"
   ]
  },
  {
   "cell_type": "code",
   "execution_count": 34,
   "metadata": {
    "autoscroll": "json-false",
    "collapsed": false,
    "ein.tags": [
     "worksheet-0"
    ]
   },
   "outputs": [
    {
     "data": {
      "text/plain": [
       "1364735037670161.8"
      ]
     },
     "execution_count": 34,
     "metadata": {},
     "output_type": "execute_result"
    }
   ],
   "source": [
    "model = RegressionModel(data=training, degree=5)\n",
    "predictions = model.model.predict(validation)\n",
    "residuals = predictions - validation['price']\n",
    "(residuals**2).sum()\n"
   ]
  },
  {
   "cell_type": "code",
   "execution_count": 35,
   "metadata": {
    "autoscroll": "json-false",
    "collapsed": false,
    "ein.tags": [
     "worksheet-0"
    ]
   },
   "outputs": [
    {
     "data": {
      "text/plain": [
       "1364735037670161.8"
      ]
     },
     "execution_count": 35,
     "metadata": {},
     "output_type": "execute_result"
    }
   ],
   "source": [
    "residual_sum_of_squares(model.model, validation, validation['price'])"
   ]
  },
  {
   "cell_type": "code",
   "execution_count": 334,
   "metadata": {
    "autoscroll": "json-false",
    "collapsed": false,
    "ein.tags": [
     "worksheet-0"
    ]
   },
   "outputs": [],
   "source": [
    "FrameRss = namedtuple('FrameRss', 'rss train_model test_model predictions'.split())"
   ]
  },
  {
   "cell_type": "code",
   "execution_count": 335,
   "metadata": {
    "autoscroll": "json-false",
    "collapsed": false,
    "ein.tags": [
     "worksheet-0"
    ]
   },
   "outputs": [],
   "source": [
    "def frame_rss(training, testing, degree, model=RegressionModel):\n",
    "    \"\"\"\n",
    "    :param:\n",
    "     - `training`: SFrame data for training\n",
    "     - `testing`: SFrame for testing\n",
    "     - `degree`: Maximum degree for the polynomial data\n",
    "     - `model`: class definition RegressionModel or FrameRegressionModel\n",
    "    :return: RSS between prediction from training model and testing data\n",
    "    \"\"\"\n",
    "    train_model = model(data=training, degree=degree)\n",
    "    test_model = model(data=testing, degree=degree)\n",
    "    predictions = train_model.predict(test_model.poly_data)\n",
    "    residuals = predictions - test_model.data['price']\n",
    "    return FrameRss(rss=(residuals**2).sum(), train_model=train_model,\n",
    "                    test_model=test_model, predictions=predictions)"
   ]
  },
  {
   "cell_type": "code",
   "execution_count": 321,
   "metadata": {
    "autoscroll": "json-false",
    "collapsed": false,
    "ein.tags": [
     "worksheet-0"
    ]
   },
   "outputs": [],
   "source": [
    "rss_s = []\n",
    "models = []\n",
    "for degree in range(1, 16):\n",
    "    rss = frame_rss(training, validation, degree)\n",
    "    rss_s.append(rss.rss)\n",
    "    models.append(train_model)"
   ]
  },
  {
   "cell_type": "code",
   "execution_count": 322,
   "metadata": {
    "autoscroll": "json-false",
    "collapsed": false,
    "ein.tags": [
     "worksheet-0"
    ]
   },
   "outputs": [
    {
     "name": "stdout",
     "output_type": "stream",
     "text": [
      "Min RSS Index: 5\n",
      "RSS Max: 6.91195074764e+14\n",
      "RSS Min: 6.03331784575e+14\n",
      "RSS Difference: 8.78632901887e+13\n",
      "Min RSS Degree: 6\n"
     ]
    }
   ],
   "source": [
    "rss = numpy.array(rss_s)\n",
    "rss.min()\n",
    "rss.max()\n",
    "\n",
    "rss.max() - rss.min()\n",
    "min_rss_index = rss.argmin()\n",
    "min_rss_degree = min_rss_index + 1\n",
    "print(\"Min RSS Index: {0}\".format(min_rss_index))\n",
    "assert rss[rss.argmin()] == rss.min()\n",
    "print(\"RSS Max: {0}\".format(rss.max()))\n",
    "print(\"RSS Min: {0}\".format(rss.min()))\n",
    "print(\"RSS Difference: {0}\".format(rss.max() - rss.min()))\n",
    "print(\"Min RSS Degree: {0}\".format(min_rss_degree))"
   ]
  },
  {
   "cell_type": "markdown",
   "metadata": {
    "ein.tags": [
     "worksheet-0"
    ]
   },
   "source": [
    "**Quiz Question: Which degree (1, 2, …, 15) had the lowest RSS on Validation data?**"
   ]
  },
  {
   "cell_type": "code",
   "execution_count": 323,
   "metadata": {
    "autoscroll": "json-false",
    "collapsed": false,
    "ein.tags": [
     "worksheet-0"
    ]
   },
   "outputs": [
    {
     "name": "stdout",
     "output_type": "stream",
     "text": [
      "Degree 6\n"
     ]
    }
   ],
   "source": [
    "print(\"Degree {0}\".format(min_rss_degree))"
   ]
  },
  {
   "cell_type": "markdown",
   "metadata": {
    "ein.tags": [
     "worksheet-0"
    ]
   },
   "source": [
    "Now that you have chosen the degree of your polynomial using validation data, compute the RSS of this model on TEST data. Report the RSS on your quiz."
   ]
  },
  {
   "cell_type": "code",
   "execution_count": 336,
   "metadata": {
    "autoscroll": "json-false",
    "collapsed": false,
    "ein.tags": [
     "worksheet-0"
    ]
   },
   "outputs": [
    {
     "name": "stdout",
     "output_type": "stream",
     "text": [
      "1.28190e+14\n"
     ]
    }
   ],
   "source": [
    "rss = frame_rss(training, testing, min_rss_degree)\n",
    "print(\"{0:.5e}\".format(rss.rss))\n"
   ]
  },
  {
   "cell_type": "code",
   "execution_count": 346,
   "metadata": {
    "autoscroll": "json-false",
    "collapsed": false,
    "ein.tags": [
     "worksheet-0"
    ]
   },
   "outputs": [
    {
     "data": {
      "text/plain": [
       "<matplotlib.figure.Figure at 0x7ffa6c127690>"
      ]
     },
     "metadata": {},
     "output_type": "display_data"
    }
   ],
   "source": [
    "def plot_train_test(rss):\n",
    "    figure = plt.figure()\n",
    "    axe = figure.gca()\n",
    "    lines = axe.plot(rss.train_model.poly_data['power_1'],\n",
    "                     rss.train_model.data['price'], '.', label='training Data')\n",
    "    lines = axe.plot(rss.test_model.poly_data['power_1'],\n",
    "                     rss.test_model.data['price'], 'o', label='Test Data')\n",
    "    lines = axe.plot(rss.test_model.poly_data['power_1'], rss.predictions, '-',\n",
    "                     label='Test Predictions')\n",
    "    axe.legend()\n",
    "    axe.set_xlabel('Living Space (Sq Ft)')\n",
    "    axe.set_ylabel('Price ($)')\n",
    "    title = axe.set_title('Living Space vs Price')\n",
    "    return\n",
    "plot_train_test(rss)\n"
   ]
  },
  {
   "cell_type": "code",
   "execution_count": 350,
   "metadata": {
    "autoscroll": "json-false",
    "collapsed": false,
    "ein.tags": [
     "worksheet-0"
    ]
   },
   "outputs": [
    {
     "name": "stdout",
     "output_type": "stream",
     "text": [
      "13540.0\n",
      "7120.0\n",
      "0.525849335303\n"
     ]
    }
   ],
   "source": [
    "print(training['sqft_living'].max())\n",
    "print(testing['sqft_living'].max())\n",
    "print(testing['sqft_living'].max()/(training['sqft_living'].max()))"
   ]
  },
  {
   "cell_type": "markdown",
   "metadata": {
    "ein.tags": [
     "worksheet-0"
    ]
   },
   "source": [
    "Despite the high degree, the prediction line looks like a flatter parabola. It's notable, perhaps, that the training data has an extreme outlier with a large living space but only a moderately high price, while the largest living area for the testing set is almost half of the training set, but the fit still looks reasonably good.\n"
   ]
  },
  {
   "cell_type": "markdown",
   "metadata": {
    "ein.tags": [
     "worksheet-0"
    ]
   },
   "source": [
    "**Quiz Question: what is the RSS on TEST data for the model with the degree selected from Validation data? (Make sure you got the correct degree from the previous question)**\n",
    "\n",
    "1.28190e+14"
   ]
  },
  {
   "cell_type": "code",
   "execution_count": 205,
   "metadata": {
    "autoscroll": "json-false",
    "collapsed": false,
    "ein.tags": [
     "worksheet-0"
    ]
   },
   "outputs": [],
   "source": [
    "train_validate, test = train_test_split(sales_frame, train_size=0.9, random_state=1)\n",
    "train, validate = train_test_split(train_validate, train_size=0.5, random_state=1)"
   ]
  },
  {
   "cell_type": "code",
   "execution_count": 351,
   "metadata": {
    "autoscroll": "json-false",
    "collapsed": false,
    "ein.tags": [
     "worksheet-0"
    ]
   },
   "outputs": [],
   "source": [
    "frame_rss_s = []\n",
    "\n",
    "for degree in range(1, 16):\n",
    "    rss = frame_rss(training, validation, degree,\n",
    "                    FrameRegressionModel)\n",
    "    frame_rss_s.append(rss.rss)"
   ]
  },
  {
   "cell_type": "code",
   "execution_count": 352,
   "metadata": {
    "autoscroll": "json-false",
    "collapsed": false,
    "ein.tags": [
     "worksheet-0"
    ]
   },
   "outputs": [
    {
     "name": "stdout",
     "output_type": "stream",
     "text": [
      "Min RSS: 6.22931073145e+14\n",
      "Min RSS Index: 1\n",
      "Min RSS Degree: 2\n"
     ]
    }
   ],
   "source": [
    "frame_rss_s = numpy.array(frame_rss_s)\n",
    "min_rss = frame_rss_s.min()\n",
    "min_rss_index = frame_rss_s.argmin()\n",
    "min_rss_degree = min_rss_index + 1\n",
    "print(\"Min RSS: {0}\".format(min_rss))\n",
    "print(\"Min RSS Index: {0}\".format(min_rss_index))\n",
    "print(\"Min RSS Degree: {0}\".format(min_rss_degree))"
   ]
  },
  {
   "cell_type": "code",
   "execution_count": 354,
   "metadata": {
    "autoscroll": "json-false",
    "collapsed": false,
    "ein.tags": [
     "worksheet-0"
    ]
   },
   "outputs": [
    {
     "name": "stdout",
     "output_type": "stream",
     "text": [
      "1.28092e+14\n"
     ]
    }
   ],
   "source": [
    "rss = frame_rss(training, testing, min_rss_degree)\n",
    "print(\"{0:.5e}\".format(rss.rss))"
   ]
  },
  {
   "cell_type": "code",
   "execution_count": 356,
   "metadata": {
    "autoscroll": "json-false",
    "collapsed": false,
    "ein.tags": [
     "worksheet-0"
    ]
   },
   "outputs": [
    {
     "data": {
      "text/plain": [
       "<matplotlib.figure.Figure at 0x7ffa6c7b1810>"
      ]
     },
     "metadata": {},
     "output_type": "display_data"
    }
   ],
   "source": [
    "plot_train_test(rss)"
   ]
  },
  {
   "cell_type": "markdown",
   "metadata": {
    "ein.tags": [
     "worksheet-0"
    ]
   },
   "source": [
    "I don't know why the the degrees are so different, but the RSS for the testing data is the same for the pandas version and the SFRame version"
   ]
  }
 ],
 "metadata": {
  "kernelspec": {
   "display_name": "Python 2",
   "language": "python",
   "name": "python2"
  },
  "language_info": {
   "codemirror_mode": {
    "name": "ipython",
    "version": 2
   },
   "file_extension": ".py",
   "mimetype": "text/x-python",
   "name": "python",
   "nbconvert_exporter": "python",
   "pygments_lexer": "ipython2",
   "version": "2.7.10"
  },
  "name": "week-3-polynomial-regression-assignment-blank.ipynb"
 },
 "nbformat": 4,
 "nbformat_minor": 0
}
