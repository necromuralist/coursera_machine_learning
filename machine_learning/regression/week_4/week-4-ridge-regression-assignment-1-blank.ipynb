{
 "cells": [
  {
   "cell_type": "markdown",
   "metadata": {
    "ein.tags": [
     "worksheet-0"
    ]
   },
   "source": [
    "# Regression Week 4: Ridge Regression (interpretation)"
   ]
  },
  {
   "cell_type": "markdown",
   "metadata": {
    "ein.tags": [
     "worksheet-0"
    ]
   },
   "source": [
    "In this notebook, we will run ridge regression multiple times with different L2 penalties to see which one produces the best fit. We will revisit the example of polynomial regression as a means to see the effect of L2 regularization. In particular, we will:\n",
    "* Use a pre-built implementation of regression (GraphLab Create) to run polynomial regression\n",
    "* Use matplotlib to visualize polynomial regressions\n",
    "* Use a pre-built implementation of regression (GraphLab Create) to run polynomial regression, this time with L2 penalty\n",
    "* Use matplotlib to visualize polynomial regressions under L2 regularization\n",
    "* Choose best L2 penalty using cross-validation.\n",
    "* Assess the final fit using test data.\n",
    "\n",
    "We will continue to use the House data from previous notebooks.  (In the next programming assignment for this module, you will implement your own ridge regression learning algorithm using gradient descent.)"
   ]
  },
  {
   "cell_type": "markdown",
   "metadata": {
    "ein.tags": [
     "worksheet-0"
    ]
   },
   "source": [
    "## Fire up graphlab create"
   ]
  },
  {
   "cell_type": "code",
   "execution_count": 398,
   "metadata": {
    "autoscroll": "json-false",
    "collapsed": false,
    "ein.tags": [
     "worksheet-0"
    ]
   },
   "outputs": [],
   "source": [
    "# python standard library\n",
    "from collections import namedtuple\n",
    "\n",
    "# third party\n",
    "import graphlab\n",
    "import matplotlib.pyplot as plot\n",
    "import numpy\n",
    "import seaborn\n"
   ]
  },
  {
   "cell_type": "code",
   "execution_count": 399,
   "metadata": {
    "autoscroll": "json-false",
    "collapsed": false,
    "ein.tags": [
     "worksheet-0"
    ]
   },
   "outputs": [],
   "source": [
    "%matplotlib inline"
   ]
  },
  {
   "cell_type": "code",
   "execution_count": 400,
   "metadata": {
    "autoscroll": "json-false",
    "collapsed": false,
    "ein.tags": [
     "worksheet-0"
    ]
   },
   "outputs": [],
   "source": [
    "class Constants(object):\n",
    "    __slots__ = ()\n",
    "    target = 'price'\n",
    "    predictor = 'sqft_living'\n",
    "    base_polynomial = 'power_1'\n",
    "# end class Constants"
   ]
  },
  {
   "cell_type": "markdown",
   "metadata": {
    "ein.tags": [
     "worksheet-0"
    ]
   },
   "source": [
    "## Polynomial regression, revisited"
   ]
  },
  {
   "cell_type": "markdown",
   "metadata": {
    "ein.tags": [
     "worksheet-0"
    ]
   },
   "source": [
    "We build on the material from Week 3, where we wrote the function to produce an SFrame with columns containing the powers of a given input. Copy and paste the function `polynomial_sframe` from Week 3:"
   ]
  },
  {
   "cell_type": "code",
   "execution_count": 401,
   "metadata": {
    "autoscroll": "json-false",
    "collapsed": false,
    "ein.tags": [
     "worksheet-0"
    ]
   },
   "outputs": [],
   "source": [
    "def polynomial_sframe(feature, degree):\n",
    "    \"\"\"\n",
    "    :param:\n",
    "     - `feature`: vector of degree 1 data\n",
    "     - `degree`: highest degree to raise feature data\n",
    "    :return: Frame with feature raised up to degree\n",
    "    \"\"\"\n",
    "    assert degree >= 1, \"`degree` must be >= 1, not {0}\".format(degree)\n",
    "    # initialize the SFrame:\n",
    "    poly_sframe = graphlab.SFrame()\n",
    "    # and set poly_sframe['power_1'] equal to the passed feature\n",
    "    poly_sframe[Constants.base_polynomial] = feature\n",
    "    # first check if degree > 1\n",
    "    if degree > 1:\n",
    "        # then loop over the remaining degrees:\n",
    "        # range usually starts at 0 and stops at the endpoint-1. We want it to start at 2 and stop at degree\n",
    "        for power in range(2, degree + 1): \n",
    "            # first we'll give the column a name:\n",
    "            name = 'power_{0}'.format(power)\n",
    "            # then assign poly_sframe[name] to the appropriate power of feature\n",
    "            poly_sframe[name] = feature.apply(lambda x: x**power)\n",
    "    return poly_sframe    "
   ]
  },
  {
   "cell_type": "code",
   "execution_count": 402,
   "metadata": {
    "autoscroll": "json-false",
    "collapsed": false,
    "ein.tags": [
     "worksheet-0"
    ]
   },
   "outputs": [],
   "source": [
    "test_data = graphlab.SArray(range(100))\n",
    "try:\n",
    "    output = polynomial_sframe(test_data, -1)\n",
    "    raise Exception('this should not be reachable')\n",
    "except AssertionError:\n",
    "    pass\n",
    "degree = 3\n",
    "output = polynomial_sframe(test_data, degree)\n",
    "assert type(output) == graphlab.SFrame\n",
    "for i in range(degree):\n",
    "    column = 'power_{0}'.format(i + 1)\n",
    "    assert column in output.column_names()\n",
    "    assert len(output[column]) == len(test_data)\n",
    "    assert output[column] == test_data**(i + 1)"
   ]
  },
  {
   "cell_type": "markdown",
   "metadata": {
    "ein.tags": [
     "worksheet-0"
    ]
   },
   "source": [
    "Let's use matplotlib to visualize what a polynomial regression looks like on the house data."
   ]
  },
  {
   "cell_type": "code",
   "execution_count": 403,
   "metadata": {
    "autoscroll": "json-false",
    "collapsed": false,
    "ein.tags": [
     "worksheet-0"
    ]
   },
   "outputs": [],
   "source": [
    "sales = graphlab.SFrame('../../large_data/kc_house_data.gl/')"
   ]
  },
  {
   "cell_type": "markdown",
   "metadata": {
    "ein.tags": [
     "worksheet-0"
    ]
   },
   "source": [
    "As in Week 3, we will use the sqft_living variable. For plotting purposes (connecting the dots), you'll need to sort by the values of sqft_living. For houses with identical square footage, we break the tie by their prices."
   ]
  },
  {
   "cell_type": "code",
   "execution_count": 404,
   "metadata": {
    "autoscroll": "json-false",
    "collapsed": false,
    "ein.tags": [
     "worksheet-0"
    ]
   },
   "outputs": [],
   "source": [
    "sales = sales.sort([Constants.predictor, Constants.target])"
   ]
  },
  {
   "cell_type": "markdown",
   "metadata": {
    "ein.tags": [
     "worksheet-0"
    ]
   },
   "source": [
    "Let us revisit the 15th-order polynomial model using the 'sqft_living' input. Generate polynomial features up to degree 15 using `polynomial_sframe()` and fit a model with these features. When fitting the model, use an L2 penalty of `1e-5`:"
   ]
  },
  {
   "cell_type": "code",
   "execution_count": 405,
   "metadata": {
    "autoscroll": "json-false",
    "collapsed": false,
    "ein.tags": [
     "worksheet-0"
    ]
   },
   "outputs": [],
   "source": [
    "l2_small_penalty = 1e-5"
   ]
  },
  {
   "cell_type": "code",
   "execution_count": 406,
   "metadata": {
    "autoscroll": "json-false",
    "collapsed": false,
    "ein.tags": [
     "worksheet-0"
    ]
   },
   "outputs": [],
   "source": [
    "poly_15 = polynomial_sframe(sales[Constants.predictor], 15)\n",
    "features = poly_15.column_names()\n",
    "poly_15[Constants.target] = sales[Constants.target]"
   ]
  },
  {
   "cell_type": "markdown",
   "metadata": {
    "ein.tags": [
     "worksheet-0"
    ]
   },
   "source": [
    "*Note*: When we have so many features and so few data points, the solution can become highly numerically unstable, which can sometimes lead to strange unpredictable results.  Thus, rather than using no regularization, we will introduce a tiny amount of regularization (`l2_penalty=1e-5`) to make the solution numerically stable.  (In lecture, we discussed the fact that regularization can also help with numerical stability, and here we are seeing a practical example.)\n",
    "\n",
    "With the L2 penalty specified above, fit the model and print out the learned weights.\n",
    "\n",
    "Hint: make sure to add 'price' column to the new SFrame before calling `graphlab.linear_regression.create()`. Also, make sure GraphLab Create doesn't create its own validation set by using the option `validation_set=None` in this call."
   ]
  },
  {
   "cell_type": "code",
   "execution_count": 407,
   "metadata": {
    "autoscroll": "json-false",
    "collapsed": false,
    "ein.tags": [
     "worksheet-0"
    ]
   },
   "outputs": [],
   "source": [
    "model_15 = graphlab.linear_regression.create(poly_15,\n",
    "                                             target=Constants.target,\n",
    "                                             features=features,\n",
    "                                             validation_set=None,\n",
    "                                             l2_penalty=l2_small_penalty,\n",
    "                                             verbose=False)"
   ]
  },
  {
   "cell_type": "code",
   "execution_count": 408,
   "metadata": {
    "autoscroll": "json-false",
    "collapsed": false,
    "ein.tags": [
     "worksheet-0"
    ]
   },
   "outputs": [
    {
     "name": "stdout",
     "output_type": "stream",
     "text": [
      "+-------------+-------+--------------------+\n",
      "|     name    | index |       value        |\n",
      "+-------------+-------+--------------------+\n",
      "| (intercept) |  None |   167924.858154    |\n",
      "|   power_1   |  None |   103.090949754    |\n",
      "|   power_2   |  None |   0.134604553044   |\n",
      "|   power_3   |  None | -0.000129071365146 |\n",
      "|   power_4   |  None | 5.18928960684e-08  |\n",
      "|   power_5   |  None | -7.77169308381e-12 |\n",
      "|   power_6   |  None | 1.71144848253e-16  |\n",
      "|   power_7   |  None | 4.51177961859e-20  |\n",
      "|   power_8   |  None | -4.78839845626e-25 |\n",
      "|   power_9   |  None | -2.33343504241e-28 |\n",
      "+-------------+-------+--------------------+\n",
      "[16 rows x 3 columns]\n",
      "Note: Only the head of the SFrame is printed.\n",
      "You can use print_rows(num_rows=m, num_columns=n) to print more rows and columns.\n"
     ]
    }
   ],
   "source": [
    "coefficients = model_15.get('coefficients')\n",
    "print(coefficients)"
   ]
  },
  {
   "cell_type": "code",
   "execution_count": 409,
   "metadata": {
    "autoscroll": "json-false",
    "collapsed": false,
    "ein.tags": [
     "worksheet-0"
    ]
   },
   "outputs": [
    {
     "name": "stdout",
     "output_type": "stream",
     "text": [
      "['name', 'index', 'value']\n"
     ]
    }
   ],
   "source": [
    "print(coefficients.column_names())"
   ]
  },
  {
   "cell_type": "code",
   "execution_count": 410,
   "metadata": {
    "autoscroll": "json-false",
    "collapsed": false,
    "ein.tags": [
     "worksheet-0"
    ]
   },
   "outputs": [
    {
     "data": {
      "text/plain": [
       "103.0909497538479"
      ]
     },
     "execution_count": 410,
     "metadata": {},
     "output_type": "execute_result"
    }
   ],
   "source": [
    "coefficients[coefficients['name'] == 'power_1']['value'][0]"
   ]
  },
  {
   "cell_type": "markdown",
   "metadata": {
    "ein.tags": [
     "worksheet-0"
    ]
   },
   "source": [
    "***QUIZ QUESTION:  What's the learned value for the coefficient of feature `power_1`?***"
   ]
  },
  {
   "cell_type": "markdown",
   "metadata": {
    "ein.tags": [
     "worksheet-0"
    ]
   },
   "source": [
    "**answer:** 103.090949754"
   ]
  },
  {
   "cell_type": "markdown",
   "metadata": {
    "ein.tags": [
     "worksheet-0"
    ]
   },
   "source": [
    "## Observe overfitting"
   ]
  },
  {
   "cell_type": "markdown",
   "metadata": {
    "ein.tags": [
     "worksheet-0"
    ]
   },
   "source": [
    "Recall from Week 3 that the polynomial fit of degree 15 changed wildly whenever the data changed. In particular, when we split the sales data into four subsets and fit the model of degree 15, the result came out to be very different for each subset. The model had a *high variance*. We will see in a moment that ridge regression reduces such variance. But first, we must reproduce the experiment we did in Week 3."
   ]
  },
  {
   "cell_type": "markdown",
   "metadata": {
    "ein.tags": [
     "worksheet-0"
    ]
   },
   "source": [
    "First, split the data into split the sales data into four subsets of roughly equal size and call them `set_1`, `set_2`, `set_3`, and `set_4`. Use `.random_split` function and make sure you set `seed=0`. "
   ]
  },
  {
   "cell_type": "code",
   "execution_count": 411,
   "metadata": {
    "autoscroll": "json-false",
    "collapsed": false,
    "ein.tags": [
     "worksheet-0"
    ]
   },
   "outputs": [],
   "source": [
    "(semi_split1, semi_split2) = sales.random_split(.5,seed=0)\n",
    "(set_1, set_2) = semi_split1.random_split(0.5, seed=0)\n",
    "(set_3, set_4) = semi_split2.random_split(0.5, seed=0)"
   ]
  },
  {
   "cell_type": "markdown",
   "metadata": {
    "ein.tags": [
     "worksheet-0"
    ]
   },
   "source": [
    "Next, fit a 15th degree polynomial on `set_1`, `set_2`, `set_3`, and `set_4`, using 'sqft_living' to predict prices. Print the weights and make a plot of the resulting model.\n",
    "\n",
    "Hint: When calling `graphlab.linear_regression.create()`, use the same L2 penalty as before (i.e. `l2_small_penalty`).  Also, make sure GraphLab Create doesn't create its own validation set by using the option `validation_set = None` in this call."
   ]
  },
  {
   "cell_type": "code",
   "execution_count": 412,
   "metadata": {
    "autoscroll": "json-false",
    "collapsed": false,
    "ein.tags": [
     "worksheet-0"
    ]
   },
   "outputs": [],
   "source": [
    "sets = [set_1, set_2, set_3, set_4]\n",
    "set_data = {'set_{0}'.format(count+1): data for count, data in enumerate(sets)}\n",
    "polynomials = [polynomial_sframe(data[Constants.predictor], 15) for data in sets]\n",
    "for index, frame in enumerate(polynomials):\n",
    "    frame[Constants.target] = sets[index][Constants.target]\n",
    "polynomial_data = {'set_{0}'.format(count+1): data for count, data in enumerate(polynomials)}\n",
    "    \n",
    "def get_models(penalty=l2_small_penalty):\n",
    "    return {name: graphlab.linear_regression.create(data,\n",
    "                                                    target=Constants.target,\n",
    "                                                    features=features,\n",
    "                                                    validation_set=None,\n",
    "                                                    l2_penalty=penalty,\n",
    "                                                    verbose=False)\n",
    "            for name, data in polynomial_data.items()}\n",
    "models = get_models()"
   ]
  },
  {
   "cell_type": "code",
   "execution_count": 413,
   "metadata": {
    "autoscroll": "json-false",
    "collapsed": false,
    "ein.tags": [
     "worksheet-0"
    ]
   },
   "outputs": [
    {
     "name": "stdout",
     "output_type": "stream",
     "text": [
      "\n"
     ]
    },
    {
     "name": "stdout",
     "output_type": "stream",
     "text": [
      "\n",
      "set_3\n",
      "+-------------+-------+--------------------+\n",
      "|     name    | index |       value        |\n",
      "+-------------+-------+--------------------+\n",
      "| (intercept) |  None |   462426.565731    |\n",
      "|   power_1   |  None |   -759.251842854   |\n",
      "|   power_2   |  None |    1.0286700473    |\n",
      "|   power_3   |  None | -0.000528264527386 |\n",
      "|   power_4   |  None | 1.15422908385e-07  |\n",
      "|   power_5   |  None | -2.26095948062e-12 |\n",
      "|   power_6   |  None | -2.08214287571e-15 |\n",
      "|   power_7   |  None | 4.08770475709e-20  |\n",
      "|   power_8   |  None |  2.570791329e-23   |\n",
      "|   power_9   |  None | 1.24311265196e-27  |\n",
      "+-------------+-------+--------------------+\n",
      "[16 rows x 3 columns]\n",
      "Note: Only the head of the SFrame is printed.\n",
      "You can use print_rows(num_rows=m, num_columns=n) to print more rows and columns.\n",
      "set_4\n",
      "+-------------+-------+--------------------+\n",
      "|     name    | index |       value        |\n",
      "+-------------+-------+--------------------+\n",
      "| (intercept) |  None |   -170240.032842   |\n",
      "|   power_1   |  None |   1247.59034541    |\n",
      "|   power_2   |  None |   -1.22460912177   |\n",
      "|   power_3   |  None | 0.000555254626344  |\n",
      "|   power_4   |  None | -6.3826237386e-08  |\n",
      "|   power_5   |  None | -2.20215991142e-11 |\n",
      "|   power_6   |  None | 4.81834694285e-15  |\n",
      "|   power_7   |  None | 4.21461612787e-19  |\n",
      "|   power_8   |  None | -7.99880736276e-23 |\n",
      "|   power_9   |  None | -1.32365897487e-26 |\n",
      "+-------------+-------+--------------------+\n",
      "[16 rows x 3 columns]\n",
      "Note: Only the head of the SFrame is printed.\n",
      "You can use print_rows(num_rows=m, num_columns=n) to print more rows and columns."
     ]
    },
    {
     "name": "stdout",
     "output_type": "stream",
     "text": [
      "set_1\n",
      "+-------------+-------+--------------------+\n",
      "|     name    | index |       value        |\n",
      "+-------------+-------+--------------------+\n",
      "| (intercept) |  None |    9306.4606221    |\n",
      "|   power_1   |  None |   585.865823394    |\n",
      "|   power_2   |  None |  -0.397305895643   |\n",
      "|   power_3   |  None | 0.000141470900599  |\n",
      "|   power_4   |  None | -1.52945989958e-08 |\n",
      "|   power_5   |  None | -3.79756325772e-13 |\n",
      "|   power_6   |  None | 5.97481763253e-17  |\n",
      "|   power_7   |  None | 1.06888504767e-20  |\n",
      "|   power_8   |  None | 1.59344027887e-25  |\n",
      "|   power_9   |  None | -6.92834984105e-29 |\n",
      "+-------------+-------+--------------------+\n",
      "[16 rows x 3 columns]\n",
      "Note: Only the head of the SFrame is printed.\n",
      "You can use print_rows(num_rows=m, num_columns=n) to print more rows and columns.\n",
      "set_2\n",
      "+-------------+-------+--------------------+\n",
      "|     name    | index |       value        |\n",
      "+-------------+-------+--------------------+\n",
      "| (intercept) |  None |   -25115.9044254   |\n",
      "|   power_1   |  None |    783.49380028    |\n",
      "|   power_2   |  None |  -0.767759302942   |\n",
      "|   power_3   |  None | 0.000438766369254  |\n",
      "|   power_4   |  None | -1.15169166858e-07 |\n",
      "|   power_5   |  None | 6.84281360981e-12  |\n",
      "|   power_6   |  None | 2.51195187082e-15  |\n",
      "|   power_7   |  None | -2.06440608259e-19 |\n",
      "|   power_8   |  None | -4.59673022352e-23 |\n",
      "|   power_9   |  None | -2.71279236963e-29 |\n",
      "+-------------+-------+--------------------+\n",
      "[16 rows x 3 columns]\n",
      "Note: Only the head of the SFrame is printed.\n",
      "You can use print_rows(num_rows=m, num_columns=n) to print more rows and columns."
     ]
    }
   ],
   "source": [
    "def get_coefficients(models):\n",
    "    return {name: model.get('coefficients') for name, model in models.items()}\n",
    "\n",
    "model_coefficients = get_coefficients(models)\n",
    "for name, coefficients in model_coefficients.items():\n",
    "    print(name)\n",
    "    print(coefficients)"
   ]
  },
  {
   "cell_type": "code",
   "execution_count": 414,
   "metadata": {
    "autoscroll": "json-false",
    "collapsed": false,
    "ein.tags": [
     "worksheet-0"
    ]
   },
   "outputs": [
    {
     "data": {
      "text/plain": [
       "<matplotlib.figure.Figure at 0x7ff88288e890>"
      ]
     },
     "metadata": {},
     "output_type": "display_data"
    },
    {
     "data": {
      "text/plain": [
       "<matplotlib.figure.Figure at 0x7ff882720810>"
      ]
     },
     "metadata": {},
     "output_type": "display_data"
    },
    {
     "data": {
      "text/plain": [
       "<matplotlib.figure.Figure at 0x7ff88278b850>"
      ]
     },
     "metadata": {},
     "output_type": "display_data"
    },
    {
     "data": {
      "text/plain": [
       "<matplotlib.figure.Figure at 0x7ff8829176d0>"
      ]
     },
     "metadata": {},
     "output_type": "display_data"
    }
   ],
   "source": [
    "seaborn.set_style('whitegrid')\n",
    "\n",
    "def plot_models(models, penalty, palette='colorblind'):\n",
    "    seaborn.set_palette(palette)\n",
    "    for name, model in models.items():\n",
    "        figure = plot.figure()\n",
    "        axe = figure.gca()\n",
    "        x = polynomial_data[name][Constants.base_polynomial]\n",
    "        lines = axe.plot(x, set_data[name][Constants.target], '.', label='data')\n",
    "        lines = axe.plot(x, model.predict(polynomial_data[name]), '-', label='model')\n",
    "        legend = axe.legend(loc=\"upper left\")\n",
    "        title = axe.set_title(\"Sq Ft Living vs Price ({0}, degree 15, penalty {1})\".format(name, penalty))\n",
    "        label = axe.set_xlabel(\"Living Area (Sq Ft)\")\n",
    "        label = axe.set_ylabel(\"Price ($)\")\n",
    "plot_models(models, l2_small_penalty)"
   ]
  },
  {
   "cell_type": "markdown",
   "metadata": {
    "ein.tags": [
     "worksheet-0"
    ]
   },
   "source": [
    "The four curves should differ from one another a lot, as should the coefficients you learned.\n",
    "\n",
    "***QUIZ QUESTION:  For the models learned in each of these training sets, what are the smallest and largest values you learned for the coefficient of feature `power_1`?***  (For the purpose of answering this question, negative numbers are considered \"smaller\" than positive numbers. So -5 is smaller than -3, and -3 is smaller than 5 and so forth.)"
   ]
  },
  {
   "cell_type": "code",
   "execution_count": 415,
   "metadata": {
    "autoscroll": "json-false",
    "collapsed": false,
    "ein.tags": [
     "worksheet-0"
    ]
   },
   "outputs": [],
   "source": [
    "def smallest_largest_coefficient(model_coefficients):\n",
    "    smallest = min(coefficients[coefficients['name'] == Constants.base_polynomial]['value'][0] for coefficients in model_coefficients.values())\n",
    "    largest = max(coefficients[coefficients['name'] == Constants.base_polynomial]['value'][0] for coefficients in model_coefficients.values())\n",
    "    return smallest, largest"
   ]
  },
  {
   "cell_type": "code",
   "execution_count": 416,
   "metadata": {
    "autoscroll": "json-false",
    "collapsed": false,
    "ein.tags": [
     "worksheet-0"
    ]
   },
   "outputs": [
    {
     "name": "stdout",
     "output_type": "stream",
     "text": [
      "smallest power 1 coefficient\n",
      "-759.251842854\n"
     ]
    }
   ],
   "source": [
    "smallest, largest = smallest_largest_coefficient(model_coefficients)\n",
    "print(\"smallest power 1 coefficient\")\n",
    "print(smallest)"
   ]
  },
  {
   "cell_type": "code",
   "execution_count": 417,
   "metadata": {
    "autoscroll": "json-false",
    "collapsed": false,
    "ein.tags": [
     "worksheet-0"
    ]
   },
   "outputs": [
    {
     "name": "stdout",
     "output_type": "stream",
     "text": [
      "largest power 1 coefficient\n",
      "1247.59034541\n"
     ]
    }
   ],
   "source": [
    "print(\"largest power 1 coefficient\")\n",
    "print(largest)"
   ]
  },
  {
   "cell_type": "markdown",
   "metadata": {
    "ein.tags": [
     "worksheet-0"
    ]
   },
   "source": [
    "## Ridge regression comes to rescue"
   ]
  },
  {
   "cell_type": "markdown",
   "metadata": {
    "ein.tags": [
     "worksheet-0"
    ]
   },
   "source": [
    "Generally, whenever we see weights change so much in response to change in data, we believe the variance of our estimate to be large. Ridge regression aims to address this issue by penalizing \"large\" weights. (Weights of `model15` looked quite small, but they are not that small because 'sqft_living' input is in the order of thousands.)\n",
    "\n",
    "With the argument `l2_penalty=1e5`, fit a 15th-order polynomial model on `set_1`, `set_2`, `set_3`, and `set_4`. Other than the change in the `l2_penalty` parameter, the code should be the same as the experiment above. Also, make sure GraphLab Create doesn't create its own validation set by using the option `validation_set = None` in this call."
   ]
  },
  {
   "cell_type": "code",
   "execution_count": 418,
   "metadata": {
    "autoscroll": "json-false",
    "collapsed": false,
    "ein.tags": [
     "worksheet-0"
    ]
   },
   "outputs": [],
   "source": [
    "penalty_2 = 1e5\n",
    "assert penalty_2 == 10**5\n",
    "models_2 = get_models(penalty=penalty_2)\n"
   ]
  },
  {
   "cell_type": "code",
   "execution_count": 419,
   "metadata": {
    "autoscroll": "json-false",
    "collapsed": false,
    "ein.tags": [
     "worksheet-0"
    ]
   },
   "outputs": [
    {
     "name": "stdout",
     "output_type": "stream",
     "text": [
      "\n",
      "set_4\n",
      "+-------------+-------+-------------------+\n",
      "|     name    | index |       value       |\n",
      "+-------------+-------+-------------------+\n",
      "| (intercept) |  None |   513667.087087   |\n",
      "|   power_1   |  None |   1.91040938244   |\n",
      "|   power_2   |  None |  0.00110058029175 |\n",
      "|   power_3   |  None | 3.12753987879e-07 |\n",
      "|   power_4   |  None | 5.50067886825e-11 |\n",
      "|   power_5   |  None | 7.20467557825e-15 |\n",
      "|   power_6   |  None | 8.24977249384e-19 |\n",
      "|   power_7   |  None | 9.06503223498e-23 |\n",
      "|   power_8   |  None | 9.95683160453e-27 |\n",
      "|   power_9   |  None | 1.10838127982e-30 |\n",
      "+-------------+-------+-------------------+\n",
      "[16 rows x 3 columns]\n",
      "Note: Only the head of the SFrame is printed.\n",
      "You can use print_rows(num_rows=m, num_columns=n) to print more rows and columns.\n"
     ]
    },
    {
     "name": "stdout",
     "output_type": "stream",
     "text": [
      "\n",
      "set_2\n",
      "+-------------+-------+-------------------+\n",
      "|     name    | index |       value       |\n",
      "+-------------+-------+-------------------+\n",
      "| (intercept) |  None |   519216.897383   |\n",
      "|   power_1   |  None |   2.04470474182   |\n",
      "|   power_2   |  None |  0.0011314362684  |\n",
      "|   power_3   |  None | 2.93074277549e-07 |\n",
      "|   power_4   |  None | 4.43540598453e-11 |\n",
      "|   power_5   |  None | 4.80849112204e-15 |\n",
      "|   power_6   |  None | 4.53091707826e-19 |\n",
      "|   power_7   |  None | 4.16042910575e-23 |\n",
      "|   power_8   |  None | 3.90094635128e-27 |\n",
      "|   power_9   |  None |  3.7773187602e-31 |\n",
      "+-------------+-------+-------------------+\n",
      "[16 rows x 3 columns]\n",
      "Note: Only the head of the SFrame is printed.\n",
      "You can use print_rows(num_rows=m, num_columns=n) to print more rows and columns.\n",
      "set_3\n",
      "+-------------+-------+-------------------+\n",
      "|     name    | index |       value       |\n",
      "+-------------+-------+-------------------+\n",
      "| (intercept) |  None |   522911.518048   |\n",
      "|   power_1   |  None |   2.26890421877   |\n",
      "|   power_2   |  None |  0.00125905041842 |\n",
      "|   power_3   |  None | 2.77552918155e-07 |\n",
      "|   power_4   |  None |  3.2093309779e-11 |\n",
      "|   power_5   |  None | 2.87573572364e-15 |\n",
      "|   power_6   |  None | 2.50076112671e-19 |\n",
      "|   power_7   |  None | 2.24685265906e-23 |\n",
      "|   power_8   |  None | 2.09349983135e-27 |\n",
      "|   power_9   |  None | 2.00435383296e-31 |\n",
      "+-------------+-------+-------------------+\n",
      "[16 rows x 3 columns]\n",
      "Note: Only the head of the SFrame is printed.\n",
      "You can use print_rows(num_rows=m, num_columns=n) to print more rows and columns."
     ]
    },
    {
     "name": "stdout",
     "output_type": "stream",
     "text": [
      "set_1\n",
      "+-------------+-------+-------------------+\n",
      "|     name    | index |       value       |\n",
      "+-------------+-------+-------------------+\n",
      "| (intercept) |  None |   530317.024516   |\n",
      "|   power_1   |  None |   2.58738875673   |\n",
      "|   power_2   |  None |  0.00127414400592 |\n",
      "|   power_3   |  None | 1.74934226932e-07 |\n",
      "|   power_4   |  None | 1.06022119097e-11 |\n",
      "|   power_5   |  None | 5.42247604482e-16 |\n",
      "|   power_6   |  None | 2.89563828343e-20 |\n",
      "|   power_7   |  None | 1.65000666351e-24 |\n",
      "|   power_8   |  None | 9.86081528409e-29 |\n",
      "|   power_9   |  None | 6.06589348254e-33 |\n",
      "+-------------+-------+-------------------+\n",
      "[16 rows x 3 columns]\n",
      "Note: Only the head of the SFrame is printed.\n",
      "You can use print_rows(num_rows=m, num_columns=n) to print more rows and columns."
     ]
    }
   ],
   "source": [
    "model_2_coefficients = get_coefficients(models_2)\n",
    "for name, coefficients in model_2_coefficients.items():\n",
    "    print(name)\n",
    "    print(coefficients)"
   ]
  },
  {
   "cell_type": "code",
   "execution_count": 420,
   "metadata": {
    "autoscroll": "json-false",
    "collapsed": false,
    "ein.tags": [
     "worksheet-0"
    ]
   },
   "outputs": [
    {
     "data": {
      "text/plain": [
       "<matplotlib.figure.Figure at 0x7ff883174610>"
      ]
     },
     "metadata": {},
     "output_type": "display_data"
    },
    {
     "data": {
      "text/plain": [
       "<matplotlib.figure.Figure at 0x7ff882cc1590>"
      ]
     },
     "metadata": {},
     "output_type": "display_data"
    },
    {
     "data": {
      "text/plain": [
       "<matplotlib.figure.Figure at 0x7ff882b0da10>"
      ]
     },
     "metadata": {},
     "output_type": "display_data"
    },
    {
     "data": {
      "text/plain": [
       "<matplotlib.figure.Figure at 0x7ff883a36810>"
      ]
     },
     "metadata": {},
     "output_type": "display_data"
    }
   ],
   "source": [
    "plot_models(models_2, penalty_2, palette='husl')"
   ]
  },
  {
   "cell_type": "markdown",
   "metadata": {
    "ein.tags": [
     "worksheet-0"
    ]
   },
   "source": [
    "These curves should vary a lot less, now that you applied a high degree of regularization.\n",
    "\n",
    "***QUIZ QUESTION:  For the models learned with the high level of regularization in each of these training sets, what are the smallest and largest values you learned for the coefficient of feature `power_1`?*** (For the purpose of answering this question, negative numbers are considered \"smaller\" than positive numbers. So -5 is smaller than -3, and -3 is smaller than 5 and so forth.)"
   ]
  },
  {
   "cell_type": "code",
   "execution_count": 421,
   "metadata": {
    "autoscroll": "json-false",
    "collapsed": false,
    "ein.tags": [
     "worksheet-0"
    ]
   },
   "outputs": [
    {
     "data": {
      "text/plain": [
       "(1.9104093824432018, 2.5873887567286933)"
      ]
     },
     "execution_count": 421,
     "metadata": {},
     "output_type": "execute_result"
    }
   ],
   "source": [
    "smallest_largest_coefficient(model_2_coefficients)"
   ]
  },
  {
   "cell_type": "markdown",
   "metadata": {
    "ein.tags": [
     "worksheet-0"
    ]
   },
   "source": [
    "## Selecting an L2 penalty via cross-validation"
   ]
  },
  {
   "cell_type": "markdown",
   "metadata": {
    "ein.tags": [
     "worksheet-0"
    ]
   },
   "source": [
    "Just like the polynomial degree, the L2 penalty is a \"magic\" parameter we need to select. We could use the validation set approach as we did in the last module, but that approach has a major disadvantage: it leaves fewer observations available for training. **Cross-validation** seeks to overcome this issue by using all of the training set in a smart way.\n",
    "\n",
    "We will implement a kind of cross-validation called **k-fold cross-validation**. The method gets its name because it involves dividing the training set into k segments of roughly equal size. Similar to the validation set method, we measure the validation error with one of the segments designated as the validation set. The major difference is that we repeat the process k times as follows:\n",
    "\n",
    "Set aside segment 0 as the validation set, and fit a model on rest of data, and evalutate it on this validation set<br>\n",
    "Set aside segment 1 as the validation set, and fit a model on rest of data, and evalutate it on this validation set<br>\n",
    "...<br>\n",
    "Set aside segment k-1 as the validation set, and fit a model on rest of data, and evalutate it on this validation set\n",
    "\n",
    "After this process, we compute the average of the k validation errors, and use it as an estimate of the generalization error. Notice that all observations are used for both training and validation, as we iterate over segments of data. \n",
    "\n",
    "To estimate the generalization error well, it is crucial to shuffle the training data before dividing them into segments. GraphLab Create has a utility function for shuffling a given SFrame. We reserve 10% of the data as the test set and shuffle the remainder. (Make sure to use `seed=1` to get consistent answers.)"
   ]
  },
  {
   "cell_type": "code",
   "execution_count": 422,
   "metadata": {
    "autoscroll": "json-false",
    "collapsed": false,
    "ein.tags": [
     "worksheet-0"
    ]
   },
   "outputs": [],
   "source": [
    "(train_valid, test) = sales.random_split(.9, seed=1)\n",
    "train_valid_shuffled = graphlab.toolkits.cross_validation.shuffle(train_valid, random_seed=1)"
   ]
  },
  {
   "cell_type": "markdown",
   "metadata": {
    "ein.tags": [
     "worksheet-0"
    ]
   },
   "source": [
    "Once the data is shuffled, we divide it into equal segments. Each segment should receive `n/k` elements, where `n` is the number of observations in the training set and `k` is the number of segments. Since the segment 0 starts at index 0 and contains `n/k` elements, it ends at index `(n/k)-1`. The segment 1 starts where the segment 0 left off, at index `(n/k)`. With `n/k` elements, the segment 1 ends at index `(n*2/k)-1`. Continuing in this fashion, we deduce that the segment `i` starts at index `(n*i/k)` and ends at `(n*(i+1)/k)-1`."
   ]
  },
  {
   "cell_type": "markdown",
   "metadata": {
    "ein.tags": [
     "worksheet-0"
    ]
   },
   "source": [
    "With this pattern in mind, we write a short loop that prints the starting and ending indices of each segment, just to make sure you are getting the splits right."
   ]
  },
  {
   "cell_type": "code",
   "execution_count": 423,
   "metadata": {
    "autoscroll": "json-false",
    "collapsed": false,
    "ein.tags": [
     "worksheet-0"
    ]
   },
   "outputs": [
    {
     "name": "stdout",
     "output_type": "stream",
     "text": [
      "0 (0, 1938)\n",
      "1 (1939, 3878)\n",
      "2 (3879, 5817)\n",
      "3 (5818, 7757)\n",
      "4 (7758, 9697)\n",
      "5 (9698, 11636)\n",
      "6 (11637, 13576)\n",
      "7 (13577, 15515)\n",
      "8 (15516, 17455)\n",
      "9 (17456, 19395)\n"
     ]
    }
   ],
   "source": [
    "n = len(train_valid_shuffled)\n",
    "k = 10 # 10-fold cross-validation\n",
    "\n",
    "for i in xrange(k):\n",
    "    start = (n*i)/k\n",
    "    end = (n*(i+1))/k-1\n",
    "    print i, (start, end)"
   ]
  },
  {
   "cell_type": "markdown",
   "metadata": {
    "ein.tags": [
     "worksheet-0"
    ]
   },
   "source": [
    "Let us familiarize ourselves with array slicing with SFrame. To extract a continuous slice from an SFrame, use colon in square brackets. For instance, the following cell extracts rows 0 to 9 of `train_valid_shuffled`. Notice that the first index (0) is included in the slice but the last index (10) is omitted."
   ]
  },
  {
   "cell_type": "code",
   "execution_count": 424,
   "metadata": {
    "autoscroll": "json-false",
    "collapsed": false,
    "ein.tags": [
     "worksheet-0"
    ]
   },
   "outputs": [
    {
     "data": {
      "text/plain": [
       "Columns:\n\tid\tstr\n\tdate\tdatetime\n\tprice\tfloat\n\tbedrooms\tfloat\n\tbathrooms\tfloat\n\tsqft_living\tfloat\n\tsqft_lot\tint\n\tfloors\tstr\n\twaterfront\tint\n\tview\tint\n\tcondition\tint\n\tgrade\tint\n\tsqft_above\tint\n\tsqft_basement\tint\n\tyr_built\tint\n\tyr_renovated\tint\n\tzipcode\tstr\n\tlat\tfloat\n\tlong\tfloat\n\tsqft_living15\tfloat\n\tsqft_lot15\tfloat\n\nRows: 10\n\nData:\n+------------+---------------------------+----------+----------+-----------+\n|     id     |            date           |  price   | bedrooms | bathrooms |\n+------------+---------------------------+----------+----------+-----------+\n| 2780400035 | 2014-05-05 00:00:00+00:00 | 665000.0 |   4.0    |    2.5    |\n| 1703050500 | 2015-03-21 00:00:00+00:00 | 645000.0 |   3.0    |    2.5    |\n| 5700002325 | 2014-06-05 00:00:00+00:00 | 640000.0 |   3.0    |    1.75   |\n| 0475000510 | 2014-11-18 00:00:00+00:00 | 594000.0 |   3.0    |    1.0    |\n| 0844001052 | 2015-01-28 00:00:00+00:00 | 365000.0 |   4.0    |    2.5    |\n| 2781280290 | 2015-04-27 00:00:00+00:00 | 305000.0 |   3.0    |    2.5    |\n| 2214800630 | 2014-11-05 00:00:00+00:00 | 239950.0 |   3.0    |    2.25   |\n| 2114700540 | 2014-10-21 00:00:00+00:00 | 366000.0 |   3.0    |    2.5    |\n| 2596400050 | 2014-07-30 00:00:00+00:00 | 375000.0 |   3.0    |    1.0    |\n| 4140900050 | 2015-01-26 00:00:00+00:00 | 440000.0 |   4.0    |    1.75   |\n+------------+---------------------------+----------+----------+-----------+\n+-------------+----------+--------+------------+------+-----------+-------+------------+\n| sqft_living | sqft_lot | floors | waterfront | view | condition | grade | sqft_above |\n+-------------+----------+--------+------------+------+-----------+-------+------------+\n|    2800.0   |   5900   |   1    |     0      |  0   |     3     |   8   |    1660    |\n|    2490.0   |   5978   |   2    |     0      |  0   |     3     |   9   |    2490    |\n|    2340.0   |   4206   |   1    |     0      |  0   |     5     |   7   |    1170    |\n|    1320.0   |   5000   |   1    |     0      |  0   |     4     |   7   |    1090    |\n|    1904.0   |   8200   |   2    |     0      |  0   |     5     |   7   |    1904    |\n|    1610.0   |   3516   |   2    |     0      |  0   |     3     |   8   |    1610    |\n|    1560.0   |   8280   |   2    |     0      |  0   |     4     |   7   |    1560    |\n|    1320.0   |   4320   |   1    |     0      |  0   |     3     |   6   |    660     |\n|    1960.0   |   7955   |   1    |     0      |  0   |     4     |   7   |    1260    |\n|    2180.0   |  10200   |   1    |     0      |  2   |     3     |   8   |    2000    |\n+-------------+----------+--------+------------+------+-----------+-------+------------+\n+---------------+----------+--------------+---------+-------------+\n| sqft_basement | yr_built | yr_renovated | zipcode |     lat     |\n+---------------+----------+--------------+---------+-------------+\n|      1140     |   1963   |      0       |  98115  | 47.68093246 |\n|       0       |   2003   |      0       |  98074  | 47.62984888 |\n|      1170     |   1917   |      0       |  98144  | 47.57587004 |\n|      230      |   1920   |      0       |  98107  | 47.66737217 |\n|       0       |   1999   |      0       |  98010  | 47.31068733 |\n|       0       |   2006   |      0       |  98055  | 47.44911017 |\n|       0       |   1979   |      0       |  98001  | 47.33933392 |\n|      660      |   1918   |      0       |  98106  | 47.53271982 |\n|      700      |   1963   |      0       |  98177  | 47.76407345 |\n|      180      |   1966   |      0       |  98028  | 47.76382378 |\n+---------------+----------+--------------+---------+-------------+\n+---------------+---------------+-----+\n|      long     | sqft_living15 | ... |\n+---------------+---------------+-----+\n| -122.28583258 |     2580.0    | ... |\n| -122.02177564 |     2710.0    | ... |\n|   -122.28796  |     1360.0    | ... |\n| -122.36472902 |     1700.0    | ... |\n|  -122.0012452 |     1560.0    | ... |\n|  -122.1878086 |     1610.0    | ... |\n| -122.25864364 |     1920.0    | ... |\n| -122.34716948 |     1190.0    | ... |\n| -122.36361517 |     1850.0    | ... |\n| -122.27022456 |     2590.0    | ... |\n+---------------+---------------+-----+\n[10 rows x 21 columns]"
      ]
     },
     "execution_count": 424,
     "metadata": {},
     "output_type": "execute_result"
    }
   ],
   "source": [
    "train_valid_shuffled[0:10] # rows 0 to 9"
   ]
  },
  {
   "cell_type": "markdown",
   "metadata": {
    "ein.tags": [
     "worksheet-0"
    ]
   },
   "source": [
    "Now let us extract individual segments with array slicing. Consider the scenario where we group the houses in the `train_valid_shuffled` dataframe into k=10 segments of roughly equal size, with starting and ending indices computed as above.\n",
    "Extract the fourth segment (segment 3) and assign it to a variable called `validation4`."
   ]
  },
  {
   "cell_type": "code",
   "execution_count": 425,
   "metadata": {
    "autoscroll": "json-false",
    "collapsed": false,
    "ein.tags": [
     "worksheet-0"
    ]
   },
   "outputs": [],
   "source": [
    "validation4 = train_valid_shuffled[5818:7758]"
   ]
  },
  {
   "cell_type": "markdown",
   "metadata": {
    "ein.tags": [
     "worksheet-0"
    ]
   },
   "source": [
    "To verify that we have the right elements extracted, run the following cell, which computes the average price of the fourth segment. When rounded to nearest whole number, the average should be $536,234."
   ]
  },
  {
   "cell_type": "code",
   "execution_count": 426,
   "metadata": {
    "autoscroll": "json-false",
    "collapsed": false,
    "ein.tags": [
     "worksheet-0"
    ]
   },
   "outputs": [],
   "source": [
    "actual = int(round(validation4['price'].mean(), 0))\n",
    "expected = 536234\n",
    "assert actual == expected, \"actual - expected = {0}\".format(actual-expected)"
   ]
  },
  {
   "cell_type": "markdown",
   "metadata": {
    "ein.tags": [
     "worksheet-0"
    ]
   },
   "source": [
    "After designating one of the k segments as the validation set, we train a model using the rest of the data. To choose the remainder, we slice (0:start) and (end+1:n) of the data and paste them together. SFrame has an `append()` method that pastes together two disjoint sets of rows originating from a common dataset. For instance, the following cell pastes together the first and last two rows of the `train_valid_shuffled` dataframe."
   ]
  },
  {
   "cell_type": "code",
   "execution_count": 427,
   "metadata": {
    "autoscroll": "json-false",
    "collapsed": false,
    "ein.tags": [
     "worksheet-0"
    ]
   },
   "outputs": [
    {
     "name": "stdout",
     "output_type": "stream",
     "text": [
      "+------------+---------------------------+-----------+----------+-----------+\n",
      "|     id     |            date           |   price   | bedrooms | bathrooms |\n",
      "+------------+---------------------------+-----------+----------+-----------+\n",
      "| 2780400035 | 2014-05-05 00:00:00+00:00 |  665000.0 |   4.0    |    2.5    |\n",
      "| 1703050500 | 2015-03-21 00:00:00+00:00 |  645000.0 |   3.0    |    2.5    |\n",
      "| 4139480190 | 2014-09-16 00:00:00+00:00 | 1153000.0 |   3.0    |    3.25   |\n",
      "| 7237300290 | 2015-03-26 00:00:00+00:00 |  338000.0 |   5.0    |    2.5    |\n",
      "+------------+---------------------------+-----------+----------+-----------+\n",
      "+-------------+----------+--------+------------+------+-----------+-------+------------+\n",
      "| sqft_living | sqft_lot | floors | waterfront | view | condition | grade | sqft_above |\n",
      "+-------------+----------+--------+------------+------+-----------+-------+------------+\n",
      "|    2800.0   |   5900   |   1    |     0      |  0   |     3     |   8   |    1660    |\n",
      "|    2490.0   |   5978   |   2    |     0      |  0   |     3     |   9   |    2490    |\n",
      "|    3780.0   |  10623   |   1    |     0      |  1   |     3     |   11  |    2650    |\n",
      "|    2400.0   |   4496   |   2    |     0      |  0   |     3     |   7   |    2400    |\n",
      "+-------------+----------+--------+------------+------+-----------+-------+------------+\n",
      "+---------------+----------+--------------+---------+-------------+\n",
      "| sqft_basement | yr_built | yr_renovated | zipcode |     lat     |\n",
      "+---------------+----------+--------------+---------+-------------+\n",
      "|      1140     |   1963   |      0       |  98115  | 47.68093246 |\n",
      "|       0       |   2003   |      0       |  98074  | 47.62984888 |\n",
      "|      1130     |   1999   |      0       |  98006  | 47.55061236 |\n",
      "|       0       |   2004   |      0       |  98042  | 47.36923712 |\n",
      "+---------------+----------+--------------+---------+-------------+\n",
      "+---------------+---------------+-----+\n",
      "|      long     | sqft_living15 | ... |\n",
      "+---------------+---------------+-----+\n",
      "| -122.28583258 |     2580.0    | ... |\n",
      "| -122.02177564 |     2710.0    | ... |\n",
      "| -122.10144844 |     3850.0    | ... |\n",
      "| -122.12606473 |     1880.0    | ... |\n",
      "+---------------+---------------+-----+\n",
      "[4 rows x 21 columns]\n",
      "\n"
     ]
    }
   ],
   "source": [
    "n = len(train_valid_shuffled)\n",
    "first_two = train_valid_shuffled[0:2]\n",
    "last_two = train_valid_shuffled[n-2:n]\n",
    "print first_two.append(last_two)"
   ]
  },
  {
   "cell_type": "markdown",
   "metadata": {
    "ein.tags": [
     "worksheet-0"
    ]
   },
   "source": [
    "Extract the remainder of the data after *excluding* fourth segment (segment 3) and assign the subset to `train4`."
   ]
  },
  {
   "cell_type": "code",
   "execution_count": 428,
   "metadata": {
    "autoscroll": "json-false",
    "collapsed": false,
    "ein.tags": [
     "worksheet-0"
    ]
   },
   "outputs": [],
   "source": [
    "train4 = train_valid_shuffled[0:5818]\n",
    "train4 = train4.append(train_valid_shuffled[7758:n])"
   ]
  },
  {
   "cell_type": "markdown",
   "metadata": {
    "ein.tags": [
     "worksheet-0"
    ]
   },
   "source": [
    "To verify that we have the right elements extracted, run the following cell, which computes the average price of the data with fourth segment excluded. When rounded to nearest whole number, the average should be $539,450."
   ]
  },
  {
   "cell_type": "code",
   "execution_count": 429,
   "metadata": {
    "autoscroll": "json-false",
    "collapsed": false,
    "ein.tags": [
     "worksheet-0"
    ]
   },
   "outputs": [],
   "source": [
    "actual = int(round(train4['price'].mean(), 0))\n",
    "expected = 539450\n",
    "assert actual == expected"
   ]
  },
  {
   "cell_type": "markdown",
   "metadata": {
    "ein.tags": [
     "worksheet-0"
    ]
   },
   "source": [
    "Now we are ready to implement k-fold cross-validation. Write a function that computes k validation errors by designating each of the k segments as the validation set. It accepts as parameters (i) `k`, (ii) `l2_penalty`, (iii) dataframe, (iv) name of output column (e.g. `price`) and (v) list of feature names. The function returns the average validation error using k segments as validation sets.\n",
    "\n",
    "* For each i in [0, 1, ..., k-1]:\n",
    "  * Compute starting and ending indices of segment i and call 'start' and 'end'\n",
    "  * Form validation set by taking a slice (start:end+1) from the data.\n",
    "  * Form training set by appending slice (end+1:n) to the end of slice (0:start).\n",
    "  * Train a linear model using training set just formed, with a given l2_penalty\n",
    "  * Compute validation error using validation set just formed"
   ]
  },
  {
   "cell_type": "code",
   "execution_count": 430,
   "metadata": {
    "autoscroll": "json-false",
    "collapsed": false,
    "ein.tags": [
     "worksheet-0"
    ]
   },
   "outputs": [],
   "source": [
    "DataSets = namedtuple('DataSets', 'validation training poly_data features'.split())\n",
    "DataSlices = namedtuple('DataSlices', 'validation training'.split())"
   ]
  },
  {
   "cell_type": "code",
   "execution_count": 431,
   "metadata": {
    "autoscroll": "json-false",
    "collapsed": false,
    "ein.tags": [
     "worksheet-0"
    ]
   },
   "outputs": [],
   "source": [
    "def get_slices(fold, k, raw_data, verbose=False):\n",
    "    \"\"\"\n",
    "    :param:\n",
    "     - `fold`: the current fold\n",
    "     - `k`: number of folds\n",
    "     - `verbose`: print slice start and end if True\n",
    "    :return: DataSlices tuple\n",
    "    \"\"\"\n",
    "    # setup the slice indices\n",
    "    total = len(raw_data)\n",
    "    start = (total * fold)/k\n",
    "    end = (total * (fold + 1)/k) - 1\n",
    "    \n",
    "    if verbose:\n",
    "        print('start: {0}'.format(start))\n",
    "        print('end: {0}'.format(end))\n",
    "\n",
    "    # get the validation and training sets\n",
    "    if start == 0:\n",
    "        training = raw_data[end + 1: total]\n",
    "    else:\n",
    "        training = raw_data[0:start].append(raw_data[end + 1: total])\n",
    "    validation = raw_data[start:end + 1]\n",
    "    return DataSlices(validation=validation, training=training)"
   ]
  },
  {
   "cell_type": "code",
   "execution_count": 432,
   "metadata": {
    "autoscroll": "json-false",
    "collapsed": false,
    "ein.tags": [
     "worksheet-0"
    ]
   },
   "outputs": [],
   "source": [
    "test_data = graphlab.SFrame({\"x\":range(100)})\n",
    "for i in range(10):\n",
    "    output = get_slices(i, 10, test_data)\n",
    "    assert len(output.validation) == 10, len(output.validation)\n",
    "    assert output.validation['x'][0] == i * 10, output.validation\n",
    "    assert len(output.training) == 90, \"i: {0} first_validation: {1}\".format(i, output.validation[0])"
   ]
  },
  {
   "cell_type": "code",
   "execution_count": 433,
   "metadata": {
    "autoscroll": "json-false",
    "collapsed": false,
    "ein.tags": [
     "worksheet-0"
    ]
   },
   "outputs": [],
   "source": [
    "def get_data_sets(fold, k, raw_data, verbose=False):\n",
    "    \"\"\"\n",
    "    :param:\n",
    "     - `fold`: the current fold\n",
    "     - `k`: total number of folds\n",
    "     - `raw_data`: data to split up\n",
    "     - `verbose`: if true, print some output as you go\n",
    "\n",
    "    :return: DataSets tuple\n",
    "    \"\"\"\n",
    "    data_slices = get_slices(fold=fold, k=k, raw_data=raw_data, verbose=verbose)\n",
    "    # create the 15-degree polynomial data set\n",
    "    poly_data = polynomial_sframe(data_slices.training[Constants.predictor], 15)\n",
    "    features = poly_data.column_names()\n",
    "    poly_data[Constants.target] = data_slices.training[Constants.target]\n",
    "    \n",
    "    return DataSets(validation=data_slices.validation,\n",
    "                    training=data_slices.training,\n",
    "                    poly_data=poly_data,\n",
    "                    features=features)"
   ]
  },
  {
   "cell_type": "code",
   "execution_count": 497,
   "metadata": {
    "autoscroll": "json-false",
    "collapsed": false,
    "ein.tags": [
     "worksheet-0"
    ]
   },
   "outputs": [],
   "source": [
    "def get_model(poly_data, features, penalty, verbose=False):\n",
    "    if verbose:\n",
    "        print('model penalty: {0}'.format(penalty))\n",
    "    return graphlab.linear_regression.create(poly_data,\n",
    "                                             target=Constants.target,\n",
    "                                             features=features,\n",
    "                                             validation_set=None,\n",
    "                                             l2_penalty=penalty,\n",
    "                                             verbose=False)\n"
   ]
  },
  {
   "cell_type": "code",
   "execution_count": 526,
   "metadata": {
    "autoscroll": "json-false",
    "collapsed": false,
    "ein.tags": [
     "worksheet-0"
    ]
   },
   "outputs": [],
   "source": [
    "def get_error(fold, k, raw_data, penalty, data_sets=None, verbose=False):\n",
    "    model = get_model(data_sets.poly_data, data_sets.features, penalty, verbose=verbose)\n",
    "    if verbose:\n",
    "        print(model.get('coefficients'))    \n",
    "    predictions = model.predict(polynomial_sframe(data_sets.validation[Constants.predictor], 15))\n",
    "    residuals = predictions - data_sets.validation[Constants.target]\n",
    "    return (residuals**2).sum()\n",
    "\n",
    "\n",
    "def k_fold_cross_validation(k, l2_penalty, data, output_name, data_sets=None, verbose=False):\n",
    "    errors = []\n",
    "    for fold, data_set in enumerate(data_sets):\n",
    "        error = get_error(fold=fold, k=k,\n",
    "                          raw_data=data, data_sets=data_set, penalty=l2_penalty,\n",
    "                          verbose=verbose)\n",
    "        if verbose:\n",
    "            print(\"k-fold ({0}) error: {1}\".format(fold, error))\n",
    "        errors.append(error)\n",
    "    return sum(errors)/float(len(errors))\n",
    "        "
   ]
  },
  {
   "cell_type": "code",
   "execution_count": 486,
   "metadata": {
    "autoscroll": "json-false",
    "collapsed": false,
    "ein.tags": [
     "worksheet-0"
    ]
   },
   "outputs": [
    {
     "data": {
      "text/plain": [
       "<matplotlib.figure.Figure at 0x7ff882fa8e50>"
      ]
     },
     "metadata": {},
     "output_type": "display_data"
    },
    {
     "data": {
      "text/plain": [
       "<matplotlib.figure.Figure at 0x7ff88386d410>"
      ]
     },
     "metadata": {},
     "output_type": "display_data"
    },
    {
     "data": {
      "text/plain": [
       "<matplotlib.figure.Figure at 0x7ff882b59f90>"
      ]
     },
     "metadata": {},
     "output_type": "display_data"
    },
    {
     "data": {
      "text/plain": [
       "<matplotlib.figure.Figure at 0x7ff883a55310>"
      ]
     },
     "metadata": {},
     "output_type": "display_data"
    },
    {
     "data": {
      "text/plain": [
       "<matplotlib.figure.Figure at 0x7ff882a01210>"
      ]
     },
     "metadata": {},
     "output_type": "display_data"
    },
    {
     "data": {
      "text/plain": [
       "<matplotlib.figure.Figure at 0x7ff882e4a710>"
      ]
     },
     "metadata": {},
     "output_type": "display_data"
    },
    {
     "data": {
      "text/plain": [
       "<matplotlib.figure.Figure at 0x7ff883557ad0>"
      ]
     },
     "metadata": {},
     "output_type": "display_data"
    },
    {
     "data": {
      "text/plain": [
       "<matplotlib.figure.Figure at 0x7ff88329b890>"
      ]
     },
     "metadata": {},
     "output_type": "display_data"
    },
    {
     "data": {
      "text/plain": [
       "<matplotlib.figure.Figure at 0x7ff88368ab90>"
      ]
     },
     "metadata": {},
     "output_type": "display_data"
    },
    {
     "data": {
      "text/plain": [
       "<matplotlib.figure.Figure at 0x7ff882e47990>"
      ]
     },
     "metadata": {},
     "output_type": "display_data"
    },
    {
     "data": {
      "text/plain": [
       "<matplotlib.figure.Figure at 0x7ff88336c750>"
      ]
     },
     "metadata": {},
     "output_type": "display_data"
    },
    {
     "data": {
      "text/plain": [
       "<matplotlib.figure.Figure at 0x7ff8835204d0>"
      ]
     },
     "metadata": {},
     "output_type": "display_data"
    },
    {
     "data": {
      "text/plain": [
       "<matplotlib.figure.Figure at 0x7ff88377c4d0>"
      ]
     },
     "metadata": {},
     "output_type": "display_data"
    }
   ],
   "source": [
    "training_sorted = train_valid_shuffled.sort([Constants.predictor, Constants.target])\n",
    "for penalty in numpy.logspace(1, 7, num=13):\n",
    "    figure = plot.figure()\n",
    "    axe = figure.gca()\n",
    "\n",
    "    data_sets = get_data_sets(fold=0, k=10,\n",
    "                              raw_data=training_sorted,\n",
    "                              verbose=False)\n",
    "    \n",
    "    model = get_model(data_sets.poly_data, data_sets.features, penalty)\n",
    "    x = data_sets.poly_data[Constants.base_polynomial]\n",
    "    y = model.predict(data_sets.poly_data)\n",
    "\n",
    "    lines = axe.plot(x, data_sets.training[Constants.target], '.', label='data')\n",
    "    lines = axe.plot(x, y, '-', label='model')\n",
    "    legend = axe.legend(loc=\"upper left\")\n",
    "    title = axe.set_title(\"Sq Ft Living vs Price (degree 15, penalty {0}\".format(penalty))\n",
    "    label = axe.set_xlabel(\"Living Area (Sq Ft)\")\n",
    "    label = axe.set_ylabel(\"Price ($)\")"
   ]
  },
  {
   "cell_type": "code",
   "execution_count": 531,
   "metadata": {
    "autoscroll": "json-false",
    "collapsed": false,
    "ein.tags": [
     "worksheet-0"
    ]
   },
   "outputs": [
    {
     "name": "stdout",
     "output_type": "stream",
     "text": [
      "\n"
     ]
    },
    {
     "name": "stdout",
     "output_type": "stream",
     "text": [
      "\n",
      "(10000000.0, 264889015377543.8)"
     ]
    },
    {
     "name": "stdout",
     "output_type": "stream",
     "text": [
      "\n",
      "(3162277.6601683795, 262819399742234.16)"
     ]
    },
    {
     "name": "stdout",
     "output_type": "stream",
     "text": [
      "\n",
      "(1000000.0, 258682548441132.34)"
     ]
    },
    {
     "name": "stdout",
     "output_type": "stream",
     "text": [
      "\n",
      "(316227.76601683791, 252940568728599.8)"
     ]
    },
    {
     "name": "stdout",
     "output_type": "stream",
     "text": [
      "\n",
      "(100000.0, 229361431260422.7)"
     ]
    },
    {
     "name": "stdout",
     "output_type": "stream",
     "text": [
      "\n",
      "(31622.776601683792, 171728094842297.4)"
     ]
    },
    {
     "name": "stdout",
     "output_type": "stream",
     "text": [
      "\n",
      "(10000.0, 136837175247519.05)"
     ]
    },
    {
     "name": "stdout",
     "output_type": "stream",
     "text": [
      "\n",
      "(3162.2776601683795, 123950009289897.62)"
     ]
    },
    {
     "name": "stdout",
     "output_type": "stream",
     "text": [
      "\n",
      "(1000.0, 121192264451214.88)"
     ]
    },
    {
     "name": "stdout",
     "output_type": "stream",
     "text": [
      "\n",
      "(316.22776601683796, 122090967326083.6)"
     ]
    },
    {
     "name": "stdout",
     "output_type": "stream",
     "text": [
      "\n",
      "(100.0, 160908965822178.22)"
     ]
    },
    {
     "name": "stdout",
     "output_type": "stream",
     "text": [
      "(10.0, 491826427768997.7)\n",
      "(31.622776601683793, 287504229919123.44)"
     ]
    }
   ],
   "source": [
    "errors = {}\n",
    "folds = 10\n",
    "ten_data_sets = [get_data_sets(fold, k=folds, raw_data=train_valid_shuffled)\n",
    "                     for fold in range(folds)]\n",
    "for penalty in numpy.logspace(1, 7, num=13):\n",
    "    error = k_fold_cross_validation(k=folds, l2_penalty=penalty,\n",
    "                                    data=train_valid_shuffled,\n",
    "                                    data_sets=ten_data_sets,\n",
    "                                    output_name='what', verbose=False)\n",
    "    print(penalty, error)\n",
    "    errors[penalty] = error"
   ]
  },
  {
   "cell_type": "code",
   "execution_count": 533,
   "metadata": {
    "autoscroll": "json-false",
    "collapsed": false,
    "ein.tags": [
     "worksheet-0"
    ]
   },
   "outputs": [
    {
     "name": "stdout",
     "output_type": "stream",
     "text": [
      "Min: penalty = 1000.0 error = 1.21192264451e+14\n",
      "Max: penalty = 10.0 error = 4.91826427769e+14\n"
     ]
    }
   ],
   "source": [
    "e_values = errors.values()\n",
    "min_error = min(e_values)\n",
    "max_error = max(e_values)\n",
    "for penalty, error in errors.items():\n",
    "    if error == min_error:\n",
    "        print(\"Min: penalty = {0} error = {1}\".format(penalty, error))\n",
    "    elif error == max_error:\n",
    "        print(\"Max: penalty = {0} error = {1}\".format(penalty, error))\n"
   ]
  },
  {
   "cell_type": "markdown",
   "metadata": {
    "ein.tags": [
     "worksheet-0"
    ]
   },
   "source": [
    "Once we have a function to compute the average validation error for a model, we can write a loop to find the model that minimizes the average validation error. Write a loop that does the following:\n",
    "* We will again be aiming to fit a 15th-order polynomial model using the `sqft_living` input\n",
    "* For `l2_penalty` in [10^1, 10^1.5, 10^2, 10^2.5, ..., 10^7] (to get this in Python, you can use this Numpy function: `np.logspace(1, 7, num=13)`.)\n",
    "    * Run 10-fold cross-validation with `l2_penalty`\n",
    "* Report which L2 penalty produced the lowest average validation error.\n",
    "\n",
    "Note: since the degree of the polynomial is now fixed to 15, to make things faster, you should generate polynomial features in advance and re-use them throughout the loop. Make sure to use `train_valid_shuffled` when generating polynomial features!"
   ]
  },
  {
   "cell_type": "markdown",
   "metadata": {
    "ein.tags": [
     "worksheet-0"
    ]
   },
   "source": [
    "***QUIZ QUESTIONS:  What is the best value for the L2 penalty according to 10-fold validation?***"
   ]
  },
  {
   "cell_type": "markdown",
   "metadata": {
    "ein.tags": [
     "worksheet-0"
    ]
   },
   "source": [
    "Best l2 value : 1000"
   ]
  },
  {
   "cell_type": "markdown",
   "metadata": {
    "ein.tags": [
     "worksheet-0"
    ]
   },
   "source": [
    "You may find it useful to plot the k-fold cross-validation errors you have obtained to better understand the behavior of the method.  "
   ]
  },
  {
   "cell_type": "code",
   "execution_count": 539,
   "metadata": {
    "autoscroll": "json-false",
    "collapsed": false,
    "ein.tags": [
     "worksheet-0"
    ]
   },
   "outputs": [
    {
     "data": {
      "text/plain": [
       "<matplotlib.figure.Figure at 0x7ff882d19090>"
      ]
     },
     "metadata": {},
     "output_type": "display_data"
    }
   ],
   "source": [
    "# Plot the l2_penalty values in the x axis and the cross-validation error in the y axis.\n",
    "# Using plt.xscale('log') will make your plot more intuitive.\n",
    "figure = plot.figure()\n",
    "axe = figure.gca()\n",
    "axe.set_xscale('log')\n",
    "x = sorted(errors.keys())\n",
    "y = [errors[penalty] for penalty in x]\n",
    "lines = axe.plot(x, y)\n",
    "axe.set_xlabel(\"Penalty (log)\")\n",
    "axe.set_ylabel('Mean RSS')\n",
    "title = axe.set_title(\"Penalty vs Error\")\n"
   ]
  },
  {
   "cell_type": "markdown",
   "metadata": {
    "ein.tags": [
     "worksheet-0"
    ]
   },
   "source": [
    "Once you found the best value for the L2 penalty using cross-validation, it is important to retrain a final model on all of the training data using this value of `l2_penalty`.  This way, your final model will be trained on the entire dataset."
   ]
  },
  {
   "cell_type": "code",
   "execution_count": 543,
   "metadata": {
    "autoscroll": "json-false",
    "collapsed": false,
    "ein.tags": [
     "worksheet-0"
    ]
   },
   "outputs": [],
   "source": [
    "poly_data = polynomial_sframe(train_valid_shuffled[Constants.predictor], 15)\n",
    "features = poly_data.column_names()\n",
    "poly_data[Constants.target] = train_valid_shuffled[Constants.target]\n",
    "best_model = graphlab.linear_regression.create(poly_data,\n",
    "                                               target=Constants.target,\n",
    "                                               features=features,\n",
    "                                               validation_set=None,\n",
    "                                               l2_penalty=min_error,\n",
    "                                               verbose=False)\n"
   ]
  },
  {
   "cell_type": "markdown",
   "metadata": {
    "ein.tags": [
     "worksheet-0"
    ]
   },
   "source": [
    "***QUIZ QUESTION: Using the best L2 penalty found above, train a model using all training data. What is the RSS on the TEST data of the model you learn with this L2 penalty? ***"
   ]
  },
  {
   "cell_type": "code",
   "execution_count": 556,
   "metadata": {
    "autoscroll": "json-false",
    "collapsed": false,
    "ein.tags": [
     "worksheet-0"
    ]
   },
   "outputs": [
    {
     "name": "stdout",
     "output_type": "stream",
     "text": [
      "RSS: 2.52897427387e+14\n"
     ]
    }
   ],
   "source": [
    "predictions = best_model.predict(polynomial_sframe(test[Constants.predictor], 15))\n",
    "residuals = predictions - test[Constants.target]\n",
    "\n",
    "print(\"RSS: {0}\".format((residuals**2).sum()))"
   ]
  }
 ],
 "metadata": {
  "kernelspec": {
   "display_name": "Python 2",
   "language": "python",
   "name": "python2"
  },
  "language_info": {
   "codemirror_mode": {
    "name": "ipython",
    "version": 2
   },
   "file_extension": ".py",
   "mimetype": "text/x-python",
   "name": "python",
   "nbconvert_exporter": "python",
   "pygments_lexer": "ipython2",
   "version": "2.7.10"
  },
  "name": "week-4-ridge-regression-assignment-1-blank.ipynb"
 },
 "nbformat": 4,
 "nbformat_minor": 0
}
